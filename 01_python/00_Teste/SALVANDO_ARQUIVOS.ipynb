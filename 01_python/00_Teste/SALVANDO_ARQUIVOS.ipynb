{
 "cells": [
  {
   "cell_type": "markdown",
   "id": "70bbb924",
   "metadata": {},
   "source": [
    "# Salvando os dados em arquivos"
   ]
  },
  {
   "cell_type": "code",
   "execution_count": 2,
   "id": "d3fbae71",
   "metadata": {},
   "outputs": [],
   "source": [
    "# importando as libs\n",
    "import pandas as pd\n",
    "import numpy as np"
   ]
  },
  {
   "cell_type": "code",
   "execution_count": 8,
   "id": "5da7fa3e",
   "metadata": {},
   "outputs": [
    {
     "data": {
      "text/html": [
       "<div>\n",
       "<style scoped>\n",
       "    .dataframe tbody tr th:only-of-type {\n",
       "        vertical-align: middle;\n",
       "    }\n",
       "\n",
       "    .dataframe tbody tr th {\n",
       "        vertical-align: top;\n",
       "    }\n",
       "\n",
       "    .dataframe thead th {\n",
       "        text-align: right;\n",
       "    }\n",
       "</style>\n",
       "<table border=\"1\" class=\"dataframe\">\n",
       "  <thead>\n",
       "    <tr style=\"text-align: right;\">\n",
       "      <th></th>\n",
       "      <th>nome</th>\n",
       "      <th>idade</th>\n",
       "      <th>função</th>\n",
       "    </tr>\n",
       "  </thead>\n",
       "  <tbody>\n",
       "    <tr>\n",
       "      <th>0</th>\n",
       "      <td>Barry</td>\n",
       "      <td>28</td>\n",
       "      <td>Fotografo</td>\n",
       "    </tr>\n",
       "    <tr>\n",
       "      <th>1</th>\n",
       "      <td>Kara</td>\n",
       "      <td>32</td>\n",
       "      <td>Secretaria</td>\n",
       "    </tr>\n",
       "    <tr>\n",
       "      <th>2</th>\n",
       "      <td>Clark</td>\n",
       "      <td>52</td>\n",
       "      <td>Reporter</td>\n",
       "    </tr>\n",
       "  </tbody>\n",
       "</table>\n",
       "</div>"
      ],
      "text/plain": [
       "    nome  idade      função\n",
       "0  Barry     28   Fotografo\n",
       "1   Kara     32  Secretaria\n",
       "2  Clark     52    Reporter"
      ]
     },
     "execution_count": 8,
     "metadata": {},
     "output_type": "execute_result"
    }
   ],
   "source": [
    "dadosFrame = {\n",
    "    'nome': ['Barry', 'Kara', 'Clark'],\n",
    "    'idade': [28, 32, 52],\n",
    "    'função': ['Fotografo', 'Secretaria', 'Reporter']\n",
    "}\n",
    "\n",
    "df = pd.DataFrame(dadosFrame)\n",
    "df"
   ]
  },
  {
   "cell_type": "markdown",
   "id": "62782656",
   "metadata": {},
   "source": [
    "# Salvando em Excel"
   ]
  },
  {
   "cell_type": "code",
   "execution_count": 9,
   "id": "f11bdc33",
   "metadata": {},
   "outputs": [],
   "source": [
    "# Herois.xlsx é o nome para o arquivo\n",
    "# Planilha1 é o nome para a planilha\n",
    "df.to_excel(\"Herois.xlsx\", \"Planilha1\")"
   ]
  },
  {
   "cell_type": "markdown",
   "id": "bc0ac9c9",
   "metadata": {},
   "source": [
    "# Salvando em CSV"
   ]
  },
  {
   "cell_type": "code",
   "execution_count": 10,
   "id": "85bfd653",
   "metadata": {},
   "outputs": [],
   "source": [
    "df.to_csv(\"Meus_Herois.csv\")"
   ]
  },
  {
   "cell_type": "markdown",
   "id": "3d9deec5",
   "metadata": {},
   "source": [
    "# Salvando em JSON"
   ]
  },
  {
   "cell_type": "code",
   "execution_count": 11,
   "id": "6a1c9593",
   "metadata": {},
   "outputs": [],
   "source": [
    "df.to_json(\"Meus_Herois_2.json\")"
   ]
  },
  {
   "cell_type": "markdown",
   "id": "b39a5ab0",
   "metadata": {},
   "source": [
    "# Salvando em HTML"
   ]
  },
  {
   "cell_type": "code",
   "execution_count": 12,
   "id": "621cab3f",
   "metadata": {},
   "outputs": [],
   "source": [
    "df.to_html(\"MinhaPaginaHerois.html\")"
   ]
  },
  {
   "cell_type": "code",
   "execution_count": null,
   "id": "49a2203c",
   "metadata": {},
   "outputs": [],
   "source": []
  }
 ],
 "metadata": {
  "kernelspec": {
   "display_name": "Python 3",
   "language": "python",
   "name": "python3"
  },
  "language_info": {
   "codemirror_mode": {
    "name": "ipython",
    "version": 3
   },
   "file_extension": ".py",
   "mimetype": "text/x-python",
   "name": "python",
   "nbconvert_exporter": "python",
   "pygments_lexer": "ipython3",
   "version": "3.8.8"
  }
 },
 "nbformat": 4,
 "nbformat_minor": 5
}

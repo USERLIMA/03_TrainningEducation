{
 "cells": [
  {
   "cell_type": "markdown",
   "id": "ef7b6011",
   "metadata": {},
   "source": [
    "# GroupBy\n",
    "\n",
    "- Trabalhamos com esse termo quando queremos agrupar informações repetidas."
   ]
  },
  {
   "cell_type": "code",
   "execution_count": 1,
   "id": "7b086da7",
   "metadata": {},
   "outputs": [],
   "source": [
    "# Importando as libs\n",
    "import pandas as pd"
   ]
  },
  {
   "cell_type": "code",
   "execution_count": 2,
   "id": "6c427652",
   "metadata": {},
   "outputs": [],
   "source": [
    "# Criando o nosso dicionário de dados\n",
    "compras = {\n",
    "    'Id': [\"AA2930\", \"AA2930\", \"CC2139\", \"CC2139\", \"CC9999\", \"AA2930\"],\n",
    "    'Data': [\"2019-01-01\", \"2019-01-30\",\"2019-01-30\",\n",
    "             \"2019-02-01\",\"2019-02-20\",\"2019-03-15\"],\n",
    "    'Valor': [200,100,400,150,10,25]\n",
    "}"
   ]
  },
  {
   "cell_type": "code",
   "execution_count": 3,
   "id": "5e5d6ce1",
   "metadata": {},
   "outputs": [
    {
     "data": {
      "text/plain": [
       "{'Id': ['AA2930', 'AA2930', 'CC2139', 'CC2139', 'CC9999', 'AA2930'],\n",
       " 'Data': ['2019-01-01',\n",
       "  '2019-01-30',\n",
       "  '2019-01-30',\n",
       "  '2019-02-01',\n",
       "  '2019-02-20',\n",
       "  '2019-03-15'],\n",
       " 'Valor': [200, 100, 400, 150, 10, 25]}"
      ]
     },
     "execution_count": 3,
     "metadata": {},
     "output_type": "execute_result"
    }
   ],
   "source": [
    "compras"
   ]
  },
  {
   "cell_type": "code",
   "execution_count": 4,
   "id": "ac342ec9",
   "metadata": {},
   "outputs": [],
   "source": [
    "# Criando o DataFrame\n",
    "compras = pd.DataFrame(\n",
    "    compras,\n",
    "    columns = ['Id','Data','Valor']\n",
    ")"
   ]
  },
  {
   "cell_type": "code",
   "execution_count": 5,
   "id": "278d51f4",
   "metadata": {},
   "outputs": [
    {
     "data": {
      "text/html": [
       "<div>\n",
       "<style scoped>\n",
       "    .dataframe tbody tr th:only-of-type {\n",
       "        vertical-align: middle;\n",
       "    }\n",
       "\n",
       "    .dataframe tbody tr th {\n",
       "        vertical-align: top;\n",
       "    }\n",
       "\n",
       "    .dataframe thead th {\n",
       "        text-align: right;\n",
       "    }\n",
       "</style>\n",
       "<table border=\"1\" class=\"dataframe\">\n",
       "  <thead>\n",
       "    <tr style=\"text-align: right;\">\n",
       "      <th></th>\n",
       "      <th>Id</th>\n",
       "      <th>Data</th>\n",
       "      <th>Valor</th>\n",
       "    </tr>\n",
       "  </thead>\n",
       "  <tbody>\n",
       "    <tr>\n",
       "      <th>0</th>\n",
       "      <td>AA2930</td>\n",
       "      <td>2019-01-01</td>\n",
       "      <td>200</td>\n",
       "    </tr>\n",
       "    <tr>\n",
       "      <th>1</th>\n",
       "      <td>AA2930</td>\n",
       "      <td>2019-01-30</td>\n",
       "      <td>100</td>\n",
       "    </tr>\n",
       "    <tr>\n",
       "      <th>2</th>\n",
       "      <td>CC2139</td>\n",
       "      <td>2019-01-30</td>\n",
       "      <td>400</td>\n",
       "    </tr>\n",
       "    <tr>\n",
       "      <th>3</th>\n",
       "      <td>CC2139</td>\n",
       "      <td>2019-02-01</td>\n",
       "      <td>150</td>\n",
       "    </tr>\n",
       "    <tr>\n",
       "      <th>4</th>\n",
       "      <td>CC9999</td>\n",
       "      <td>2019-02-20</td>\n",
       "      <td>10</td>\n",
       "    </tr>\n",
       "    <tr>\n",
       "      <th>5</th>\n",
       "      <td>AA2930</td>\n",
       "      <td>2019-03-15</td>\n",
       "      <td>25</td>\n",
       "    </tr>\n",
       "  </tbody>\n",
       "</table>\n",
       "</div>"
      ],
      "text/plain": [
       "       Id        Data  Valor\n",
       "0  AA2930  2019-01-01    200\n",
       "1  AA2930  2019-01-30    100\n",
       "2  CC2139  2019-01-30    400\n",
       "3  CC2139  2019-02-01    150\n",
       "4  CC9999  2019-02-20     10\n",
       "5  AA2930  2019-03-15     25"
      ]
     },
     "execution_count": 5,
     "metadata": {},
     "output_type": "execute_result"
    }
   ],
   "source": [
    "compras"
   ]
  },
  {
   "cell_type": "code",
   "execution_count": 6,
   "id": "237f1095",
   "metadata": {},
   "outputs": [
    {
     "data": {
      "text/plain": [
       "Id\n",
       "AA2930    325\n",
       "CC2139    550\n",
       "CC9999     10\n",
       "Name: Valor, dtype: int64"
      ]
     },
     "execution_count": 6,
     "metadata": {},
     "output_type": "execute_result"
    }
   ],
   "source": [
    "# Agrupar os valores repetidos pelo ID\n",
    "# Efetuando a soma de todas as compras(Valor) que a pessoa fez\n",
    "compras.groupby(['Id'])['Valor'].sum()"
   ]
  },
  {
   "cell_type": "code",
   "execution_count": 7,
   "id": "6494972e",
   "metadata": {},
   "outputs": [
    {
     "data": {
      "text/plain": [
       "Id\n",
       "AA2930    108.333333\n",
       "CC2139    275.000000\n",
       "CC9999     10.000000\n",
       "Name: Valor, dtype: float64"
      ]
     },
     "execution_count": 7,
     "metadata": {},
     "output_type": "execute_result"
    }
   ],
   "source": [
    "# Fazendo a média de gastos\n",
    "compras.groupby(['Id'])['Valor'].mean()"
   ]
  },
  {
   "cell_type": "markdown",
   "id": "0de200ff",
   "metadata": {},
   "source": [
    "# Agrupamento para Valores Acima de 30"
   ]
  },
  {
   "cell_type": "code",
   "execution_count": 8,
   "id": "0850dfb2",
   "metadata": {},
   "outputs": [],
   "source": [
    "# Criando um novo DataFrame chamado Compras Acima 30\n",
    "# Que vai receber os dados de compras > 30\n",
    "comprasAcima30 = compras[compras['Valor'] > 30]"
   ]
  },
  {
   "cell_type": "code",
   "execution_count": 9,
   "id": "106cb7e1",
   "metadata": {},
   "outputs": [
    {
     "data": {
      "text/plain": [
       "Id\n",
       "AA2930    300\n",
       "CC2139    550\n",
       "Name: Valor, dtype: int64"
      ]
     },
     "execution_count": 9,
     "metadata": {},
     "output_type": "execute_result"
    }
   ],
   "source": [
    "# Fazendo o Agrupamento\n",
    "comprasAcima30.groupby(['Id'])['Valor'].sum()"
   ]
  },
  {
   "cell_type": "code",
   "execution_count": 10,
   "id": "2d31318a",
   "metadata": {},
   "outputs": [
    {
     "data": {
      "text/plain": [
       "Id\n",
       "AA2930    300\n",
       "CC2139    550\n",
       "Name: Valor, dtype: int64"
      ]
     },
     "execution_count": 10,
     "metadata": {},
     "output_type": "execute_result"
    }
   ],
   "source": [
    "# Uma outra possibilidade é\n",
    "compras[compras['Valor'] > 30].groupby(['Id'])['Valor'].sum()"
   ]
  },
  {
   "cell_type": "code",
   "execution_count": null,
   "id": "e6a4ff74",
   "metadata": {},
   "outputs": [],
   "source": []
  }
 ],
 "metadata": {
  "kernelspec": {
   "display_name": "Python 3",
   "language": "python",
   "name": "python3"
  },
  "language_info": {
   "codemirror_mode": {
    "name": "ipython",
    "version": 3
   },
   "file_extension": ".py",
   "mimetype": "text/x-python",
   "name": "python",
   "nbconvert_exporter": "python",
   "pygments_lexer": "ipython3",
   "version": "3.8.8"
  }
 },
 "nbformat": 4,
 "nbformat_minor": 5
}

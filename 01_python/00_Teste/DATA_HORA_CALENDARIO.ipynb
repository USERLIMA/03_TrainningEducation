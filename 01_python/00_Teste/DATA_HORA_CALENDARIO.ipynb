{
 "cells": [
  {
   "cell_type": "markdown",
   "id": "b8e8afa5",
   "metadata": {},
   "source": [
    "# DATE and TIME\n",
    "\n",
    " - Um programa Python pode lidar com data e hora de várias maneiras. Converter entre formatos de data é uma tarefa comum para computadores. Os módulos de hora e calendário do Python ajudam a rastrear datas e horas. \n",
    " \n",
    " # TICK\n",
    " \n",
    " - São os ciclos para trabalhar com data e hora. Intervalos de tempo são números de ponto flutuantes (floats) em unidades de segundos. instantes específicosno tempo são expressos em segundos desde as 00:00 de 1º de Janeiro de 1970 (época) até este momento. \n",
    " \n",
    " - Existe um módulo \"time\" popular disponível no Python, que fornece funções para trabalhar com horários e para converte-los entre representações. A função time.time() retorna a hora atual do sistema em ticks desde as 00:00 de 1º de Janeiro de 1970 (época) até este momento. "
   ]
  },
  {
   "cell_type": "code",
   "execution_count": 1,
   "id": "956422cf",
   "metadata": {},
   "outputs": [
    {
     "name": "stdout",
     "output_type": "stream",
     "text": [
      "Nº de tick desde 1º de Janeiro de 1970 1629063928.7410908\n"
     ]
    }
   ],
   "source": [
    "import time # importando um biblioteca chamada \"time\", do Python\n",
    "\n",
    "ticks = time.time()\n",
    "\n",
    "print('Nº de tick desde 1º de Janeiro de 1970', ticks)"
   ]
  },
  {
   "cell_type": "code",
   "execution_count": 4,
   "id": "d073b3a4",
   "metadata": {},
   "outputs": [
    {
     "name": "stdout",
     "output_type": "stream",
     "text": [
      "Hora atual:  time.struct_time(tm_year=2021, tm_mon=8, tm_mday=15, tm_hour=18, tm_min=47, tm_sec=44, tm_wday=6, tm_yday=227, tm_isdst=0)\n"
     ]
    }
   ],
   "source": [
    "# Hora atual \n",
    "\n",
    "LocalTime = time.localtime(time.time())\n",
    "\n",
    "print('Hora atual: ', LocalTime)"
   ]
  },
  {
   "cell_type": "markdown",
   "id": "bd34bdcf",
   "metadata": {},
   "source": [
    "### A aritmética de datas é fácil de fazer com ticks. No entanto, as datas anteriores à época indicada (1 de Janeiro de 1970) não podem ser representadas netes formato. Datas no futuro distante também não podem ser representadas dessa maneira - o ponto de corte é em algum momento de 2038 para UNIX e Windows.\n",
    "\n",
    "OBS: o isdst = 0 indica que não estamos no horário de verão"
   ]
  },
  {
   "cell_type": "code",
   "execution_count": 5,
   "id": "945c9fbb",
   "metadata": {},
   "outputs": [
    {
     "name": "stdout",
     "output_type": "stream",
     "text": [
      "Hora atual:  time.struct_time(tm_year=2021, tm_mon=8, tm_mday=15, tm_hour=18, tm_min=54, tm_sec=0, tm_wday=6, tm_yday=227, tm_isdst=0)\n"
     ]
    }
   ],
   "source": [
    "# Hora atual \n",
    "\n",
    "dados = time.localtime(time.time())\n",
    "\n",
    "print('Hora atual: ', dados)"
   ]
  },
  {
   "cell_type": "code",
   "execution_count": 7,
   "id": "e9ce35fe",
   "metadata": {},
   "outputs": [
    {
     "name": "stdout",
     "output_type": "stream",
     "text": [
      "Data/Hora atual:  Sun Aug 15 19:02:40 2021\n"
     ]
    }
   ],
   "source": [
    "# Ajustando o formato\n",
    "\n",
    "DataHora = time.asctime(time.localtime())\n",
    "\n",
    "print('Data/Hora atual: ', DataHora)"
   ]
  },
  {
   "cell_type": "code",
   "execution_count": 9,
   "id": "dbba2b6c",
   "metadata": {},
   "outputs": [
    {
     "name": "stdout",
     "output_type": "stream",
     "text": [
      "    August 2021\n",
      "Mo Tu We Th Fr Sa Su\n",
      "                   1\n",
      " 2  3  4  5  6  7  8\n",
      " 9 10 11 12 13 14 15\n",
      "16 17 18 19 20 21 22\n",
      "23 24 25 26 27 28 29\n",
      "30 31\n",
      "\n"
     ]
    }
   ],
   "source": [
    "import calendar\n",
    "\n",
    "calendario_mes_atual = calendar.month(2021, 8) # Ano e o mês\n",
    "\n",
    "print(calendario_mes_atual)"
   ]
  },
  {
   "cell_type": "code",
   "execution_count": 10,
   "id": "1b3cfffe",
   "metadata": {},
   "outputs": [
    {
     "name": "stdout",
     "output_type": "stream",
     "text": [
      "                                  2021\n",
      "\n",
      "      January                   February                   March\n",
      "Mo Tu We Th Fr Sa Su      Mo Tu We Th Fr Sa Su      Mo Tu We Th Fr Sa Su\n",
      "             1  2  3       1  2  3  4  5  6  7       1  2  3  4  5  6  7\n",
      " 4  5  6  7  8  9 10       8  9 10 11 12 13 14       8  9 10 11 12 13 14\n",
      "11 12 13 14 15 16 17      15 16 17 18 19 20 21      15 16 17 18 19 20 21\n",
      "18 19 20 21 22 23 24      22 23 24 25 26 27 28      22 23 24 25 26 27 28\n",
      "25 26 27 28 29 30 31                                29 30 31\n",
      "\n",
      "       April                      May                       June\n",
      "Mo Tu We Th Fr Sa Su      Mo Tu We Th Fr Sa Su      Mo Tu We Th Fr Sa Su\n",
      "          1  2  3  4                      1  2          1  2  3  4  5  6\n",
      " 5  6  7  8  9 10 11       3  4  5  6  7  8  9       7  8  9 10 11 12 13\n",
      "12 13 14 15 16 17 18      10 11 12 13 14 15 16      14 15 16 17 18 19 20\n",
      "19 20 21 22 23 24 25      17 18 19 20 21 22 23      21 22 23 24 25 26 27\n",
      "26 27 28 29 30            24 25 26 27 28 29 30      28 29 30\n",
      "                          31\n",
      "\n",
      "        July                     August                  September\n",
      "Mo Tu We Th Fr Sa Su      Mo Tu We Th Fr Sa Su      Mo Tu We Th Fr Sa Su\n",
      "          1  2  3  4                         1             1  2  3  4  5\n",
      " 5  6  7  8  9 10 11       2  3  4  5  6  7  8       6  7  8  9 10 11 12\n",
      "12 13 14 15 16 17 18       9 10 11 12 13 14 15      13 14 15 16 17 18 19\n",
      "19 20 21 22 23 24 25      16 17 18 19 20 21 22      20 21 22 23 24 25 26\n",
      "26 27 28 29 30 31         23 24 25 26 27 28 29      27 28 29 30\n",
      "                          30 31\n",
      "\n",
      "      October                   November                  December\n",
      "Mo Tu We Th Fr Sa Su      Mo Tu We Th Fr Sa Su      Mo Tu We Th Fr Sa Su\n",
      "             1  2  3       1  2  3  4  5  6  7             1  2  3  4  5\n",
      " 4  5  6  7  8  9 10       8  9 10 11 12 13 14       6  7  8  9 10 11 12\n",
      "11 12 13 14 15 16 17      15 16 17 18 19 20 21      13 14 15 16 17 18 19\n",
      "18 19 20 21 22 23 24      22 23 24 25 26 27 28      20 21 22 23 24 25 26\n",
      "25 26 27 28 29 30 31      29 30                     27 28 29 30 31\n",
      "\n"
     ]
    }
   ],
   "source": [
    "# calendar.calendar = lib calendar e o atributo calendar(ano)\n",
    "\n",
    "calendario_ano = calendar.calendar(2021)\n",
    "print(calendario_ano)"
   ]
  },
  {
   "cell_type": "markdown",
   "id": "925ef7d4",
   "metadata": {},
   "source": [
    "# Criando calendários por ano, mês e data específica"
   ]
  },
  {
   "cell_type": "code",
   "execution_count": 11,
   "id": "8bb8da12",
   "metadata": {},
   "outputs": [
    {
     "name": "stdout",
     "output_type": "stream",
     "text": [
      "    January 2012\n",
      "Mo Tu We Th Fr Sa Su\n",
      "                   1\n",
      " 2  3  4  5  6  7  8\n",
      " 9 10 11 12 13 14 15\n",
      "16 17 18 19 20 21 22\n",
      "23 24 25 26 27 28 29\n",
      "30 31\n",
      "\n"
     ]
    }
   ],
   "source": [
    "# Para JAN/2012\n",
    "\n",
    "calendario_JAN_2012 = calendar.month(2012, 1) # Ano e o mês\n",
    "\n",
    "print(calendario_JAN_2012)"
   ]
  },
  {
   "cell_type": "code",
   "execution_count": null,
   "id": "c841884c",
   "metadata": {},
   "outputs": [],
   "source": []
  }
 ],
 "metadata": {
  "kernelspec": {
   "display_name": "Python 3",
   "language": "python",
   "name": "python3"
  },
  "language_info": {
   "codemirror_mode": {
    "name": "ipython",
    "version": 3
   },
   "file_extension": ".py",
   "mimetype": "text/x-python",
   "name": "python",
   "nbconvert_exporter": "python",
   "pygments_lexer": "ipython3",
   "version": "3.8.8"
  }
 },
 "nbformat": 4,
 "nbformat_minor": 5
}

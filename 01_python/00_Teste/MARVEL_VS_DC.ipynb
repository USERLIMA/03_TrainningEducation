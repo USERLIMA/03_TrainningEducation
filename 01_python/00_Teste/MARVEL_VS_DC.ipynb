{
 "cells": [
  {
   "cell_type": "code",
   "execution_count": 3,
   "metadata": {},
   "outputs": [],
   "source": [
    "# Importando as Libs\n",
    "import pandas as pd\n",
    "import numpy as np\n",
    "import matplotlib.pyplot as plt\n",
    "import seaborn as sns\n",
    "\n",
    "plt.rcParams['figure.figsize'] = [12,8]\n"
   ]
  },
  {
   "cell_type": "code",
   "execution_count": 4,
   "metadata": {},
   "outputs": [
    {
     "ename": "SyntaxError",
     "evalue": "(unicode error) 'unicodeescape' codec can't decode bytes in position 2-3: truncated \\UXXXXXXXX escape (Temp/ipykernel_12036/1621173250.py, line 1)",
     "output_type": "error",
     "traceback": [
      "\u001b[1;36m  File \u001b[1;32m\"C:\\Users\\caiol\\AppData\\Local\\Temp/ipykernel_12036/1621173250.py\"\u001b[1;36m, line \u001b[1;32m1\u001b[0m\n\u001b[1;33m    md = pd.read_csv('C:\\Users\\caiol\\OneDrive\\Documentos\\Excel\\AULATRAINNING\\PYTHON\\db.csv')\u001b[0m\n\u001b[1;37m                                                                                           ^\u001b[0m\n\u001b[1;31mSyntaxError\u001b[0m\u001b[1;31m:\u001b[0m (unicode error) 'unicodeescape' codec can't decode bytes in position 2-3: truncated \\UXXXXXXXX escape\n"
     ]
    }
   ],
   "source": [
    "md = pd.read_csv('C:\\Users\\caiol\\OneDrive\\Documentos\\Excel\\AULATRAINNING\\PYTHON\\db.csv')"
   ]
  },
  {
   "cell_type": "code",
   "execution_count": null,
   "metadata": {},
   "outputs": [
    {
     "data": {
      "text/html": [
       "<div>\n",
       "<style scoped>\n",
       "    .dataframe tbody tr th:only-of-type {\n",
       "        vertical-align: middle;\n",
       "    }\n",
       "\n",
       "    .dataframe tbody tr th {\n",
       "        vertical-align: top;\n",
       "    }\n",
       "\n",
       "    .dataframe thead th {\n",
       "        text-align: right;\n",
       "    }\n",
       "</style>\n",
       "<table border=\"1\" class=\"dataframe\">\n",
       "  <thead>\n",
       "    <tr style=\"text-align: right;\">\n",
       "      <th></th>\n",
       "      <th>Unnamed: 0</th>\n",
       "      <th>Original Title</th>\n",
       "      <th>Company</th>\n",
       "      <th>Rate</th>\n",
       "      <th>Metascore</th>\n",
       "      <th>Minutes</th>\n",
       "      <th>Release</th>\n",
       "      <th>Budget</th>\n",
       "      <th>Opening Weekend USA</th>\n",
       "      <th>Gross�USA</th>\n",
       "      <th>Gross Worldwide</th>\n",
       "    </tr>\n",
       "  </thead>\n",
       "  <tbody>\n",
       "    <tr>\n",
       "      <th>0</th>\n",
       "      <td>1</td>\n",
       "      <td>Iron Man</td>\n",
       "      <td>Marvel</td>\n",
       "      <td>7.9</td>\n",
       "      <td>79</td>\n",
       "      <td>126</td>\n",
       "      <td>2008</td>\n",
       "      <td>140000000</td>\n",
       "      <td>98618668</td>\n",
       "      <td>318604126</td>\n",
       "      <td>585366247</td>\n",
       "    </tr>\n",
       "    <tr>\n",
       "      <th>1</th>\n",
       "      <td>2</td>\n",
       "      <td>The Incredible Hulk</td>\n",
       "      <td>Marvel</td>\n",
       "      <td>6.7</td>\n",
       "      <td>61</td>\n",
       "      <td>112�</td>\n",
       "      <td>2008</td>\n",
       "      <td>150000000</td>\n",
       "      <td>55414050</td>\n",
       "      <td>134806913</td>\n",
       "      <td>263427551</td>\n",
       "    </tr>\n",
       "    <tr>\n",
       "      <th>2</th>\n",
       "      <td>3</td>\n",
       "      <td>Iron Man 2</td>\n",
       "      <td>Marvel</td>\n",
       "      <td>7.0</td>\n",
       "      <td>57</td>\n",
       "      <td>124�</td>\n",
       "      <td>2010</td>\n",
       "      <td>200000000</td>\n",
       "      <td>128122480</td>\n",
       "      <td>312433331</td>\n",
       "      <td>623933331</td>\n",
       "    </tr>\n",
       "    <tr>\n",
       "      <th>3</th>\n",
       "      <td>4</td>\n",
       "      <td>Thor</td>\n",
       "      <td>Marvel</td>\n",
       "      <td>7.0</td>\n",
       "      <td>57</td>\n",
       "      <td>115</td>\n",
       "      <td>2011</td>\n",
       "      <td>150000000�</td>\n",
       "      <td>65723338</td>\n",
       "      <td>181030624</td>\n",
       "      <td>449326618</td>\n",
       "    </tr>\n",
       "    <tr>\n",
       "      <th>4</th>\n",
       "      <td>5</td>\n",
       "      <td>Captain America: The First Avenger</td>\n",
       "      <td>Marvel</td>\n",
       "      <td>6.9</td>\n",
       "      <td>66</td>\n",
       "      <td>124</td>\n",
       "      <td>2011</td>\n",
       "      <td>140000000</td>\n",
       "      <td>65058524</td>\n",
       "      <td>176654505</td>\n",
       "      <td>370569774</td>\n",
       "    </tr>\n",
       "  </tbody>\n",
       "</table>\n",
       "</div>"
      ],
      "text/plain": [
       "   Unnamed: 0                      Original Title Company  Rate  Metascore  \\\n",
       "0           1                            Iron Man  Marvel   7.9         79   \n",
       "1           2                 The Incredible Hulk  Marvel   6.7         61   \n",
       "2           3                          Iron Man 2  Marvel   7.0         57   \n",
       "3           4                                Thor  Marvel   7.0         57   \n",
       "4           5  Captain America: The First Avenger  Marvel   6.9         66   \n",
       "\n",
       "  Minutes  Release      Budget  Opening Weekend USA  Gross�USA  \\\n",
       "0     126     2008   140000000             98618668  318604126   \n",
       "1    112�     2008   150000000             55414050  134806913   \n",
       "2    124�     2010   200000000            128122480  312433331   \n",
       "3     115     2011  150000000�             65723338  181030624   \n",
       "4     124     2011   140000000             65058524  176654505   \n",
       "\n",
       "   Gross Worldwide  \n",
       "0        585366247  \n",
       "1        263427551  \n",
       "2        623933331  \n",
       "3        449326618  \n",
       "4        370569774  "
      ]
     },
     "execution_count": 23,
     "metadata": {},
     "output_type": "execute_result"
    }
   ],
   "source": [
    "md.head()"
   ]
  },
  {
   "cell_type": "code",
   "execution_count": null,
   "metadata": {},
   "outputs": [
    {
     "name": "stdout",
     "output_type": "stream",
     "text": [
      "<class 'pandas.core.frame.DataFrame'>\n",
      "RangeIndex: 39 entries, 0 to 38\n",
      "Data columns (total 11 columns):\n",
      " #   Column               Non-Null Count  Dtype  \n",
      "---  ------               --------------  -----  \n",
      " 0   Unnamed: 0           39 non-null     int64  \n",
      " 1   Original Title       39 non-null     object \n",
      " 2   Company              39 non-null     object \n",
      " 3   Rate                 39 non-null     float64\n",
      " 4   Metascore            39 non-null     int64  \n",
      " 5   Minutes              39 non-null     object \n",
      " 6   Release              39 non-null     int64  \n",
      " 7   Budget               39 non-null     object \n",
      " 8   Opening Weekend USA  39 non-null     int64  \n",
      " 9   Gross�USA            39 non-null     int64  \n",
      " 10  Gross Worldwide      39 non-null     int64  \n",
      "dtypes: float64(1), int64(6), object(4)\n",
      "memory usage: 3.5+ KB\n"
     ]
    }
   ],
   "source": [
    "md.info()"
   ]
  },
  {
   "cell_type": "code",
   "execution_count": null,
   "metadata": {},
   "outputs": [
    {
     "data": {
      "text/html": [
       "<div>\n",
       "<style scoped>\n",
       "    .dataframe tbody tr th:only-of-type {\n",
       "        vertical-align: middle;\n",
       "    }\n",
       "\n",
       "    .dataframe tbody tr th {\n",
       "        vertical-align: top;\n",
       "    }\n",
       "\n",
       "    .dataframe thead th {\n",
       "        text-align: right;\n",
       "    }\n",
       "</style>\n",
       "<table border=\"1\" class=\"dataframe\">\n",
       "  <thead>\n",
       "    <tr style=\"text-align: right;\">\n",
       "      <th></th>\n",
       "      <th>Unnamed: 0</th>\n",
       "      <th>Rate</th>\n",
       "      <th>Metascore</th>\n",
       "      <th>Release</th>\n",
       "      <th>Opening Weekend USA</th>\n",
       "      <th>Gross�USA</th>\n",
       "      <th>Gross Worldwide</th>\n",
       "    </tr>\n",
       "  </thead>\n",
       "  <tbody>\n",
       "    <tr>\n",
       "      <th>count</th>\n",
       "      <td>39.000000</td>\n",
       "      <td>39.000000</td>\n",
       "      <td>39.000000</td>\n",
       "      <td>39.000000</td>\n",
       "      <td>3.900000e+01</td>\n",
       "      <td>3.900000e+01</td>\n",
       "      <td>3.900000e+01</td>\n",
       "    </tr>\n",
       "    <tr>\n",
       "      <th>mean</th>\n",
       "      <td>20.000000</td>\n",
       "      <td>7.202564</td>\n",
       "      <td>63.666667</td>\n",
       "      <td>2013.794872</td>\n",
       "      <td>1.151098e+08</td>\n",
       "      <td>3.232659e+08</td>\n",
       "      <td>8.275727e+08</td>\n",
       "    </tr>\n",
       "    <tr>\n",
       "      <th>std</th>\n",
       "      <td>11.401754</td>\n",
       "      <td>1.074706</td>\n",
       "      <td>13.860837</td>\n",
       "      <td>4.286942</td>\n",
       "      <td>6.866708e+07</td>\n",
       "      <td>1.807086e+08</td>\n",
       "      <td>5.332318e+08</td>\n",
       "    </tr>\n",
       "    <tr>\n",
       "      <th>min</th>\n",
       "      <td>1.000000</td>\n",
       "      <td>3.300000</td>\n",
       "      <td>27.000000</td>\n",
       "      <td>2004.000000</td>\n",
       "      <td>5.379365e+06</td>\n",
       "      <td>1.054712e+07</td>\n",
       "      <td>1.090331e+07</td>\n",
       "    </tr>\n",
       "    <tr>\n",
       "      <th>25%</th>\n",
       "      <td>10.500000</td>\n",
       "      <td>6.900000</td>\n",
       "      <td>56.500000</td>\n",
       "      <td>2011.000000</td>\n",
       "      <td>6.539093e+07</td>\n",
       "      <td>2.032217e+08</td>\n",
       "      <td>4.843193e+08</td>\n",
       "    </tr>\n",
       "    <tr>\n",
       "      <th>50%</th>\n",
       "      <td>20.000000</td>\n",
       "      <td>7.300000</td>\n",
       "      <td>67.000000</td>\n",
       "      <td>2015.000000</td>\n",
       "      <td>9.620234e+07</td>\n",
       "      <td>3.186041e+08</td>\n",
       "      <td>7.468469e+08</td>\n",
       "    </tr>\n",
       "    <tr>\n",
       "      <th>75%</th>\n",
       "      <td>29.500000</td>\n",
       "      <td>7.850000</td>\n",
       "      <td>72.500000</td>\n",
       "      <td>2017.000000</td>\n",
       "      <td>1.559225e+08</td>\n",
       "      <td>4.085492e+08</td>\n",
       "      <td>1.104658e+09</td>\n",
       "    </tr>\n",
       "    <tr>\n",
       "      <th>max</th>\n",
       "      <td>39.000000</td>\n",
       "      <td>9.000000</td>\n",
       "      <td>88.000000</td>\n",
       "      <td>2019.000000</td>\n",
       "      <td>3.571150e+08</td>\n",
       "      <td>8.583730e+08</td>\n",
       "      <td>2.797801e+09</td>\n",
       "    </tr>\n",
       "  </tbody>\n",
       "</table>\n",
       "</div>"
      ],
      "text/plain": [
       "       Unnamed: 0       Rate  Metascore      Release  Opening Weekend USA  \\\n",
       "count   39.000000  39.000000  39.000000    39.000000         3.900000e+01   \n",
       "mean    20.000000   7.202564  63.666667  2013.794872         1.151098e+08   \n",
       "std     11.401754   1.074706  13.860837     4.286942         6.866708e+07   \n",
       "min      1.000000   3.300000  27.000000  2004.000000         5.379365e+06   \n",
       "25%     10.500000   6.900000  56.500000  2011.000000         6.539093e+07   \n",
       "50%     20.000000   7.300000  67.000000  2015.000000         9.620234e+07   \n",
       "75%     29.500000   7.850000  72.500000  2017.000000         1.559225e+08   \n",
       "max     39.000000   9.000000  88.000000  2019.000000         3.571150e+08   \n",
       "\n",
       "          Gross�USA  Gross Worldwide  \n",
       "count  3.900000e+01     3.900000e+01  \n",
       "mean   3.232659e+08     8.275727e+08  \n",
       "std    1.807086e+08     5.332318e+08  \n",
       "min    1.054712e+07     1.090331e+07  \n",
       "25%    2.032217e+08     4.843193e+08  \n",
       "50%    3.186041e+08     7.468469e+08  \n",
       "75%    4.085492e+08     1.104658e+09  \n",
       "max    8.583730e+08     2.797801e+09  "
      ]
     },
     "execution_count": 15,
     "metadata": {},
     "output_type": "execute_result"
    }
   ],
   "source": [
    "md.describe()"
   ]
  },
  {
   "cell_type": "code",
   "execution_count": null,
   "metadata": {},
   "outputs": [
    {
     "data": {
      "text/plain": [
       "(39, 11)"
      ]
     },
     "execution_count": 16,
     "metadata": {},
     "output_type": "execute_result"
    }
   ],
   "source": [
    "md.shape"
   ]
  },
  {
   "cell_type": "code",
   "execution_count": null,
   "metadata": {},
   "outputs": [
    {
     "data": {
      "text/plain": [
       "Marvel    23\n",
       "DC        16\n",
       "Name: Company, dtype: int64"
      ]
     },
     "execution_count": 17,
     "metadata": {},
     "output_type": "execute_result"
    }
   ],
   "source": [
    "md['Company'].value_counts()"
   ]
  },
  {
   "cell_type": "code",
   "execution_count": null,
   "metadata": {},
   "outputs": [
    {
     "name": "stdout",
     "output_type": "stream",
     "text": [
      "Quantos filmes cada empresa lançou ?\n",
      "Marvel:  23\n",
      "DC:  16\n"
     ]
    }
   ],
   "source": [
    "print('Quantos filmes cada empresa lançou ?')\n",
    "\n",
    "print('Marvel: ', md['Company'].value_counts()['Marvel'])\n",
    "print('DC: ',md['Company'].value_counts()['DC'])\n"
   ]
  },
  {
   "cell_type": "code",
   "execution_count": null,
   "metadata": {},
   "outputs": [
    {
     "data": {
      "text/plain": [
       "<AxesSubplot:xlabel='Release'>"
      ]
     },
     "execution_count": 19,
     "metadata": {},
     "output_type": "execute_result"
    },
    {
     "data": {
      "image/png": "[encoded data removed]",
      "text/plain": [
       "<Figure size 864x576 with 1 Axes>"
      ]
     },
     "metadata": {
      "needs_background": "light"
     },
     "output_type": "display_data"
    }
   ],
   "source": [
    "anoLancamento = pd.crosstab(\n",
    "    md['Release'], \n",
    "    md['Company']\n",
    ")\n",
    "\n",
    "anoLancamento.plot(\n",
    "    kind='bar', \n",
    "    stacked = True, \n",
    "    color =['blue', 'red']\n",
    ")"
   ]
  },
  {
   "cell_type": "code",
   "execution_count": null,
   "metadata": {},
   "outputs": [
    {
     "data": {
      "text/plain": [
       "array([[<AxesSubplot:title={'center':'Release'}>]], dtype=object)"
      ]
     },
     "execution_count": 20,
     "metadata": {},
     "output_type": "execute_result"
    },
    {
     "data": {
      "image/png": "[encoded data removed]",
      "text/plain": [
       "<Figure size 864x576 with 1 Axes>"
      ]
     },
     "metadata": {
      "needs_background": "light"
     },
     "output_type": "display_data"
    }
   ],
   "source": [
    "md.hist(\n",
    "    column = 'Release',\n",
    "    color = 'blue',\n",
    ")"
   ]
  },
  {
   "cell_type": "code",
   "execution_count": null,
   "metadata": {},
   "outputs": [],
   "source": []
  }
 ],
 "metadata": {
  "interpreter": {
   "hash": "37ff9d6be2d9a7b6045b0654f2d891c4594e8050d0526a4f674c447fb6050318"
  },
  "kernelspec": {
   "display_name": "Python 3.9.7 64-bit ('venv': venv)",
   "name": "python3"
  },
  "language_info": {
   "codemirror_mode": {
    "name": "ipython",
    "version": 3
   },
   "file_extension": ".py",
   "mimetype": "text/x-python",
   "name": "python",
   "nbconvert_exporter": "python",
   "pygments_lexer": "ipython3",
   "version": "3.9.7"
  }
 },
 "nbformat": 4,
 "nbformat_minor": 5
}

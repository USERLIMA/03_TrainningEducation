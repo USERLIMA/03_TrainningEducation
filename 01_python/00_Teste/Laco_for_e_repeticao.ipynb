{
 "cells": [
  {
   "cell_type": "markdown",
   "id": "b9d5a806",
   "metadata": {},
   "source": [
    "## LISTAS\n",
    "\n",
    "As listas são os tipos de dados compostos mais versáteis do Python. Uma ista contém itens separados por vígulas e entre colchetes ([]). Até certo ponto, as listas são semelhates às mtrizes em \"C\" e uma das diferenças entre elas é que todos os itens pertencentes a uma lista podem ser de dados diferetes."
   ]
  },
  {
   "cell_type": "code",
   "execution_count": 11,
   "id": "8454085f",
   "metadata": {},
   "outputs": [
    {
     "name": "stdout",
     "output_type": "stream",
     "text": [
      "minhaLista: \n",
      "['xyz', 123, 456, 'Mickey', 92.5]\n",
      "xyz\n",
      "Mickey\n",
      "[123, 456]\n",
      "------------------\n",
      "listinha: \n",
      "[567, 'Pateta']\n",
      "567\n",
      "Pateta\n"
     ]
    }
   ],
   "source": [
    "minhaLista = ['xyz', 123, 456, 'Mickey', 92.5]\n",
    "listinha = [567, 'Pateta']\n",
    "\n",
    "print('minhaLista: ')\n",
    "print(minhaLista) # imprime a lista toda\n",
    "print(minhaLista[0]) # 0 imprimi o primeiro item da lista, e assim por diante a partir do \"0\"\n",
    "print(minhaLista[3])\n",
    "print(minhaLista[1:3])\n",
    "print('------------------')\n",
    "print('listinha: ')\n",
    "print(listinha)\n",
    "print(listinha[0])\n",
    "print(listinha[1])"
   ]
  },
  {
   "cell_type": "code",
   "execution_count": 22,
   "id": "2f3190c1",
   "metadata": {},
   "outputs": [
    {
     "name": "stdout",
     "output_type": "stream",
     "text": [
      "minhaSegundaLista: \n",
      "[789, 'Trainning', 'Python']\n",
      "[123, 456, 789, 'Trainning', 'Python', 123, 456, 789, 'Trainning', 'Python']\n",
      "[123, 456, 789, 'Trainning', 'Python', 123, 456, 789, 'Trainning', 'Python', 123, 456, 789, 'Trainning', 'Python']\n",
      "------------------------------\n",
      "DESAFIO LISTA\n",
      "[123, 456, 789, 'Trainning', 'Python'] ['QWE', 'RTY', 852, 455] ['xyz', 123, 456, 'Mickey', 92.5]\n",
      "[123, 456, 789, 'Trainning', 'Python', 'QWE', 'RTY', 852, 455, 'xyz', 123, 456, 'Mickey', 92.5]\n"
     ]
    }
   ],
   "source": [
    "minhaSegundaLista = [123, 456, 789, 'Trainning', 'Python']\n",
    "minhaTerceiraLista = ['QWE', 'RTY', 852, 455]\n",
    "\n",
    "print('minhaSegundaLista: ')\n",
    "print(minhaSegundaLista[2:])\n",
    "print(minhaSegundaLista *2)\n",
    "print(minhaSegundaLista *3)\n",
    "\n",
    "print('------------------------------')\n",
    "print('DESAFIO LISTA')\n",
    "# DESAFIO -  Imprimir duas listas juntas no mesmo comando\n",
    "\n",
    "print(minhaSegundaLista, minhaTerceiraLista, minhaLista)\n",
    "print(minhaSegundaLista + minhaTerceiraLista + minhaLista)"
   ]
  },
  {
   "cell_type": "markdown",
   "id": "4f638089",
   "metadata": {},
   "source": [
    "### ATUALIZANDO LISTAS"
   ]
  },
  {
   "cell_type": "code",
   "execution_count": 25,
   "id": "3985092b",
   "metadata": {},
   "outputs": [
    {
     "name": "stdout",
     "output_type": "stream",
     "text": [
      "Valor encontrado no índice 2 é:  1992\n",
      "Novo valor encontrado no índice 2 é:  2001\n"
     ]
    }
   ],
   "source": [
    "lista1 = ['Matemática', 'Português', 1992, 1995, 1998]\n",
    "print('Valor encontrado no índice 2 é: ', lista1[2])\n",
    "\n",
    "# Para atualizar o índice desejado, devemos informar a lista e sua posição, depois colocar o \"=\" e o novo valor\n",
    "lista1[2] = 2001\n",
    "print('Novo valor encontrado no índice 2 é: ', lista1[2])"
   ]
  },
  {
   "cell_type": "markdown",
   "id": "67080b80",
   "metadata": {},
   "source": [
    "### DELETAR ITENS DA LISTA"
   ]
  },
  {
   "cell_type": "code",
   "execution_count": 27,
   "id": "29452511",
   "metadata": {},
   "outputs": [
    {
     "name": "stdout",
     "output_type": "stream",
     "text": [
      "['Matemática', 'Português', 2001, 1995, 1998]\n",
      "Removendo o iten da lista:  ['Matemática', 'Português', 1995, 1998]\n"
     ]
    }
   ],
   "source": [
    "Lista1 = ['Matemática', 'Potuguês', 1992, 1995, 1998, 'Geografia', 'História']\n",
    "print(lista1)\n",
    "\n",
    "# Deletando o iten da lista\n",
    "\n",
    "del lista1[2]\n",
    "print('Removendo o iten da lista: ', lista1)"
   ]
  },
  {
   "cell_type": "code",
   "execution_count": 28,
   "id": "1f40f59a",
   "metadata": {},
   "outputs": [
    {
     "name": "stdout",
     "output_type": "stream",
     "text": [
      "1995\n"
     ]
    }
   ],
   "source": [
    "print(lista1[2])"
   ]
  },
  {
   "cell_type": "markdown",
   "id": "69ef7d8f",
   "metadata": {},
   "source": [
    "## TUPLAS\n",
    "\n",
    "Uma tupla é outro tipo de dados de sequência semelhante a lista. Uma tupla consiste em vários valores separados por vírgula. Diferente das listas, no entanto, as tuplas são colocadas entre parêneses.\n",
    "\n",
    "A principal diferença entre listas e tuplas é - As listas estão entre colchetes ([]) e seus elementos e tamanho podem ser alterados, enquato as tuplas estão entre parênteses (()) e não podem ser atualizadas. As Tuplas poder ser consideradas listas do tipo \"Somente leitura\"."
   ]
  },
  {
   "cell_type": "code",
   "execution_count": 36,
   "id": "d6655cd7",
   "metadata": {},
   "outputs": [
    {
     "name": "stdout",
     "output_type": "stream",
     "text": [
      "('xyz', 123, 456, 789, 'abc')\n",
      "(456, 'def')\n",
      "xyz\n",
      "(123, 456)\n",
      "(456, 789, 'abc')\n",
      "('xyz', 123, 456, 789, 'abc', 'xyz', 123, 456, 789, 'abc')\n",
      "(456, 'def')\n"
     ]
    }
   ],
   "source": [
    "tupla1 = ('xyz', 123, 456, 789, 'abc')\n",
    "tuplinha = (456, 'def')\n",
    "\n",
    "print(tupla1)\n",
    "print(tuplinha)\n",
    "\n",
    "print(tupla1[0])\n",
    "print(tupla1[1:3])\n",
    "print(tupla1[2:])\n",
    "print(tupla1*2)\n",
    "print(tuplinha)"
   ]
  },
  {
   "cell_type": "markdown",
   "id": "09d90ed6",
   "metadata": {},
   "source": [
    "## ATUALIZANDO TUPLAS \n",
    "\n",
    "As tuplas são imutáveis, o que significa que você não pode atualizar ou alterar os valores dos elemenos das tuplas. Você pode usar as tuplas exisentes para criar novas, como o exemplo a seguir demonsra: "
   ]
  },
  {
   "cell_type": "code",
   "execution_count": 42,
   "id": "87b009f3",
   "metadata": {},
   "outputs": [
    {
     "name": "stdout",
     "output_type": "stream",
     "text": [
      "(32, 2021, 'PYTHON', 'Training')\n",
      "('PYTHON', 'Training')\n",
      "(32, 2021)\n"
     ]
    }
   ],
   "source": [
    "tuplaNova = (32, 2021)\n",
    "tupla3 = ('PYTHON', 'Training')\n",
    "\n",
    "tuplaResultado = tuplaNova + tupla3\n",
    "print(tuplaResultado)\n",
    "print(tupla3)\n",
    "print(tuplaNova)"
   ]
  },
  {
   "cell_type": "code",
   "execution_count": 47,
   "id": "b635621f",
   "metadata": {},
   "outputs": [
    {
     "name": "stdout",
     "output_type": "stream",
     "text": [
      "('Filosofia', 'Sociologia', 'Artes')\n"
     ]
    },
    {
     "ename": "TypeError",
     "evalue": "'tuple' object doesn't support item deletion",
     "output_type": "error",
     "traceback": [
      "\u001b[1;31m---------------------------------------------------------------------------\u001b[0m",
      "\u001b[1;31mTypeError\u001b[0m                                 Traceback (most recent call last)",
      "\u001b[1;32m<ipython-input-47-618a994b7fc6>\u001b[0m in \u001b[0;36m<module>\u001b[1;34m\u001b[0m\n\u001b[0;32m      4\u001b[0m \u001b[0mprint\u001b[0m\u001b[1;33m(\u001b[0m\u001b[0mtuplaEscola\u001b[0m\u001b[1;33m)\u001b[0m\u001b[1;33m\u001b[0m\u001b[1;33m\u001b[0m\u001b[0m\n\u001b[0;32m      5\u001b[0m \u001b[1;33m\u001b[0m\u001b[0m\n\u001b[1;32m----> 6\u001b[1;33m \u001b[1;32mdel\u001b[0m \u001b[0mtuplaEscola\u001b[0m\u001b[1;33m[\u001b[0m\u001b[1;36m2\u001b[0m\u001b[1;33m]\u001b[0m\u001b[1;33m\u001b[0m\u001b[1;33m\u001b[0m\u001b[0m\n\u001b[0m\u001b[0;32m      7\u001b[0m \u001b[0mprint\u001b[0m\u001b[1;33m(\u001b[0m\u001b[0mtuplaEscola\u001b[0m\u001b[1;33m)\u001b[0m\u001b[1;33m\u001b[0m\u001b[1;33m\u001b[0m\u001b[0m\n\u001b[0;32m      8\u001b[0m \u001b[1;33m\u001b[0m\u001b[0m\n",
      "\u001b[1;31mTypeError\u001b[0m: 'tuple' object doesn't support item deletion"
     ]
    }
   ],
   "source": [
    "## Excluindo um elemento da tupla\n",
    "\n",
    "tuplaEscola = ('Filosofia', 'Sociologia', 'Artes')\n",
    "print(tuplaEscola)\n",
    "\n",
    "del tuplaEscola\n",
    "print(tuplaEscola)\n",
    "\n"
   ]
  },
  {
   "cell_type": "markdown",
   "id": "96ae5bca",
   "metadata": {},
   "source": [
    "# TOMADA DE DECISÃO COM IF...ELSE...\n",
    "\n",
    "A tomada de decisão é necessária quando queremos executar um código apenas se uma determinada condição for atendida.\n",
    "\n",
    "if (condição):\n",
    "\n",
    "    conjunto de instruções"
   ]
  },
  {
   "cell_type": "code",
   "execution_count": 53,
   "id": "994128e2",
   "metadata": {},
   "outputs": [
    {
     "name": "stdout",
     "output_type": "stream",
     "text": [
      "10 é um número positivo\n"
     ]
    }
   ],
   "source": [
    "# Verificando se um número é positivo ou não\n",
    "\n",
    "numero = -10\n",
    "numero = 10\n",
    "\n",
    "if numero > 0: \n",
    "    print(numero, 'é um número positivo')"
   ]
  },
  {
   "cell_type": "code",
   "execution_count": 56,
   "id": "ff0a26ad",
   "metadata": {},
   "outputs": [
    {
     "name": "stdout",
     "output_type": "stream",
     "text": [
      "Esse texto será sempre executado!\n"
     ]
    }
   ],
   "source": [
    "# Caso a variável numero tenha valor menor que zero iremos ignorar e não mostraremos nada\n",
    "\n",
    "numero = -10\n",
    "\n",
    "if numero > 0: \n",
    "    print(numero, 'é um número positivo')\n",
    "    \n",
    "print('Esse texto será sempre executado!')"
   ]
  },
  {
   "cell_type": "code",
   "execution_count": 55,
   "id": "500d6f05",
   "metadata": {},
   "outputs": [
    {
     "name": "stdout",
     "output_type": "stream",
     "text": [
      "128 é um número positivo\n"
     ]
    }
   ],
   "source": [
    "numero = 128\n",
    "\n",
    "if numero > 0: \n",
    "    print(numero, 'é um número positivo')"
   ]
  },
  {
   "cell_type": "code",
   "execution_count": 57,
   "id": "570d8664",
   "metadata": {},
   "outputs": [
    {
     "name": "stdout",
     "output_type": "stream",
     "text": [
      "-10 é um número negativo \n",
      "Esse texto será sempre executado!\n"
     ]
    }
   ],
   "source": [
    "# Trabalhando o else \n",
    "\n",
    "numero = -10\n",
    "\n",
    "if numero > 0: \n",
    "    print(numero, 'é um número positivo')\n",
    "else:\n",
    "    print(numero, 'é um número negativo ')\n",
    "    \n",
    "print('Esse texto será sempre executado!')"
   ]
  },
  {
   "cell_type": "code",
   "execution_count": 61,
   "id": "f6917533",
   "metadata": {},
   "outputs": [
    {
     "name": "stdout",
     "output_type": "stream",
     "text": [
      "Zero\n"
     ]
    }
   ],
   "source": [
    "# Verificando se o valor informado é positivo, negativo ou zero:\n",
    "\n",
    "numero = 32\n",
    "numero = -32\n",
    "numero = 0\n",
    "\n",
    "if numero > 0:\n",
    "    print (\"Número positivo!\")\n",
    "elif numero == 0:\n",
    "    print(\"Zero\")\n",
    "else:\n",
    "    print('Número negativo')"
   ]
  },
  {
   "cell_type": "markdown",
   "id": "83625be9",
   "metadata": {},
   "source": [
    "# EXERCÍCIO \n",
    "\n",
    "Faça um algorítmo que leia a temperatura de uma pessoa.\n",
    "- Abaixo de 37º Celcius, sem febre;\n",
    "- Acima de 37º Celcius, com febre;"
   ]
  },
  {
   "cell_type": "code",
   "execution_count": 86,
   "id": "19a75c70",
   "metadata": {},
   "outputs": [
    {
     "name": "stdout",
     "output_type": "stream",
     "text": [
      "não está com febre\n"
     ]
    }
   ],
   "source": [
    "Tc = 34\n",
    "\n",
    "if Tc > 37:\n",
    "    print('Está com febre')\n",
    "else:\n",
    "    print('não está com febre')"
   ]
  },
  {
   "cell_type": "code",
   "execution_count": 88,
   "id": "d6f84379",
   "metadata": {},
   "outputs": [
    {
     "name": "stdout",
     "output_type": "stream",
     "text": [
      "YOU'RE DEAD\n"
     ]
    }
   ],
   "source": [
    "if Tc > 37:\n",
    "    print('Está com febre')\n",
    "elif Tc == 37:\n",
    "    print(\"Temperatura normal\")\n",
    "elif Tc < 35:\n",
    "    print('YOU\\'RE DEAD')\n",
    "else:\n",
    "    print('não está com febre')\n",
    "    "
   ]
  },
  {
   "cell_type": "code",
   "execution_count": 77,
   "id": "ab5631ac",
   "metadata": {},
   "outputs": [
    {
     "name": "stdout",
     "output_type": "stream",
     "text": [
      "YOU'RE DEAD\n"
     ]
    }
   ],
   "source": [
    "Tc = 33\n",
    "\n",
    "if Tc < 35:\n",
    "    print('YOU\\'RE DEAD')\n",
    "else:\n",
    "    print('YOU WIN')"
   ]
  },
  {
   "cell_type": "markdown",
   "id": "955ed1ae",
   "metadata": {},
   "source": [
    "## EXERCÍCIO 2\n",
    "\n",
    "Uma escola nos consultou para desenvolver um sistema que receba a média do aluno e faça a apresentação do resultado:\n",
    "    \n",
    "    - Nota >= 7, APROVADO;\n",
    "    - Nota > 5, RECUPERAÇÃO;\n",
    "    - Nota < 5, REPROVADO."
   ]
  },
  {
   "cell_type": "code",
   "execution_count": 82,
   "id": "1532c896",
   "metadata": {},
   "outputs": [
    {
     "name": "stdout",
     "output_type": "stream",
     "text": [
      "REPROVADO\n"
     ]
    }
   ],
   "source": [
    "numero = 2\n",
    "\n",
    "if numero >= 7:\n",
    "    print (\"APROVADO!\")\n",
    "elif numero > 5:\n",
    "    print(\"RECUPERAÇÃO\")\n",
    "else:\n",
    "    print('REPROVADO')"
   ]
  },
  {
   "cell_type": "code",
   "execution_count": 85,
   "id": "c264f7e1",
   "metadata": {},
   "outputs": [
    {
     "name": "stdout",
     "output_type": "stream",
     "text": [
      "IDOSO\n"
     ]
    }
   ],
   "source": [
    "# EX. usando idede\n",
    "\n",
    "idade = 61\n",
    "\n",
    "if idade >= 1 and idade < 60:\n",
    "    print ('ADULTO')\n",
    "elif idade >= 12 and idade <18:\n",
    "    print('ADOLESCENE')\n",
    "elif idade <12:\n",
    "    print('CRIANÇA')\n",
    "else:\n",
    "    print(\"IDOSO\")\n",
    "    "
   ]
  },
  {
   "cell_type": "code",
   "execution_count": 6,
   "id": "2b087303",
   "metadata": {},
   "outputs": [
    {
     "name": "stdout",
     "output_type": "stream",
     "text": [
      "Feminino\n"
     ]
    }
   ],
   "source": [
    "sexo = 'F'\n",
    "\n",
    "if sexo == 'F':\n",
    "    print('Feminino')\n",
    "elif sexo == 'M':\n",
    "    print('Masculino')\n",
    "else:\n",
    "    print('informação não identificada')"
   ]
  },
  {
   "cell_type": "markdown",
   "id": "4e4ae76b",
   "metadata": {},
   "source": [
    "## LAÇO DE REPETIÇÃO \n",
    "\n",
    "Aqui o \"loop for\" imprime itens da lista até o loop esgotar. Quando ele for esgotado executa o bloco de código dentro do \"else\" e imprime \"Não há mais itens restantes\"."
   ]
  },
  {
   "cell_type": "code",
   "execution_count": 1,
   "id": "75920aef",
   "metadata": {},
   "outputs": [
    {
     "name": "stdout",
     "output_type": "stream",
     "text": [
      "0\n",
      "1\n",
      "3\n",
      "5\n",
      "não há itens para serem exibidos\n"
     ]
    }
   ],
   "source": [
    "itens = [0,1,3,5]\n",
    "\n",
    "# Estrutura do laço \"for\"\n",
    "# o i serve para fazer uma contagem\n",
    "\n",
    "for i in itens: \n",
    "    print(i)\n",
    "else:\n",
    "    print('não há itens para serem exibidos')"
   ]
  },
  {
   "cell_type": "code",
   "execution_count": 4,
   "id": "a649daf3",
   "metadata": {},
   "outputs": [
    {
     "name": "stdout",
     "output_type": "stream",
     "text": [
      "Quantidade de matérias: 4\n",
      "Nota da matéria:  1:10\n",
      "Nota da matéria:  2:10\n",
      "Nota da matéria:  3:10\n",
      "Nota da matéria:  4:10\n",
      "A quantidade de notas foi de:  4\n",
      "média: 4\n"
     ]
    }
   ],
   "source": [
    "# Exemplo 2 - solicitando que o usuário digite a quantidade de matérias\n",
    "\n",
    "QTDmat = int(input('Quantidade de matérias: '))\n",
    "notas = []\n",
    "soma = 0 \n",
    "\n",
    "for contador in range(QTDmat):\n",
    "    notas = int(input('Nota da matéria: %2d:' % (contador+1)))\n",
    "    notas += notas\n",
    "    soma += notas\n",
    "    \n",
    "print('A quantidade de notas foi de: %2d' % QTDmat)\n",
    "media = soma / QTDmat\n",
    "print('média:', media)\n",
    "     "
   ]
  },
  {
   "cell_type": "markdown",
   "id": "3a9f5ad6",
   "metadata": {},
   "source": [
    "## Correção do script acima, onde estava dividindo por 2 ao invés da QTDmat"
   ]
  },
  {
   "cell_type": "code",
   "execution_count": 4,
   "id": "03854f3e",
   "metadata": {},
   "outputs": [
    {
     "name": "stdout",
     "output_type": "stream",
     "text": [
      "Quantidade de matérias: 4\n",
      "Digite a nota da matéria 1: 10\n",
      "Digite a nota da matéria 2: 10\n",
      "Digite a nota da matéria 3: 10\n",
      "Digite a nota da matéria 4: 10\n",
      "\n",
      "Foi digitado um total de 4 matérias que correspondem a [10.0, 10.0, 10.0, 10.0], e a média da classe foi de 10.0.\n"
     ]
    }
   ],
   "source": [
    "# Exemplo 2 - solicitando que o usuário digite a quantidade de matérias\n",
    "\n",
    "QTDmat = int(input('Quantidade de matérias: '))\n",
    "ValorNota = 0\n",
    "notas = []\n",
    "soma = 0 \n",
    "\n",
    "# para de _0__ até _QTDmat__ faça:\n",
    "# bloxo de comandos\n",
    "# contador + 1\n",
    "\n",
    "for i in range(QTDmat):\n",
    "    i+= 1\n",
    "    ValorNota = float(input(f'Digite a nota da matéria {i}: '))\n",
    "    notas.append(ValorNota)\n",
    "    soma += ValorNota\n",
    "    \n",
    "print(f'\\nFoi digitado um total de {QTDmat} matérias que correspondem a {notas}, e a média da classe foi de {soma/QTDmat}.')"
   ]
  },
  {
   "cell_type": "code",
   "execution_count": 5,
   "id": "bb799daa",
   "metadata": {},
   "outputs": [
    {
     "name": "stdout",
     "output_type": "stream",
     "text": [
      "Quantidade de matérias: 4\n",
      "Digite a nota da matéria 01: 10\n",
      "Digite a nota da matéria 02: 10\n",
      "Digite a nota da matéria 03: 10\n",
      "Digite a nota da matéria 04: 10\n",
      "10.0\n"
     ]
    }
   ],
   "source": [
    "# Exemplo 3 - código corrigido parte 2:\n",
    "\n",
    "QTDmat = int(input('Quantidade de matérias: '))\n",
    "media = 0\n",
    "\n",
    "nota1 = float(input('Digite a nota da matéria 01: '))\n",
    "nota2 = float(input('Digite a nota da matéria 02: '))\n",
    "nota3 = float(input('Digite a nota da matéria 03: '))\n",
    "nota4 = float(input('Digite a nota da matéria 04: '))\n",
    "\n",
    "media = (nota1 + nota2 + nota3 + nota4 ) / QTDmat\n",
    "\n",
    "print(media)\n",
    "print('As notas ionformadas foram: ',)"
   ]
  },
  {
   "cell_type": "code",
   "execution_count": 2,
   "id": "db54a7bd",
   "metadata": {},
   "outputs": [
    {
     "name": "stdout",
     "output_type": "stream",
     "text": [
      "C\n",
      "a\n",
      "i\n",
      "o\n",
      " \n",
      "L\n",
      "i\n",
      "m\n",
      "a\n",
      " \n",
      "S\n",
      "o\n",
      "u\n",
      "s\n",
      "a\n"
     ]
    }
   ],
   "source": [
    "# Exemplo 4: desejo imprimir um conteúdo na sua totalidade\n",
    "\n",
    "for letras in 'Caio Lima Sousa':\n",
    "    print(letras)\n",
    "    "
   ]
  },
  {
   "cell_type": "code",
   "execution_count": 3,
   "id": "32e7996f",
   "metadata": {},
   "outputs": [
    {
     "name": "stdout",
     "output_type": "stream",
     "text": [
      "Contém as letras:  C\n",
      "Contém as letras:  a\n",
      "Contém as letras:  i\n",
      "Contém as letras:  o\n",
      "Contém as letras:   \n",
      "Contém as letras:  L\n",
      "Contém as letras:  i\n",
      "Contém as letras:  m\n",
      "Contém as letras:  a\n",
      "Contém as letras:   \n",
      "Contém as letras:  S\n",
      "Contém as letras:  o\n",
      "Contém as letras:  u\n",
      "Contém as letras:  s\n",
      "Contém as letras:  a\n"
     ]
    }
   ],
   "source": [
    "# Exemplo 5: desejo imprimir um conteúdo na sua totalidade\n",
    "\n",
    "for letras in 'Caio Lima Sousa':\n",
    "    print('Contém as letras: ', letras)\n",
    "    "
   ]
  },
  {
   "cell_type": "code",
   "execution_count": 7,
   "id": "d0ac2a9e",
   "metadata": {},
   "outputs": [
    {
     "name": "stdout",
     "output_type": "stream",
     "text": [
      "Linguagem de programação contida em \"Língua\": C\n",
      "Linguagem de programação contida em \"Língua\": Python\n",
      "Linguagem de programação contida em \"Língua\": CSharp\n",
      "Linguagem de programação contida em \"Língua\": Lua\n",
      "Linguagem de programação contida em \"Língua\": Swift\n",
      "Linguagem de programação contida em \"Língua\": Java\n"
     ]
    }
   ],
   "source": [
    "# Exemplo 6:\n",
    "\n",
    "linguagens = ['C', 'Python', 'CSharp', 'Lua', 'Swift', 'Java']\n",
    "\n",
    "for lingua in linguagens: \n",
    "    print('Linguagem de programação contida em \"Língua\":', lingua)"
   ]
  },
  {
   "cell_type": "markdown",
   "id": "6b6d01a1",
   "metadata": {},
   "source": [
    "## Crie uma lista com as informações a seu respeito: \n",
    " - Nome, idade, email, cidade atual, estado, nome do pai, nome da mae;\n",
    " - Usando o laço for, apresente as informações conforme o exemplo 6;\n",
    " - Mostrando a mensagem:  Aqui vai uma informação a meu respeito: __________________________."
   ]
  },
  {
   "cell_type": "code",
   "execution_count": 10,
   "id": "310dc4dc",
   "metadata": {},
   "outputs": [
    {
     "name": "stdout",
     "output_type": "stream",
     "text": [
      "Aqui vai uma informação a meu respeito:  Caio Lima Sousa\n",
      "Aqui vai uma informação a meu respeito:  caiolgn88@gmail.com\n",
      "Aqui vai uma informação a meu respeito:  São Paulo\n",
      "Aqui vai uma informação a meu respeito:  Marcos antonio\n",
      "Aqui vai uma informação a meu respeito:  Antonia Valdecleide\n"
     ]
    }
   ],
   "source": [
    "info = ['Caio Lima Sousa', 'caiolgn88@gmail.com', 'São Paulo', 'Marcos antonio', 'Antonia Valdecleide']\n",
    "\n",
    "for exemplo in info:\n",
    "    print('Aqui vai uma informação a meu respeito: ', exemplo)"
   ]
  },
  {
   "cell_type": "markdown",
   "id": "a36af1fc",
   "metadata": {},
   "source": [
    "## Laço While "
   ]
  },
  {
   "cell_type": "code",
   "execution_count": 12,
   "id": "dd2bad41",
   "metadata": {},
   "outputs": [
    {
     "name": "stdout",
     "output_type": "stream",
     "text": [
      "O resultado da soma é:  55\n"
     ]
    }
   ],
   "source": [
    "# programa para adicionar números inteiros\n",
    "# soma = 1 + 2 + 3 + ... n\n",
    "\n",
    "n = 10\n",
    "\n",
    "# Enquanto o valor de \"x\" for menor ou igual a zero ele executa o bloco abaixo\n",
    "soma = 0 \n",
    "x=1\n",
    "\n",
    "while x <= n: \n",
    "    soma = soma + x\n",
    "    x = x + 1\n",
    "\n",
    "# o resultado mostra uma espécie de fatoração, onde ao invés de multiplicar ele soma as sequencias de \"n\"\n",
    "\n",
    "print('O resultado da soma é: ', soma)"
   ]
  },
  {
   "cell_type": "code",
   "execution_count": 7,
   "id": "998066ba",
   "metadata": {},
   "outputs": [
    {
     "name": "stdout",
     "output_type": "stream",
     "text": [
      "O resultado da soma é:  30\n"
     ]
    }
   ],
   "source": [
    "# programa para adicionar números pares:\n",
    "\n",
    "\n",
    "n = 10\n",
    "\n",
    "# Enquanto o valor de \"x\" for menor ou igual a zero ele executa o bloco abaixo;\n",
    "soma = 0 \n",
    "x = 0\n",
    "\n",
    "while x <= n: \n",
    "    soma = soma + x\n",
    "    x = x + 2\n",
    "    # 1 2 3 4 5 6 7 8 9 10 - caso fosse X + 1;\n",
    "    \n",
    "    # com x + 2 ele trás 0 2 4 6 8 10;\n",
    "    \n",
    "# o resultado mostra uma espécie de fatoração, onde ao invés de multiplicar ele soma as sequencias de \"n\"\n",
    "\n",
    "print('O resultado da soma é: ', soma)"
   ]
  },
  {
   "cell_type": "code",
   "execution_count": 11,
   "id": "06ccef9e",
   "metadata": {},
   "outputs": [
    {
     "name": "stdout",
     "output_type": "stream",
     "text": [
      "O resultado da soma é:  25\n"
     ]
    }
   ],
   "source": [
    "# programa para adicionar números ímpares\n",
    "\n",
    "\n",
    "n = 10\n",
    "\n",
    "# Enquanto o valor de \"x\" for menor ou igual a zero ele executa o bloco abaixo\n",
    "soma = 0 \n",
    "x=1\n",
    "\n",
    "while x <= n: \n",
    "    soma = soma + x\n",
    "    x = x + 2\n",
    "    # 1 3 5 7 9 \n",
    "    \n",
    "# o resultado mostra uma espécie de fatoração, onde ao invés de multiplicar ele soma as sequencias de \"n\"\n",
    "\n",
    "print('O resultado da soma é: ', soma)"
   ]
  },
  {
   "cell_type": "markdown",
   "id": "c3be535a",
   "metadata": {},
   "source": [
    "## While com else"
   ]
  },
  {
   "cell_type": "code",
   "execution_count": 16,
   "id": "b2844b58",
   "metadata": {},
   "outputs": [
    {
     "name": "stdout",
     "output_type": "stream",
     "text": [
      "Dentro do \"while\"\n",
      "Dentro do \"while\"\n",
      "Dentro do \"while\"\n",
      "Dentro do \"while\"\n",
      "Dentro do \"while\"\n",
      "Dentro do \"Else\"\n"
     ]
    }
   ],
   "source": [
    "contador = 0 \n",
    "\n",
    "while contador < 5: \n",
    "    print('Dentro do \"while\"')\n",
    "    contador = contador + 1 \n",
    "else: \n",
    "    print('Dentro do \"Else\"')"
   ]
  },
  {
   "cell_type": "code",
   "execution_count": 22,
   "id": "dca21d53",
   "metadata": {},
   "outputs": [
    {
     "name": "stdout",
     "output_type": "stream",
     "text": [
      "1\n",
      "2\n",
      "3\n",
      "4\n",
      "5\n",
      "6\n",
      "7\n",
      "8\n",
      "9\n",
      "10\n",
      "11\n",
      "Paramos com o valor da variável em:  11\n"
     ]
    }
   ],
   "source": [
    "conta = 0\n",
    "\n",
    "while(conta <= 10):\n",
    "    conta += 1\n",
    "    # conta = conta + 1\n",
    "    print(conta)\n",
    "else:\n",
    "    print('Paramos com o valor da variável em: ', conta)"
   ]
  },
  {
   "cell_type": "code",
   "execution_count": 3,
   "id": "94ec1797",
   "metadata": {},
   "outputs": [
    {
     "name": "stdout",
     "output_type": "stream",
     "text": [
      "While\n",
      "0\n",
      "1\n",
      "2\n",
      "3\n",
      "4\n",
      "5\n",
      "6\n",
      "7\n",
      "8\n",
      "9\n",
      "Else\n",
      "FIM\n"
     ]
    }
   ],
   "source": [
    "x = 0\n",
    "\n",
    "print('While')\n",
    "\n",
    "while(x < 10):\n",
    "    print(x)\n",
    "    x += 1\n",
    "else: \n",
    "    print('Else')\n",
    "    \n",
    "print('FIM')"
   ]
  },
  {
   "cell_type": "code",
   "execution_count": null,
   "id": "57e7cf86",
   "metadata": {},
   "outputs": [],
   "source": []
  }
 ],
 "metadata": {
  "kernelspec": {
   "display_name": "Python 3",
   "language": "python",
   "name": "python3"
  },
  "language_info": {
   "codemirror_mode": {
    "name": "ipython",
    "version": 3
   },
   "file_extension": ".py",
   "mimetype": "text/x-python",
   "name": "python",
   "nbconvert_exporter": "python",
   "pygments_lexer": "ipython3",
   "version": "3.8.8"
  }
 },
 "nbformat": 4,
 "nbformat_minor": 5
}

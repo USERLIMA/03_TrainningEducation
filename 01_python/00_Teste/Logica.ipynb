{
 "cells": [
  {
   "cell_type": "code",
   "execution_count": 1,
   "source": [
    "idade = 32 # Número Inteiro\r\n",
    "ano = 2021 # Número Inteiro\r\n",
    "preco = 1.99 # Número Decimal/Flutuante\r\n",
    "\r\n",
    "\r\n",
    "\r\n",
    "# Imprimindo o valor das minhas variáveis\r\n",
    "print(idade)\r\n",
    "print(ano)\r\n",
    "print(preco)"
   ],
   "outputs": [
    {
     "output_type": "stream",
     "name": "stdout",
     "text": [
      "32\n",
      "2021\n",
      "1.99\n"
     ]
    }
   ],
   "metadata": {}
  },
  {
   "cell_type": "code",
   "execution_count": 1,
   "source": [
    "nome = 'caio'\r\n",
    "sobrenome = 'Lima'"
   ],
   "outputs": [],
   "metadata": {}
  },
  {
   "cell_type": "code",
   "execution_count": 5,
   "source": [
    "print (nome) # mostrando o valor de nome e sobrenome com e sem espaço - AS EXCEL CONTAT\r\n",
    "print(sobrenome)\r\n",
    "print(nome, sobrenome)\r\n",
    "print(nome + sobrenome)\r\n",
    "print(nome + \" \" + sobrenome)"
   ],
   "outputs": [
    {
     "output_type": "stream",
     "name": "stdout",
     "text": [
      "caio\n",
      "Lima\n",
      "caio Lima\n",
      "caioLima\n",
      "caio Lima\n"
     ]
    }
   ],
   "metadata": {}
  },
  {
   "cell_type": "code",
   "execution_count": 31,
   "source": [
    "# Evitar caracteres especiasis, acentuação e números no começo, além de espaço em branco.\r\n",
    "# Número deverá somente depois da variável, ex. telefone1\r\n",
    "\r\n",
    "MeuNome = 'Caio Lima Sousa'\r\n",
    "Idade = '21 Anos'\r\n",
    "Cidade = 'São Paulo'\r\n",
    "Profissao = 'Sales Anal.'\r\n",
    "Telefone1 = '(11)96835-0000'\r\n",
    "\r\n",
    "print(MeuNome, Idade, Cidade, Profissao, Telefone1)"
   ],
   "outputs": [
    {
     "output_type": "stream",
     "name": "stdout",
     "text": [
      "Caio Lima Sousa 21 Anos São Paulo Sales Anal. (11)96835-0000\n"
     ]
    }
   ],
   "metadata": {}
  },
  {
   "cell_type": "code",
   "execution_count": 32,
   "source": [
    "print(MeuNome, Idade, Cidade, Profissao, Telefone1)"
   ],
   "outputs": [
    {
     "output_type": "stream",
     "name": "stdout",
     "text": [
      "Caio Lima Sousa 21 Anos São Paulo Sales Anal. (11)96835-0000\n"
     ]
    }
   ],
   "metadata": {}
  },
  {
   "cell_type": "code",
   "execution_count": 47,
   "source": [
    "print('Olá, meu nome é ' + MeuNome)\r\n",
    "print('Olá, meu nome é ' + MeuNome + ' e tenho ' + Idade + ' de idade!')\r\n",
    "print('Olá, meu nome é ' + MeuNome + ', tenho ' + Idade + ' de idade!' + ' e sou de ' + Cidade + ' / TEL: ' + Telefone1 + '\\n')\r\n",
    "\r\n",
    "print( 'NOME: ' + MeuNome +'\\nIDADE: ' + Idade +'\\nCIDADE: ' + Cidade +'TEL: ' + Telefone1)"
   ],
   "outputs": [
    {
     "output_type": "stream",
     "name": "stdout",
     "text": [
      "Olá, meu nome é Caio Lima Sousa\n",
      "Olá, meu nome é Caio Lima Sousa e tenho 21 Anos de idade!\n",
      "Olá, meu nome é Caio Lima Sousa, tenho 21 Anos de idade! e sou de São Paulo / TEL: (11)96835-0000\n",
      "\n",
      "NOME: Caio Lima Sousa\n",
      "IDADE: 21 Anos\n",
      "CIDADE: São PauloTEL: (11)96835-0000\n"
     ]
    }
   ],
   "metadata": {}
  },
  {
   "cell_type": "markdown",
   "source": [
    "## Operadores aritiméticos\n",
    "\n",
    "Trabalahndo com números e operadores"
   ],
   "metadata": {}
  },
  {
   "cell_type": "code",
   "execution_count": 53,
   "source": [
    "a = 5\r\n",
    "b = 6\r\n",
    "\r\n",
    "print(\"A soma dos valores é: \", a + b, '\\n')\r\n",
    "print(\"A diferença dos valores é: \", a - b, '\\n')\r\n",
    "print(\"A multiplicação dos valores é: \", a * b, '\\n')\r\n",
    "print(\"A divisão dos valores é: \", a / b, '\\n')"
   ],
   "outputs": [
    {
     "output_type": "stream",
     "name": "stdout",
     "text": [
      "A soma dos valores é:  11 \n",
      "\n",
      "A diferença dos valores é:  -1 \n",
      "\n",
      "A multiplicação dos valores é:  30 \n",
      "\n",
      "A divisão dos valores é:  0.8333333333333334 \n",
      "\n"
     ]
    }
   ],
   "metadata": {}
  },
  {
   "cell_type": "markdown",
   "source": [
    "## DESAFIO\n",
    "\n",
    "Valor1 Operação Valor2 = Resultado"
   ],
   "metadata": {}
  },
  {
   "cell_type": "code",
   "execution_count": 65,
   "source": [
    "# se a = 'texto' não precisamos expecificar depois, o python reconhece direto\r\n",
    "a = 10\r\n",
    "b = 11\r\n",
    "\r\n",
    "print((a), '+', (b), '=', a + b)\r\n",
    "print((a), '-', (b), '=', a - b)\r\n",
    "print((a), '/', (b), '=', a / b)\r\n",
    "print((a), '*', (b), '=', a * b)"
   ],
   "outputs": [
    {
     "output_type": "stream",
     "name": "stdout",
     "text": [
      "10 + 11 = 21\n",
      "10 - 11 = -1\n",
      "10 / 11 = 0.9090909090909091\n",
      "10 * 11 = 110\n"
     ]
    }
   ],
   "metadata": {}
  },
  {
   "cell_type": "markdown",
   "source": [
    "## Operadores Relacionais"
   ],
   "metadata": {}
  },
  {
   "cell_type": "code",
   "execution_count": 69,
   "source": [
    "10 < 11"
   ],
   "outputs": [
    {
     "output_type": "execute_result",
     "data": {
      "text/plain": [
       "True"
      ]
     },
     "metadata": {},
     "execution_count": 69
    }
   ],
   "metadata": {}
  },
  {
   "cell_type": "code",
   "execution_count": 70,
   "source": [
    "1 > 2"
   ],
   "outputs": [
    {
     "output_type": "execute_result",
     "data": {
      "text/plain": [
       "False"
      ]
     },
     "metadata": {},
     "execution_count": 70
    }
   ],
   "metadata": {}
  },
  {
   "cell_type": "code",
   "execution_count": 71,
   "source": [
    "10>=10"
   ],
   "outputs": [
    {
     "output_type": "execute_result",
     "data": {
      "text/plain": [
       "True"
      ]
     },
     "metadata": {},
     "execution_count": 71
    }
   ],
   "metadata": {}
  },
  {
   "cell_type": "code",
   "execution_count": 72,
   "source": [
    " 3 != 2 "
   ],
   "outputs": [
    {
     "output_type": "execute_result",
     "data": {
      "text/plain": [
       "True"
      ]
     },
     "metadata": {},
     "execution_count": 72
    }
   ],
   "metadata": {}
  },
  {
   "cell_type": "code",
   "execution_count": 74,
   "source": [
    "3 == 3"
   ],
   "outputs": [
    {
     "output_type": "execute_result",
     "data": {
      "text/plain": [
       "True"
      ]
     },
     "metadata": {},
     "execution_count": 74
    }
   ],
   "metadata": {}
  },
  {
   "cell_type": "code",
   "execution_count": 75,
   "source": [
    "a = 10\r\n",
    "b = 11\r\n",
    "\r\n",
    "a < b"
   ],
   "outputs": [
    {
     "output_type": "execute_result",
     "data": {
      "text/plain": [
       "True"
      ]
     },
     "metadata": {},
     "execution_count": 75
    }
   ],
   "metadata": {}
  },
  {
   "cell_type": "code",
   "execution_count": 76,
   "source": [
    "nome1 = 'Caio'\r\n",
    "nome2 = 'Caio'\r\n",
    "\r\n",
    "nome1 == nome2"
   ],
   "outputs": [
    {
     "output_type": "execute_result",
     "data": {
      "text/plain": [
       "True"
      ]
     },
     "metadata": {},
     "execution_count": 76
    }
   ],
   "metadata": {}
  },
  {
   "cell_type": "code",
   "execution_count": 77,
   "source": [
    "nome1 = 'Caio'\r\n",
    "nome2 = ' Caio'\r\n",
    "\r\n",
    "nome1 == nome2"
   ],
   "outputs": [
    {
     "output_type": "execute_result",
     "data": {
      "text/plain": [
       "False"
      ]
     },
     "metadata": {},
     "execution_count": 77
    }
   ],
   "metadata": {}
  },
  {
   "cell_type": "code",
   "execution_count": 83,
   "source": [
    "# o Python exige que os caracteres sejam iguais, considerando também os espaços\r\n",
    "# a condição a ser considerada será sempre a última linha\r\n",
    "# print seleciona a condição que quero, caso não seja a última\r\n",
    "nome1 = 'caio'\r\n",
    "nome2 = 'Caio'\r\n",
    "\r\n",
    "nome1 == nome2\r\n",
    "nome1 != nome2\r\n",
    "\r\n",
    "print(nome1 == nome2)"
   ],
   "outputs": [
    {
     "output_type": "stream",
     "name": "stdout",
     "text": [
      "False\n"
     ]
    }
   ],
   "metadata": {}
  },
  {
   "cell_type": "code",
   "execution_count": 79,
   "source": [
    "nome1 = 'Caio'\r\n",
    "nome2 = ' Caio'\r\n",
    "\r\n",
    "nome1 != nome2"
   ],
   "outputs": [
    {
     "output_type": "execute_result",
     "data": {
      "text/plain": [
       "True"
      ]
     },
     "metadata": {},
     "execution_count": 79
    }
   ],
   "metadata": {}
  },
  {
   "cell_type": "code",
   "execution_count": 81,
   "source": [
    "nome1 = 'caio'\r\n",
    "nome2 = 'Caio'\r\n",
    "\r\n",
    "nome1 == nome2"
   ],
   "outputs": [
    {
     "output_type": "execute_result",
     "data": {
      "text/plain": [
       "False"
      ]
     },
     "metadata": {},
     "execution_count": 81
    }
   ],
   "metadata": {}
  },
  {
   "cell_type": "markdown",
   "source": [
    "## Operadores de atribuição"
   ],
   "metadata": {}
  },
  {
   "cell_type": "code",
   "execution_count": 95,
   "source": [
    "# São formas de atribuir valores/resultados/informação em um var\r\n",
    "\r\n",
    "a=10\r\n",
    "print(a)\r\n",
    "\r\n",
    "a += 1\r\n",
    "#a = a + 1\r\n",
    "#a = 10 + 1\r\n",
    "#a = 11\r\n",
    "\r\n",
    "print(a)\r\n",
    "\r\n",
    "a +=2\r\n",
    "#a = 11\r\n",
    "#a = 11 + 2\r\n",
    "#a = 13\r\n",
    "print(a)\r\n",
    "\r\n",
    "a -= 5\r\n",
    "#a =13\r\n",
    "#a = 13 - 5\r\n",
    "#a = 8 \r\n",
    "print (a)"
   ],
   "outputs": [
    {
     "output_type": "stream",
     "name": "stdout",
     "text": [
      "10\n",
      "11\n",
      "13\n",
      "8\n"
     ]
    }
   ],
   "metadata": {}
  },
  {
   "cell_type": "code",
   "execution_count": 99,
   "source": [
    "#exemplo \r\n",
    "\r\n",
    "a = 3\r\n",
    "a = a + 7 #a = 3 + 7\r\n",
    "\r\n",
    "print(a)\r\n",
    "\r\n",
    "# Acrescentando valores a minha var\r\n",
    "a += 5 #a = 10 + 5\r\n",
    "print(a)\r\n",
    "\r\n",
    "# Retirando valores \r\n",
    "a -= 3 #a = 15 - 3\r\n",
    "print(a)\r\n",
    "\r\n",
    "# Multiplicando valores \r\n",
    "a *= 2 #a 12 * 2 \r\n",
    "print(a)\r\n",
    "\r\n",
    "# Dividindo valores\r\n",
    "a /= 3 #a = 24/3\r\n",
    "print(a)\r\n",
    "\r\n"
   ],
   "outputs": [
    {
     "output_type": "stream",
     "name": "stdout",
     "text": [
      "10\n",
      "15\n",
      "12\n",
      "24\n",
      "8.0\n"
     ]
    }
   ],
   "metadata": {}
  },
  {
   "cell_type": "code",
   "execution_count": 101,
   "source": [
    "# EX. expoente\r\n",
    "\r\n",
    "a = 5\r\n",
    "b = 6\r\n",
    "\r\n",
    "print(\"A soma dos valores é: \", a + b, '\\n')\r\n",
    "print(\"A diferença dos valores é: \", a - b, '\\n')\r\n",
    "print(\"A exponenciação dos valores resultou em\", a ** b, '\\n')\r\n",
    "print(\"O resto(Módulo) da divisão dos valores resultou em\", a % b, '\\n')"
   ],
   "outputs": [
    {
     "output_type": "stream",
     "name": "stdout",
     "text": [
      "A soma dos valores é:  11 \n",
      "\n",
      "A diferença dos valores é:  -1 \n",
      "\n",
      "A exponenciação dos valores resultou em 15625 \n",
      "\n",
      "O resto(Módulo) da divisão dos valores resultou em 5 \n",
      "\n"
     ]
    }
   ],
   "metadata": {}
  },
  {
   "cell_type": "markdown",
   "source": [
    "## Fatiando textos"
   ],
   "metadata": {}
  },
  {
   "cell_type": "code",
   "execution_count": 114,
   "source": [
    "nome = 'Caio Lima Sousa'\n",
    "\n",
    "print(nome)\n",
    "nome[0]"
   ],
   "outputs": [
    {
     "output_type": "stream",
     "name": "stdout",
     "text": [
      "Caio Lima Sousa\n"
     ]
    },
    {
     "output_type": "execute_result",
     "data": {
      "text/plain": [
       "'C'"
      ]
     },
     "metadata": {},
     "execution_count": 114
    }
   ],
   "metadata": {}
  },
  {
   "cell_type": "code",
   "execution_count": 117,
   "source": [
    "print(nome)\n",
    "nome[:16]"
   ],
   "outputs": [
    {
     "output_type": "stream",
     "name": "stdout",
     "text": [
      "Caio Lima Sousa\n"
     ]
    },
    {
     "output_type": "execute_result",
     "data": {
      "text/plain": [
       "'Caio Lima Sousa'"
      ]
     },
     "metadata": {},
     "execution_count": 117
    }
   ],
   "metadata": {}
  },
  {
   "cell_type": "code",
   "execution_count": 118,
   "source": [
    "print(nome)\n",
    "nome[3:16]"
   ],
   "outputs": [
    {
     "output_type": "stream",
     "name": "stdout",
     "text": [
      "Caio Lima Sousa\n"
     ]
    },
    {
     "output_type": "execute_result",
     "data": {
      "text/plain": [
       "'o Lima Sousa'"
      ]
     },
     "metadata": {},
     "execution_count": 118
    }
   ],
   "metadata": {
    "scrolled": false
   }
  },
  {
   "cell_type": "code",
   "execution_count": 119,
   "source": [
    "print(nome)\n",
    "nome[3:12]"
   ],
   "outputs": [
    {
     "output_type": "stream",
     "name": "stdout",
     "text": [
      "Caio Lima Sousa\n"
     ]
    },
    {
     "output_type": "execute_result",
     "data": {
      "text/plain": [
       "'o Lima So'"
      ]
     },
     "metadata": {},
     "execution_count": 119
    }
   ],
   "metadata": {
    "scrolled": true
   }
  },
  {
   "cell_type": "code",
   "execution_count": 120,
   "source": [
    "print(nome)\n",
    "nome[3:]"
   ],
   "outputs": [
    {
     "output_type": "stream",
     "name": "stdout",
     "text": [
      "Caio Lima Sousa\n"
     ]
    },
    {
     "output_type": "execute_result",
     "data": {
      "text/plain": [
       "'o Lima Sousa'"
      ]
     },
     "metadata": {},
     "execution_count": 120
    }
   ],
   "metadata": {
    "scrolled": true
   }
  },
  {
   "cell_type": "code",
   "execution_count": 121,
   "source": [
    "print(nome)\n",
    "nome[:5]"
   ],
   "outputs": [
    {
     "output_type": "stream",
     "name": "stdout",
     "text": [
      "Caio Lima Sousa\n"
     ]
    },
    {
     "output_type": "execute_result",
     "data": {
      "text/plain": [
       "'Caio '"
      ]
     },
     "metadata": {},
     "execution_count": 121
    }
   ],
   "metadata": {
    "scrolled": true
   }
  },
  {
   "cell_type": "code",
   "execution_count": 122,
   "source": [
    "print(nome)\n",
    "nome[:-1]"
   ],
   "outputs": [
    {
     "output_type": "stream",
     "name": "stdout",
     "text": [
      "Caio Lima Sousa\n"
     ]
    },
    {
     "output_type": "execute_result",
     "data": {
      "text/plain": [
       "'Caio Lima Sous'"
      ]
     },
     "metadata": {},
     "execution_count": 122
    }
   ],
   "metadata": {
    "scrolled": true
   }
  },
  {
   "cell_type": "code",
   "execution_count": 123,
   "source": [
    "print(nome)\n",
    "nome[-1]"
   ],
   "outputs": [
    {
     "output_type": "stream",
     "name": "stdout",
     "text": [
      "Caio Lima Sousa\n"
     ]
    },
    {
     "output_type": "execute_result",
     "data": {
      "text/plain": [
       "'a'"
      ]
     },
     "metadata": {},
     "execution_count": 123
    }
   ],
   "metadata": {}
  },
  {
   "cell_type": "code",
   "execution_count": 124,
   "source": [
    "print(nome)\n",
    "nome[3:-2]"
   ],
   "outputs": [
    {
     "output_type": "stream",
     "name": "stdout",
     "text": [
      "Caio Lima Sousa\n"
     ]
    },
    {
     "output_type": "execute_result",
     "data": {
      "text/plain": [
       "'o Lima Sou'"
      ]
     },
     "metadata": {},
     "execution_count": 124
    }
   ],
   "metadata": {}
  },
  {
   "cell_type": "code",
   "execution_count": 134,
   "source": [
    "numeros = '1234567890'\n",
    "\n",
    "print(numeros)\n",
    "#numeros # imprimindo todos os meus valores que estão em números\n",
    "\n",
    "numeros[2::3]"
   ],
   "outputs": [
    {
     "output_type": "stream",
     "name": "stdout",
     "text": [
      "1234567890\n"
     ]
    },
    {
     "output_type": "execute_result",
     "data": {
      "text/plain": [
       "'369'"
      ]
     },
     "metadata": {},
     "execution_count": 134
    }
   ],
   "metadata": {}
  },
  {
   "cell_type": "code",
   "execution_count": 133,
   "source": [
    "numeros[::]"
   ],
   "outputs": [
    {
     "output_type": "execute_result",
     "data": {
      "text/plain": [
       "'1234567890'"
      ]
     },
     "metadata": {},
     "execution_count": 133
    }
   ],
   "metadata": {}
  },
  {
   "cell_type": "code",
   "execution_count": 135,
   "source": [
    "numeros[::3]"
   ],
   "outputs": [
    {
     "output_type": "execute_result",
     "data": {
      "text/plain": [
       "'1470'"
      ]
     },
     "metadata": {},
     "execution_count": 135
    }
   ],
   "metadata": {}
  },
  {
   "cell_type": "markdown",
   "source": [
    "# Exemplo de gerador de senhas em python\n",
    "\n",
    "- Informar para o meu sistema a base de caracteres \n",
    "- Pegar os caracteres de forma aleatória\n",
    "- Apresentar na tela"
   ],
   "metadata": {}
  },
  {
   "cell_type": "code",
   "execution_count": 137,
   "source": [
    "caracteres = 'abcdefghijklmnopqrstuvwxyzABCDEFGHIJKLMNOPQRSTUVWXYZ0123456789!@#$%'\n",
    "caracteres [::3]"
   ],
   "outputs": [
    {
     "output_type": "execute_result",
     "data": {
      "text/plain": [
       "'adgjmpsvyBEHKNQTWZ258@%'"
      ]
     },
     "metadata": {},
     "execution_count": 137
    }
   ],
   "metadata": {}
  },
  {
   "cell_type": "markdown",
   "source": [
    "### Continuando com slice"
   ],
   "metadata": {}
  },
  {
   "cell_type": "code",
   "execution_count": 138,
   "source": [
    "frase = 'Python é legal de mais'\n",
    "\n",
    "# Quero saber se uma determinado informação está dentro da frase, ex. se tem \"Py\"\n",
    "\n",
    "'Py' in frase"
   ],
   "outputs": [
    {
     "output_type": "execute_result",
     "data": {
      "text/plain": [
       "True"
      ]
     },
     "metadata": {},
     "execution_count": 138
    }
   ],
   "metadata": {}
  },
  {
   "cell_type": "code",
   "execution_count": 139,
   "source": [
    "'py' in frase"
   ],
   "outputs": [
    {
     "output_type": "execute_result",
     "data": {
      "text/plain": [
       "False"
      ]
     },
     "metadata": {},
     "execution_count": 139
    }
   ],
   "metadata": {}
  },
  {
   "cell_type": "code",
   "execution_count": 140,
   "source": [
    "# Verificar se NÃO possui dentro da frase \n",
    "\n",
    "'ing' not in frase"
   ],
   "outputs": [
    {
     "output_type": "execute_result",
     "data": {
      "text/plain": [
       "True"
      ]
     },
     "metadata": {},
     "execution_count": 140
    }
   ],
   "metadata": {}
  },
  {
   "cell_type": "code",
   "execution_count": 141,
   "source": [
    "'Py' not in frase"
   ],
   "outputs": [
    {
     "output_type": "execute_result",
     "data": {
      "text/plain": [
       "False"
      ]
     },
     "metadata": {},
     "execution_count": 141
    }
   ],
   "metadata": {}
  },
  {
   "cell_type": "code",
   "execution_count": 142,
   "source": [
    "# Verificar o tamanho de uma var\n",
    "\n",
    "len(frase)"
   ],
   "outputs": [
    {
     "output_type": "execute_result",
     "data": {
      "text/plain": [
       "22"
      ]
     },
     "metadata": {},
     "execution_count": 142
    }
   ],
   "metadata": {}
  },
  {
   "cell_type": "code",
   "execution_count": 146,
   "source": [
    "# Converter o momento da impressão para maiúsculos/minúsculos\n",
    "\n",
    "print(frase)\n",
    "frase.lower()\n"
   ],
   "outputs": [
    {
     "output_type": "stream",
     "name": "stdout",
     "text": [
      "Python é legal de mais\n"
     ]
    },
    {
     "output_type": "execute_result",
     "data": {
      "text/plain": [
       "'python é legal de mais'"
      ]
     },
     "metadata": {},
     "execution_count": 146
    }
   ],
   "metadata": {}
  },
  {
   "cell_type": "code",
   "execution_count": 144,
   "source": [
    "frase.upper()"
   ],
   "outputs": [
    {
     "output_type": "execute_result",
     "data": {
      "text/plain": [
       "'PYTHON É LEGAL DE MAIS'"
      ]
     },
     "metadata": {},
     "execution_count": 144
    }
   ],
   "metadata": {}
  },
  {
   "cell_type": "code",
   "execution_count": 147,
   "source": [
    "print(frase)"
   ],
   "outputs": [
    {
     "output_type": "stream",
     "name": "stdout",
     "text": [
      "Python é legal de mais\n"
     ]
    }
   ],
   "metadata": {}
  },
  {
   "cell_type": "code",
   "execution_count": 154,
   "source": [
    "# Convertendo o valor para Maiúsculo\n",
    "\n",
    "fraseMaius = frase.upper()\n",
    "fraseMinus = frase.lower()\n",
    "\n",
    "print(fraseMaius, '\\n')\n",
    "print(fraseMinus, '\\n')\n",
    "print(frase, '\\n')"
   ],
   "outputs": [
    {
     "output_type": "stream",
     "name": "stdout",
     "text": [
      "PYTHON É LEGAL DE MAIS \n",
      "\n",
      "python é legal de mais \n",
      "\n",
      "Python é legal de mais \n",
      "\n"
     ]
    }
   ],
   "metadata": {}
  },
  {
   "cell_type": "markdown",
   "source": [
    "## Exercício\n",
    "\n",
    "- EX.1.: CALCULADORA DE 3\n",
    " - Escreva um script que pegue o 3 variáveis e faça a soma de todos os valores;\n",
    " - Escreva um script que pegue o 3 variáveis e faça a subtração de todos os valores;\n",
    " - Escreva um script que pegue o 3 variáveis e faça a multiplicação de todos os valores;\n",
    " - Escreva um script que pegue o 3 variáveis e faça a divisão de todos os valores."
   ],
   "metadata": {}
  },
  {
   "cell_type": "code",
   "execution_count": 159,
   "source": [
    "a = 14\n",
    "b = 15\n",
    "c = 16\n",
    "\n",
    "print((a), '+', (b), '+', (c), '=', a + b + c)\n",
    "print((a), '-', (b), '-', (c), '=', a - b - c)\n",
    "print((a), '*', (b), '*', (c), '=', a * b * c)\n",
    "print((a), '/', (b), '/', (c), '=', a / b / c)"
   ],
   "outputs": [
    {
     "output_type": "stream",
     "name": "stdout",
     "text": [
      "14 + 15 + 16 = 45\n",
      "14 - 15 - 16 = -17\n",
      "14 * 15 * 16 = 3360\n",
      "14 / 15 / 16 = 0.058333333333333334\n"
     ]
    }
   ],
   "metadata": {}
  },
  {
   "cell_type": "code",
   "execution_count": 160,
   "source": [],
   "outputs": [],
   "metadata": {}
  }
 ],
 "metadata": {
  "kernelspec": {
   "name": "python3",
   "display_name": "Python 3.8.8 64-bit ('base': conda)"
  },
  "language_info": {
   "codemirror_mode": {
    "name": "ipython",
    "version": 3
   },
   "file_extension": ".py",
   "mimetype": "text/x-python",
   "name": "python",
   "nbconvert_exporter": "python",
   "pygments_lexer": "ipython3",
   "version": "3.8.8"
  },
  "interpreter": {
   "hash": "b3ba2566441a7c06988d0923437866b63cedc61552a5af99d1f4fb67d367b25f"
  }
 },
 "nbformat": 4,
 "nbformat_minor": 5
}
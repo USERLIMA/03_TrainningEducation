{
 "cells": [
  {
   "cell_type": "markdown",
   "id": "c887e381",
   "metadata": {},
   "source": [
    "## Dicionários \n",
    "\n",
    "- Dicionários são pares chave-valor(key-value).Cada chave é separada de seu valor por dois pontos(:), os itens são separados por vírgulas e colocados entre chaves. Um dicionário vazio sem itens é escrito com apenas duas chaves, assim: {}.\n",
    "\n",
    "- As chaves são únicas em um dicionário, enquanto os valores podem não ser. Os valores de um dicionário podem ser de qualquer tipo, mas as chaves devem ser de um tipo de dados imutáveis, como cadeias, números ou tuplas."
   ]
  },
  {
   "cell_type": "markdown",
   "id": "bd318646",
   "metadata": {},
   "source": [
    "## Acessando valores no dicionário\n",
    "\n",
    "- Para acessar os elementos do dicionário, você pode usar os colchetes familiares, juntamente com a chave, para obter seu valor. A seguir, um exemplo simples:"
   ]
  },
  {
   "cell_type": "code",
   "execution_count": 1,
   "id": "4150a014",
   "metadata": {},
   "outputs": [],
   "source": [
    "# Criando nosso primeiro Dicionário\n",
    "\n",
    "primeiroDici = {\n",
    "                'Nome': 'Florinda', \n",
    "                'idade': 47, \n",
    "                'Curso': 'Pedagogia'\n",
    "               }"
   ]
  },
  {
   "cell_type": "code",
   "execution_count": 3,
   "id": "447441a4",
   "metadata": {},
   "outputs": [
    {
     "name": "stdout",
     "output_type": "stream",
     "text": [
      "primeiroDici['Nome']:  Florinda\n",
      "primeiroDici['Idade']:  47\n"
     ]
    }
   ],
   "source": [
    "# Imprimindo os valores do meu Dicionário\n",
    "\n",
    "print(\"primeiroDici['Nome']: \", primeiroDici['Nome'])\n",
    "print(\"primeiroDici[\\'Idade']: \", primeiroDici['idade'])"
   ]
  },
  {
   "cell_type": "code",
   "execution_count": 6,
   "id": "fa99cbc1",
   "metadata": {},
   "outputs": [
    {
     "name": "stdout",
     "output_type": "stream",
     "text": [
      "None\n"
     ]
    }
   ],
   "source": [
    "# Possíveis Erros no caso de chamar uma chave inexistente no Dicionário\n",
    "\n",
    "# Retorna Erro\n",
    "# print(primeiroDici['endereco']) \n",
    "\n",
    "# Retorna NONE, caso a chave seja inexistente no Dicionário\n",
    "print(primeiroDici.get('endereco')) \n",
    "\n",
    "# print(primeiroDici['endereco']) # retorna erro \n"
   ]
  },
  {
   "cell_type": "markdown",
   "id": "5b842f99",
   "metadata": {},
   "source": [
    "## Atualizando um Dicionário\n",
    "- Você pode atualizar/alterar um dicionário adicionando uma nova entrada ou um par de valores-chave, modificando uma entrada existente ou excluindo uma entrada existente, conforme mostrado abaixo no exemplo:"
   ]
  },
  {
   "cell_type": "code",
   "execution_count": 7,
   "id": "afe05659",
   "metadata": {},
   "outputs": [
    {
     "name": "stdout",
     "output_type": "stream",
     "text": [
      "meuDici['idade']:  37\n"
     ]
    }
   ],
   "source": [
    "meuDici = {\n",
    "    'Nome': 'Florinda', \n",
    "    'idade': 37, \n",
    "    'Curso': 'Pedagogia'\n",
    "}\n",
    "\n",
    "print(\"meuDici['idade']: \", meuDici['idade'])"
   ]
  },
  {
   "cell_type": "code",
   "execution_count": 9,
   "id": "f8fc3f9d",
   "metadata": {},
   "outputs": [
    {
     "name": "stdout",
     "output_type": "stream",
     "text": [
      "meuDici['idade']:  47\n"
     ]
    }
   ],
   "source": [
    "# Atualizando o valor presente em idade de 37 para 47\n",
    "\n",
    "meuDici['idade'] = 47 \n",
    "print(\"meuDici['idade']: \", meuDici['idade'])"
   ]
  },
  {
   "cell_type": "code",
   "execution_count": 10,
   "id": "77b81269",
   "metadata": {},
   "outputs": [
    {
     "name": "stdout",
     "output_type": "stream",
     "text": [
      "meuDici['Status']:  Cursando\n"
     ]
    }
   ],
   "source": [
    "# Adicionar uma nova chave-valor\n",
    "\n",
    "meuDici['Status'] = \"Cursando\"\n",
    "print(\"meuDici['Status']: \", meuDici['Status'])"
   ]
  },
  {
   "cell_type": "markdown",
   "id": "431c6bd4",
   "metadata": {},
   "source": [
    "## EXERCÍCIO"
   ]
  },
  {
   "cell_type": "code",
   "execution_count": 16,
   "id": "1e86154c",
   "metadata": {},
   "outputs": [
    {
     "name": "stdout",
     "output_type": "stream",
     "text": [
      "meuDiciEX['Nome']:  CAIO \n",
      "meuDiciEX['Idade']:  21 \n",
      "meuDiciEX['Curso']:  ENGENHARIA QUÍMICA\n"
     ]
    }
   ],
   "source": [
    "meuDiciEX = {\n",
    "    'Nome': 'CAIO', \n",
    "    'idade': 21, \n",
    "    'Curso': 'ENGENHARIA QUÍMICA'\n",
    "}\n",
    "\n",
    "print(\"meuDiciEX['Nome']: \",meuDiciEX['Nome'], \"\\nmeuDiciEX['Idade']: \",meuDiciEX['idade'], \n",
    "      \"\\nmeuDiciEX['Curso']: \",meuDiciEX['Curso'])"
   ]
  },
  {
   "cell_type": "code",
   "execution_count": null,
   "id": "c786412b",
   "metadata": {},
   "outputs": [],
   "source": []
  }
 ],
 "metadata": {
  "kernelspec": {
   "display_name": "Python 3",
   "language": "python",
   "name": "python3"
  },
  "language_info": {
   "codemirror_mode": {
    "name": "ipython",
    "version": 3
   },
   "file_extension": ".py",
   "mimetype": "text/x-python",
   "name": "python",
   "nbconvert_exporter": "python",
   "pygments_lexer": "ipython3",
   "version": "3.8.8"
  }
 },
 "nbformat": 4,
 "nbformat_minor": 5
}

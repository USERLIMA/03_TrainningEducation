{
 "cells": [
  {
   "cell_type": "markdown",
   "id": "47bf92c2",
   "metadata": {},
   "source": [
    "# Dicionários\n",
    "\n",
    "Dicionários são pares **chave-valor(key-value)**.Cada chave é separada de seu valor por dois pontos(:), os itens são separados por vírgulas e colocados entre chaves. Um dicionário vazio sem itens é escrito com apenas duas chaves, assim: {}.\n",
    "\n",
    "As chaves são únicas em um dicionário, enquanto os valores podem não ser. Os valores de um dicionário podem ser de qualquer tipo, mas as chaves devem ser de um tipo de dados imutáveis, como cadeias, números ou tuplas."
   ]
  },
  {
   "cell_type": "markdown",
   "id": "38b6b5b3",
   "metadata": {},
   "source": [
    "## Acessando valores no dicionário\n",
    "\n",
    "Para acessar os elementos do dicionário, você pode usar os colchetes familiares, juntamente com a chave, para obter seu valor. A seguir, um exemplo simples:\n"
   ]
  },
  {
   "cell_type": "code",
   "execution_count": 1,
   "id": "9523a5d9",
   "metadata": {},
   "outputs": [],
   "source": [
    "# Criando nosso primeiro Dicionário\n",
    "primeiroDici = {\n",
    "                'Nome': 'Florinda', \n",
    "                'idade': 47, \n",
    "                'Curso': 'Pedagogia'\n",
    "               }"
   ]
  },
  {
   "cell_type": "code",
   "execution_count": 5,
   "id": "ab98432d",
   "metadata": {},
   "outputs": [
    {
     "name": "stdout",
     "output_type": "stream",
     "text": [
      "primeiroDici['Nome']:  Florinda\n",
      "primeiroDici['Idade']:  47\n"
     ]
    }
   ],
   "source": [
    "# Imprimindo os valores do meu Dicionário\n",
    "print(\"primeiroDici['Nome']: \", primeiroDici['Nome'])\n",
    "print(\"primeiroDici['Idade']: \", primeiroDici['idade'])"
   ]
  },
  {
   "cell_type": "code",
   "execution_count": 12,
   "id": "28b405a7",
   "metadata": {},
   "outputs": [
    {
     "name": "stdout",
     "output_type": "stream",
     "text": [
      "None\n"
     ]
    }
   ],
   "source": [
    "# Possíveis Erros no caso de chamar uma chave inexistente no Dicionário\n",
    "\n",
    "# Retorna Erro\n",
    "# print(primeiroDici['endereco']) \n",
    "\n",
    "# Retorna NONE, caso a chave seja inexistente no Dicionário\n",
    "print(primeiroDici.get('endereco'))"
   ]
  },
  {
   "cell_type": "markdown",
   "id": "62be9724",
   "metadata": {},
   "source": [
    "## Atualizando um Dicionário\n",
    "\n",
    "Você pode atualizar/alterar um dicionário adicionando uma nova entrada ou um par de valores-chave, modificando uma entrada existente ou excluindo uma entrada existente, conforme mostrado abaixo no exemplo:"
   ]
  },
  {
   "cell_type": "code",
   "execution_count": 15,
   "id": "06e0d819",
   "metadata": {},
   "outputs": [
    {
     "name": "stdout",
     "output_type": "stream",
     "text": [
      "meuDici['idade']:  37\n"
     ]
    }
   ],
   "source": [
    "meuDici = {\n",
    "    'Nome': 'Florinda', \n",
    "    'idade': 37, \n",
    "    'Curso': 'Pedagogia'\n",
    "}\n",
    "\n",
    "print(\"meuDici['idade']: \", meuDici['idade'])"
   ]
  },
  {
   "cell_type": "code",
   "execution_count": 17,
   "id": "3d93f426",
   "metadata": {},
   "outputs": [
    {
     "name": "stdout",
     "output_type": "stream",
     "text": [
      "meuDici['idade']:  47\n"
     ]
    }
   ],
   "source": [
    "# Atualizando o valor presente em idade de 37 para 47\n",
    "meuDici['idade'] = 47 \n",
    "print(\"meuDici['idade']: \", meuDici['idade'])"
   ]
  },
  {
   "cell_type": "code",
   "execution_count": 18,
   "id": "fe54cd99",
   "metadata": {},
   "outputs": [
    {
     "name": "stdout",
     "output_type": "stream",
     "text": [
      "meuDici['Status']:  Cursando\n"
     ]
    }
   ],
   "source": [
    "# Adicionar uma nova chave-valor\n",
    "meuDici['Status'] = \"Cursando\"\n",
    "print(\"meuDici['Status']: \", meuDici['Status'])"
   ]
  },
  {
   "cell_type": "markdown",
   "id": "5e3f99a8",
   "metadata": {},
   "source": [
    "## Exercício\n",
    "\n",
    "- 1º - Crie um dicionário com as seguintes informações:\n",
    "    - Nome, idade, "
   ]
  }
 ],
 "metadata": {
  "kernelspec": {
   "display_name": "Python 3",
   "language": "python",
   "name": "python3"
  },
  "language_info": {
   "codemirror_mode": {
    "name": "ipython",
    "version": 3
   },
   "file_extension": ".py",
   "mimetype": "text/x-python",
   "name": "python",
   "nbconvert_exporter": "python",
   "pygments_lexer": "ipython3",
   "version": "3.8.8"
  }
 },
 "nbformat": 4,
 "nbformat_minor": 5
}

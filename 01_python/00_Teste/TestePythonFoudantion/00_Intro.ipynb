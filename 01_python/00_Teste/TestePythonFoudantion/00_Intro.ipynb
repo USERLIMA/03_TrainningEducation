{
 "cells": [
  {
   "cell_type": "code",
   "execution_count": 20,
   "id": "0adaeac8",
   "metadata": {},
   "outputs": [
    {
     "name": "stdout",
     "output_type": "stream",
     "text": [
      "Adriano\n",
      "Silva\n",
      "Adriano Silva\n",
      "AdrianoSilva\n",
      "Adriano Silva\n"
     ]
    }
   ],
   "source": [
    "nome = 'Adriano'\n",
    "sobrenome = 'Silva'\n",
    "\n",
    "print(nome) # Mostrando o valor de Nome\n",
    "print(sobrenome) # Mostrando o valor de Sobrenome\n",
    "print(nome, sobrenome) # Mostrando o valor de Nome e Sobrenome\n",
    "print(nome + sobrenome) # Mostrando o valor de Nome e Sobrenome\n",
    "print(nome + \" \" + sobrenome) # Mostrando o valor de Nome e Sobrenome com espaço"
   ]
  },
  {
   "cell_type": "code",
   "execution_count": 28,
   "id": "6488fd14",
   "metadata": {},
   "outputs": [],
   "source": [
    "meuNome = \"Adriano Leite da Silva\"\n",
    "idade = \"33 anos\"\n",
    "cidade = \"São Paulo\"\n",
    "profissao = \"Professor\"\n",
    "telefone1 = \"0000000000000\"\n",
    "\n",
    "# Evitar na hora de nomear variáveis\n",
    "# - Caracteres especiais\n",
    "# - Acentuação\n",
    "# - Numeros no começo do nome\n",
    "# - Espaços em branco"
   ]
  },
  {
   "cell_type": "code",
   "execution_count": 30,
   "id": "0d96c2fb",
   "metadata": {},
   "outputs": [
    {
     "name": "stdout",
     "output_type": "stream",
     "text": [
      "Adriano Leite da Silva 33 anos São Paulo Professor 0000000000000\n"
     ]
    }
   ],
   "source": [
    "print(meuNome, idade, cidade, profissao, telefone1)"
   ]
  },
  {
   "cell_type": "code",
   "execution_count": 50,
   "id": "99b2699e",
   "metadata": {},
   "outputs": [
    {
     "name": "stdout",
     "output_type": "stream",
     "text": [
      "Olá, meu nome é Adriano Leite da Silva\n",
      " \n",
      "Olá, meu nome é Adriano Leite da Silva tenho 33 anos de idade!\n",
      " \n",
      "Olá, meu nome é Adriano Leite da Silva tenho 33 anos de idade!\n",
      "Nascido na cidade de São Paulo.\n",
      " \n",
      "Olá, meu nome é Adriano Leite da Silva tenho 33 anos de idade!\n",
      "Nascido na cidade de São Paulo. Meu telefone é 0000000000000\n",
      " \n",
      "Olá, meu nome é Adriano Leite da Silva tenho 33 anos de idade!\n",
      "Nascido na cidade de São Paulo. Sou Professor e meu telefone é 0000000000000\n"
     ]
    }
   ],
   "source": [
    "print(\"Olá, meu nome é \" + meuNome)\n",
    "print(\" \")\n",
    "print(\"Olá, meu nome é \" + meuNome + \" tenho \" + idade + \" de idade!\")\n",
    "print(\" \")\n",
    "print(\"Olá, meu nome é \" + meuNome + \" tenho \" + idade +\n",
    "      \" de idade!\\nNascido na cidade de \" + cidade + \".\")\n",
    "print(\" \")\n",
    "print(\"Olá, meu nome é \" + meuNome + \" tenho \" + idade +\n",
    "      \" de idade!\\nNascido na cidade de \" + cidade + \". Meu telefone é \" + telefone1)\n",
    "print(\" \")\n",
    "print(\"Olá, meu nome é \" + meuNome + \" tenho \" + idade +\n",
    "      \" de idade!\\nNascido na cidade de \" + cidade + \". Sou \" + profissao + \" e meu telefone é \" + telefone1)"
   ]
  },
  {
   "cell_type": "markdown",
   "id": "f02e9eb2",
   "metadata": {},
   "source": [
    "## Operadores Aritméticos\n",
    "\n",
    "Trabalhando com Números e Operações"
   ]
  },
  {
   "cell_type": "code",
   "execution_count": 121,
   "id": "f66502e2",
   "metadata": {},
   "outputs": [
    {
     "name": "stdout",
     "output_type": "stream",
     "text": [
      "A soma dos valores resultou em:  11\n",
      "A subtração dos valores resultou em:  -1\n",
      "A multiplicação dos valores resultou em:  30\n",
      "A divisão dos valores resultou em 0.8333333333333334\n",
      "A exponenciação dos valores resultou em 15625\n",
      "O resto da divisão dos valores resultou em 5\n"
     ]
    }
   ],
   "source": [
    "a = 5\n",
    "b = 6\n",
    "\n",
    "print(\"A soma dos valores resultou em: \", a + b)\n",
    "print(\"A subtração dos valores resultou em: \", a - b)\n",
    "print(\"A multiplicação dos valores resultou em: \", a * b)\n",
    "print(\"A divisão dos valores resultou em\", a / b)\n",
    "print(\"A exponenciação dos valores resultou em\", a ** b)\n",
    "print(\"O resto(Módulo) da divisão dos valores resultou em\", a % b)"
   ]
  },
  {
   "cell_type": "markdown",
   "id": "89c873a2",
   "metadata": {},
   "source": [
    "## Desafio\n",
    "\n",
    "valorUm Operação valorDois = resultado\n",
    "\n",
    "5 + 5 = 11"
   ]
  },
  {
   "cell_type": "code",
   "execution_count": null,
   "id": "7dc09a82",
   "metadata": {},
   "outputs": [],
   "source": []
  },
  {
   "cell_type": "code",
   "execution_count": 63,
   "id": "cf1b3e0e",
   "metadata": {},
   "outputs": [
    {
     "name": "stdout",
     "output_type": "stream",
     "text": [
      "10 + 11 = 21\n",
      "10 - 11 = -1\n",
      "10 x 11 = 110\n",
      "10 : 11 = 0.9090909090909091\n"
     ]
    }
   ],
   "source": [
    "a = \"texto\"\n",
    "a = 10\n",
    "b = 11\n",
    "\n",
    "print(a, \"+\", b, \"=\", a + b)\n",
    "print(a, \"-\", b, \"=\", a - b)\n",
    "print(a, \"x\", b, \"=\", a * b)\n",
    "print(a, \":\", b, \"=\", a / b)"
   ]
  },
  {
   "cell_type": "markdown",
   "id": "e38aa2b3",
   "metadata": {},
   "source": [
    "## Operadores Relacionais"
   ]
  },
  {
   "cell_type": "code",
   "execution_count": 69,
   "id": "c6343e55",
   "metadata": {},
   "outputs": [
    {
     "data": {
      "text/plain": [
       "True"
      ]
     },
     "execution_count": 69,
     "metadata": {},
     "output_type": "execute_result"
    }
   ],
   "source": [
    "10 < 11 # 10 é menor que 11? "
   ]
  },
  {
   "cell_type": "code",
   "execution_count": 70,
   "id": "a8441624",
   "metadata": {},
   "outputs": [
    {
     "data": {
      "text/plain": [
       "False"
      ]
     },
     "execution_count": 70,
     "metadata": {},
     "output_type": "execute_result"
    }
   ],
   "source": [
    "1 > 2 # 1 é maior que 2?"
   ]
  },
  {
   "cell_type": "code",
   "execution_count": 71,
   "id": "bf1861a6",
   "metadata": {},
   "outputs": [
    {
     "data": {
      "text/plain": [
       "True"
      ]
     },
     "execution_count": 71,
     "metadata": {},
     "output_type": "execute_result"
    }
   ],
   "source": [
    "10 >= 10 # 10 é maior ou igual a 10?"
   ]
  },
  {
   "cell_type": "code",
   "execution_count": 74,
   "id": "50c49d6c",
   "metadata": {},
   "outputs": [
    {
     "data": {
      "text/plain": [
       "True"
      ]
     },
     "execution_count": 74,
     "metadata": {},
     "output_type": "execute_result"
    }
   ],
   "source": [
    " 3 != 2 # 3 é diferente de 2?"
   ]
  },
  {
   "cell_type": "code",
   "execution_count": 77,
   "id": "061bc60e",
   "metadata": {},
   "outputs": [
    {
     "data": {
      "text/plain": [
       "True"
      ]
     },
     "execution_count": 77,
     "metadata": {},
     "output_type": "execute_result"
    }
   ],
   "source": [
    "3 == 3 # 3 é igual a 3?"
   ]
  },
  {
   "cell_type": "code",
   "execution_count": 88,
   "id": "e2f4849f",
   "metadata": {},
   "outputs": [
    {
     "data": {
      "text/plain": [
       "True"
      ]
     },
     "execution_count": 88,
     "metadata": {},
     "output_type": "execute_result"
    }
   ],
   "source": [
    "a = 10\n",
    "b = 11\n",
    "\n",
    "a < b"
   ]
  },
  {
   "cell_type": "code",
   "execution_count": 84,
   "id": "c6c8f360",
   "metadata": {},
   "outputs": [
    {
     "data": {
      "text/plain": [
       "False"
      ]
     },
     "execution_count": 84,
     "metadata": {},
     "output_type": "execute_result"
    }
   ],
   "source": [
    "nome = \"Adriano\"\n",
    "nomeDois = \"adriano\"\n",
    "\n",
    "nome != nomeDois"
   ]
  },
  {
   "cell_type": "markdown",
   "id": "1b2e59ad",
   "metadata": {},
   "source": [
    "## Operadores de Atribuição"
   ]
  },
  {
   "cell_type": "code",
   "execution_count": 110,
   "id": "38ac2b52",
   "metadata": {},
   "outputs": [
    {
     "name": "stdout",
     "output_type": "stream",
     "text": [
      "10\n",
      "11\n",
      "13\n",
      "8\n"
     ]
    }
   ],
   "source": [
    "# São formas de você atribuir valores/resultados/informações em uma var\n",
    "a = 10\n",
    "print(a)\n",
    "\n",
    "a += 1\n",
    "# a = a + 1\n",
    "# a = 10 + 1\n",
    "# a = 11\n",
    "print(a)\n",
    "\n",
    "a += 2\n",
    "# a = 11\n",
    "# a = 11 + 2\n",
    "# a = 13\n",
    "print(a)\n",
    "\n",
    "a -=5\n",
    "# a = 13\n",
    "# a = 13 - 5\n",
    "# a = 8\n",
    "print(a)"
   ]
  },
  {
   "cell_type": "code",
   "execution_count": 119,
   "id": "94177e04",
   "metadata": {},
   "outputs": [
    {
     "name": "stdout",
     "output_type": "stream",
     "text": [
      "10\n",
      "15\n",
      "12\n",
      "24\n",
      "8.0\n"
     ]
    }
   ],
   "source": [
    "# Exemplo\n",
    "\n",
    "# Forma menos usual\n",
    "a = 3\n",
    "a = a + 7 # a = 3 + 7\n",
    "print(a)\n",
    "\n",
    "# Acrescentando valores a minha var\n",
    "a += 5 # a = 10 + 5\n",
    "print(a)\n",
    "\n",
    "# Retirando valores\n",
    "a -= 3 # a = 15 -3\n",
    "print(a)\n",
    "\n",
    "# Multiplicando valores\n",
    "a *= 2 # a = 12 * 2\n",
    "print(a)\n",
    "\n",
    "# Dividindo valores\n",
    "a /= 3 # a = 24 / 3\n",
    "print(a)"
   ]
  },
  {
   "cell_type": "markdown",
   "id": "dab970b9",
   "metadata": {},
   "source": [
    "# Fatiando textos"
   ]
  },
  {
   "cell_type": "code",
   "execution_count": 124,
   "id": "76d8f84d",
   "metadata": {},
   "outputs": [
    {
     "data": {
      "text/plain": [
       "'i'"
      ]
     },
     "execution_count": 124,
     "metadata": {},
     "output_type": "execute_result"
    }
   ],
   "source": [
    "nome = 'Adriano Leite da Silva'\n",
    "\n",
    "nome[18] # Posição de nº 18"
   ]
  },
  {
   "cell_type": "code",
   "execution_count": 131,
   "id": "58bc12ca",
   "metadata": {},
   "outputs": [
    {
     "name": "stdout",
     "output_type": "stream",
     "text": [
      "Adriano Leite da Silva\n"
     ]
    },
    {
     "data": {
      "text/plain": [
       "'iano Leite da Silva'"
      ]
     },
     "execution_count": 131,
     "metadata": {},
     "output_type": "execute_result"
    }
   ],
   "source": [
    "print(nome)\n",
    "nome[3:] # Pego a partir da posição 3 e mostro todo o restante"
   ]
  },
  {
   "cell_type": "code",
   "execution_count": 132,
   "id": "6be1eac9",
   "metadata": {},
   "outputs": [
    {
     "name": "stdout",
     "output_type": "stream",
     "text": [
      "Adriano Leite da Silva\n"
     ]
    },
    {
     "data": {
      "text/plain": [
       "' Leite da Silva'"
      ]
     },
     "execution_count": 132,
     "metadata": {},
     "output_type": "execute_result"
    }
   ],
   "source": [
    "print(nome)\n",
    "nome[7:] # Pego a partir da posição 7 e mostro todo o restante"
   ]
  },
  {
   "cell_type": "code",
   "execution_count": 133,
   "id": "fc7b144c",
   "metadata": {},
   "outputs": [
    {
     "name": "stdout",
     "output_type": "stream",
     "text": [
      "Adriano Leite da Silva\n"
     ]
    },
    {
     "data": {
      "text/plain": [
       "'Adriano L'"
      ]
     },
     "execution_count": 133,
     "metadata": {},
     "output_type": "execute_result"
    }
   ],
   "source": [
    "print(nome)\n",
    "nome[:9] # Pego até a posição 9 e imprimo o que vem antes dela"
   ]
  },
  {
   "cell_type": "code",
   "execution_count": 129,
   "id": "3abd0f02",
   "metadata": {},
   "outputs": [
    {
     "data": {
      "text/plain": [
       "'Adriano Leite da Silv'"
      ]
     },
     "execution_count": 129,
     "metadata": {},
     "output_type": "execute_result"
    }
   ],
   "source": [
    "nome[:-1] # Pego todos os valores, menos a última posição"
   ]
  },
  {
   "cell_type": "code",
   "execution_count": 130,
   "id": "b54ccb41",
   "metadata": {},
   "outputs": [
    {
     "data": {
      "text/plain": [
       "'a'"
      ]
     },
     "execution_count": 130,
     "metadata": {},
     "output_type": "execute_result"
    }
   ],
   "source": [
    "nome[-1] # Pego apenas a última posição"
   ]
  },
  {
   "cell_type": "code",
   "execution_count": 153,
   "id": "d5f057f1",
   "metadata": {},
   "outputs": [
    {
     "name": "stdout",
     "output_type": "stream",
     "text": [
      "Sinfrogildo Astrogildo\n"
     ]
    },
    {
     "data": {
      "text/plain": [
       "'SrlAod'"
      ]
     },
     "execution_count": 153,
     "metadata": {},
     "output_type": "execute_result"
    }
   ],
   "source": [
    "nomeDois = \"Sinfrogildo Astrogildo\"\n",
    "nomeDois[-1]\n",
    "nomeDois[::] # nomeDois[::] = nomeDois\n",
    "print(nomeDois)\n",
    "nomeDois[::4]"
   ]
  },
  {
   "cell_type": "code",
   "execution_count": 149,
   "id": "0179a692",
   "metadata": {},
   "outputs": [
    {
     "name": "stdout",
     "output_type": "stream",
     "text": [
      "0123456789\n"
     ]
    },
    {
     "data": {
      "text/plain": [
       "'0123456789'"
      ]
     },
     "execution_count": 149,
     "metadata": {},
     "output_type": "execute_result"
    }
   ],
   "source": [
    "numeros = '0123456789'\n",
    "\n",
    "print(numeros)\n",
    "# numeros # Imprimindo todos os meus valores que estao em numeros\n",
    "numeros[::] # numeros[::] = numeros"
   ]
  },
  {
   "cell_type": "code",
   "execution_count": 147,
   "id": "c707d3a2",
   "metadata": {},
   "outputs": [
    {
     "data": {
      "text/plain": [
       "'02468'"
      ]
     },
     "execution_count": 147,
     "metadata": {},
     "output_type": "execute_result"
    }
   ],
   "source": [
    "# Mostrando apenas os valores pares\n",
    "numeros[::2]"
   ]
  },
  {
   "cell_type": "code",
   "execution_count": 143,
   "id": "c3bcf442",
   "metadata": {},
   "outputs": [
    {
     "data": {
      "text/plain": [
       "'13579'"
      ]
     },
     "execution_count": 143,
     "metadata": {},
     "output_type": "execute_result"
    }
   ],
   "source": [
    "# Apenas os números ímpares\n",
    "numeros[1::2]"
   ]
  },
  {
   "cell_type": "markdown",
   "id": "d1ecfe4b",
   "metadata": {},
   "source": [
    "# Exemplo Gerador de Senhas em Python\n",
    "\n",
    "- Informar para o meu sistema a base de caracteres\n",
    "- Pegar os caracteres de forma\n",
    "- Apresentar na tela\n",
    "\n",
    "## FORMA MAIS PORCA DE SE FAZER UM GERADOR DE SENHAS"
   ]
  },
  {
   "cell_type": "code",
   "execution_count": 156,
   "id": "95b61298",
   "metadata": {},
   "outputs": [
    {
     "data": {
      "text/plain": [
       "'adgjmpsvzCFILORUY147@%'"
      ]
     },
     "execution_count": 156,
     "metadata": {},
     "output_type": "execute_result"
    }
   ],
   "source": [
    "caracteres = \"abcdefghijklmnopqrstuvxyzABCDEFGHIJKLMNOPQRSTUVXYZ0123456789@#$%\"\n",
    "caracteres[::3]"
   ]
  },
  {
   "cell_type": "markdown",
   "id": "894bc482",
   "metadata": {},
   "source": [
    "### Continuando com o Slice"
   ]
  },
  {
   "cell_type": "code",
   "execution_count": 160,
   "id": "500add06",
   "metadata": {},
   "outputs": [
    {
     "data": {
      "text/plain": [
       "False"
      ]
     },
     "execution_count": 160,
     "metadata": {},
     "output_type": "execute_result"
    }
   ],
   "source": [
    "frase = \"Python é legal demais!\"\n",
    "\n",
    "# Quero saber se uma determinada info está dentro da frase\n",
    "# Quero saber se temos py\n",
    "'py'in frase # Retorna false, pois é Maiúsculo\n",
    "'Py'in frase\n",
    "\n",
    "# Verificando se eu NÃO POSSUI dentro da frase\n",
    "'é' not in frase"
   ]
  },
  {
   "cell_type": "code",
   "execution_count": 161,
   "id": "d65a9ebe",
   "metadata": {},
   "outputs": [
    {
     "data": {
      "text/plain": [
       "22"
      ]
     },
     "execution_count": 161,
     "metadata": {},
     "output_type": "execute_result"
    }
   ],
   "source": [
    "# Verificando o tamanha de uma var\n",
    "len(frase)"
   ]
  },
  {
   "cell_type": "code",
   "execution_count": 169,
   "id": "01cd65cd",
   "metadata": {},
   "outputs": [
    {
     "name": "stdout",
     "output_type": "stream",
     "text": [
      "Python é legal demais!\n"
     ]
    },
    {
     "data": {
      "text/plain": [
       "'python é legal demais!'"
      ]
     },
     "execution_count": 169,
     "metadata": {},
     "output_type": "execute_result"
    }
   ],
   "source": [
    "# Convertendo no momento da impressão para Maiúsculos/Minúsculos\n",
    "print(frase)\n",
    "frase.lower()"
   ]
  },
  {
   "cell_type": "code",
   "execution_count": 167,
   "id": "40f2446c",
   "metadata": {},
   "outputs": [
    {
     "name": "stdout",
     "output_type": "stream",
     "text": [
      "Python é legal demais!\n"
     ]
    },
    {
     "data": {
      "text/plain": [
       "'PYTHON É LEGAL DEMAIS!'"
      ]
     },
     "execution_count": 167,
     "metadata": {},
     "output_type": "execute_result"
    }
   ],
   "source": [
    "print(frase)\n",
    "frase.upper()"
   ]
  },
  {
   "cell_type": "code",
   "execution_count": 174,
   "id": "a14be058",
   "metadata": {},
   "outputs": [
    {
     "name": "stdout",
     "output_type": "stream",
     "text": [
      "Python é legal demais!\n"
     ]
    }
   ],
   "source": [
    "print(frase)"
   ]
  },
  {
   "cell_type": "code",
   "execution_count": 175,
   "id": "0be8008d",
   "metadata": {},
   "outputs": [],
   "source": [
    "# Convertendo o valor para Maiusculo\n",
    "fraseMaius = frase.upper()\n",
    "\n",
    "# Convertendo o valor para Minusculo\n",
    "fraseMinus = frase.lower()"
   ]
  },
  {
   "cell_type": "code",
   "execution_count": 176,
   "id": "84951159",
   "metadata": {},
   "outputs": [
    {
     "name": "stdout",
     "output_type": "stream",
     "text": [
      "PYTHON É LEGAL DEMAIS!\n",
      "python é legal demais!\n",
      "Python é legal demais!\n"
     ]
    }
   ],
   "source": [
    "print(fraseMaius)\n",
    "print(fraseMinus)\n",
    "print(frase)"
   ]
  },
  {
   "cell_type": "markdown",
   "id": "e2fadc46",
   "metadata": {},
   "source": [
    "# Exercício\n",
    "\n",
    "-  Calculadora de 3\n",
    "    - Faça a soma de todos os valores\n",
    "    - Faça a subtração de todos os valores\n",
    "    - Faça a multiplicação de todos os valores\n",
    "    - Faça a divisão de todos os valores    "
   ]
  },
  {
   "cell_type": "code",
   "execution_count": null,
   "id": "c89ed6a3",
   "metadata": {},
   "outputs": [],
   "source": []
  }
 ],
 "metadata": {
  "kernelspec": {
   "display_name": "Python 3",
   "language": "python",
   "name": "python3"
  },
  "language_info": {
   "codemirror_mode": {
    "name": "ipython",
    "version": 3
   },
   "file_extension": ".py",
   "mimetype": "text/x-python",
   "name": "python",
   "nbconvert_exporter": "python",
   "pygments_lexer": "ipython3",
   "version": "3.8.8"
  }
 },
 "nbformat": 4,
 "nbformat_minor": 5
}

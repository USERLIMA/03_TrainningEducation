{
 "cells": [
  {
   "cell_type": "markdown",
   "id": "71c85126",
   "metadata": {},
   "source": [
    "# Laço de Repetição"
   ]
  },
  {
   "cell_type": "markdown",
   "id": "bdd2b33f",
   "metadata": {},
   "source": [
    "Aqui, o loop for imprime itens da lista até o loop esgotar. Quando o loop for esgotado, ele executa o bloco de código dentro de else e imprime “Não há mais itens restantes.”"
   ]
  },
  {
   "cell_type": "code",
   "execution_count": 7,
   "id": "a05b6be7",
   "metadata": {},
   "outputs": [
    {
     "name": "stdout",
     "output_type": "stream",
     "text": [
      "0\n",
      "1\n",
      "3\n",
      "5\n",
      "Não há itens para serem exibidos!\n"
     ]
    }
   ],
   "source": [
    "itens = [0,1,3,5]\n",
    "\n",
    "# Estrutura do Laço For\n",
    "for i in itens:\n",
    "    print(i)\n",
    "else:\n",
    "    print(\"Não há itens para serem exibidos!\")"
   ]
  },
  {
   "cell_type": "code",
   "execution_count": 34,
   "id": "58add002",
   "metadata": {},
   "outputs": [
    {
     "name": "stdout",
     "output_type": "stream",
     "text": [
      "Quantidade de Matérias:3\n",
      "Nota da Matéria  1:10\n",
      "Nota da Matéria  2:10\n",
      "Nota da Matéria  3:10\n",
      "A quantidade de notas foi de:  3\n",
      "A média é de: 20.0\n"
     ]
    }
   ],
   "source": [
    "## Exemplo 02\n",
    "\n",
    "# Solicitando que o usuário digite a quantidade de matérias!\n",
    "quantidadeMaterias = int(input(\"Quantidade de Matérias:\"))\n",
    "notas = []\n",
    "soma = 0\n",
    "media = 0\n",
    "\n",
    "for contador in range(quantidadeMaterias):\n",
    "    notas = int(input(\"Nota da Matéria %2d:\" % (contador+1)))\n",
    "    notas += notas\n",
    "    soma += notas\n",
    "    \n",
    "print(\"A quantidade de notas foi de: %2d\" % quantidadeMaterias)\n",
    "media = soma / quantidadeMaterias\n",
    "print(\"A média é de:\", media)"
   ]
  },
  {
   "cell_type": "markdown",
   "id": "f8503bf5",
   "metadata": {},
   "source": [
    "Quantidade de Notas: 4 # quantidadeNotas = ?\n",
    "Nota da matéria 1: 10 # notas = [10]\n",
    "Nota da matéria 2: 5 # notas = [10, 5]\n",
    "Nota da matéria 3: 7 # notas = [10, 5, 7]\n",
    "Nota da matéria 4: 10 # notas = [10, 5, 7, 10]"
   ]
  },
  {
   "cell_type": "markdown",
   "id": "01322c02",
   "metadata": {},
   "source": [
    "adrianoleitedasilva@outlook.com"
   ]
  },
  {
   "cell_type": "code",
   "execution_count": 43,
   "id": "8522b58d",
   "metadata": {},
   "outputs": [
    {
     "name": "stdout",
     "output_type": "stream",
     "text": [
      "Quantidade de matérias: 10\n",
      "Digite a nota da matéria 1: 0\n",
      "Digite a nota da matéria 2: 0\n",
      "Digite a nota da matéria 3: 0\n",
      "Digite a nota da matéria 4: 0\n",
      "Digite a nota da matéria 5: 0\n",
      "Digite a nota da matéria 6: 0\n",
      "Digite a nota da matéria 7: 0\n",
      "Digite a nota da matéria 8: 0\n",
      "Digite a nota da matéria 9: 0\n",
      "Digite a nota da matéria 10: 0\n",
      "\n",
      "Foi digitado um total de 10 matérias que correspondem a [0.0, 0.0, 0.0, 0.0, 0.0, 0.0, 0.0, 0.0, 0.0, 0.0], e a média da classe foi de 0.0.\n"
     ]
    }
   ],
   "source": [
    "quantidadeNotas = int(input(\"Quantidade de matérias: \"))\n",
    "valorNota = 0\n",
    "notas = []\n",
    "soma = 0\n",
    "\n",
    "# para de 0 até quantidadeNotas faça:\n",
    "    # bloco de comandos\n",
    "    \n",
    "for i in range(quantidadeNotas):\n",
    "    i += 1\n",
    "    valorNota = float(input(f\"Digite a nota da matéria {i}: \"))\n",
    "    notas.append(valorNota) # notas += valorNota\n",
    "    soma += valorNota\n",
    "print(f\"\\nFoi digitado um total de {quantidadeNotas} matérias que correspondem a {notas}, e a média da classe foi de {soma/quantidadeNotas}.\")"
   ]
  },
  {
   "cell_type": "code",
   "execution_count": 46,
   "id": "a5f78616",
   "metadata": {},
   "outputs": [
    {
     "name": "stdout",
     "output_type": "stream",
     "text": [
      "A\n",
      "d\n",
      "r\n",
      "i\n",
      "a\n",
      "n\n",
      "o\n",
      " \n",
      "L\n",
      "e\n",
      "i\n",
      "t\n",
      "e\n",
      " \n",
      "d\n",
      "a\n",
      " \n",
      "S\n",
      "i\n",
      "l\n",
      "v\n",
      "a\n"
     ]
    }
   ],
   "source": [
    "# Desejo imprimir um conteúdo na sua totalidade\n",
    "for letras in 'Adriano Leite da Silva':\n",
    "    print(letras)"
   ]
  },
  {
   "cell_type": "code",
   "execution_count": 47,
   "id": "90fc1bf9",
   "metadata": {},
   "outputs": [
    {
     "name": "stdout",
     "output_type": "stream",
     "text": [
      "Contém as letras: A\n",
      "Contém as letras: d\n",
      "Contém as letras: r\n",
      "Contém as letras: i\n",
      "Contém as letras: a\n",
      "Contém as letras: n\n",
      "Contém as letras: o\n",
      "Contém as letras:  \n",
      "Contém as letras: L\n",
      "Contém as letras: e\n",
      "Contém as letras: i\n",
      "Contém as letras: t\n",
      "Contém as letras: e\n",
      "Contém as letras:  \n",
      "Contém as letras: d\n",
      "Contém as letras: a\n",
      "Contém as letras:  \n",
      "Contém as letras: S\n",
      "Contém as letras: i\n",
      "Contém as letras: l\n",
      "Contém as letras: v\n",
      "Contém as letras: a\n"
     ]
    }
   ],
   "source": [
    "for letras in 'Adriano Leite da Silva':\n",
    "    print(\"Contém as letras:\",letras)"
   ]
  },
  {
   "cell_type": "code",
   "execution_count": 48,
   "id": "da6b3447",
   "metadata": {},
   "outputs": [
    {
     "name": "stdout",
     "output_type": "stream",
     "text": [
      "Linguagem de programação contida em \"lingua\": C\n",
      "Linguagem de programação contida em \"lingua\": Python\n",
      "Linguagem de programação contida em \"lingua\": CSharp\n",
      "Linguagem de programação contida em \"lingua\": Lua\n",
      "Linguagem de programação contida em \"lingua\": Swift\n",
      "Linguagem de programação contida em \"lingua\": Java\n"
     ]
    }
   ],
   "source": [
    "linguagens = ['C', 'Python', 'CSharp', 'Lua', 'Swift', 'Java']\n",
    "\n",
    "for lingua in linguagens:\n",
    "    print('Linguagem de programação contida em \"lingua\":', lingua)"
   ]
  },
  {
   "cell_type": "markdown",
   "id": "b18b3acd",
   "metadata": {},
   "source": [
    "- Crie uma lista com as informações a seu respeito:\n",
    "- Nome, idade, email, cidade natal, estado, nome pai, nome mãe\n",
    "- Usando o laço for, apresente as informações conforme exemplo acima\n",
    "- Mostrando a mensagem: Aqui vai uma informação a meu respeito: ________________\n",
    "\n"
   ]
  },
  {
   "cell_type": "code",
   "execution_count": 49,
   "id": "662335b1",
   "metadata": {},
   "outputs": [
    {
     "name": "stdout",
     "output_type": "stream",
     "text": [
      "Aqui vai uma informação ao meu respeito: Adriano\n",
      "Aqui vai uma informação ao meu respeito: 32\n",
      "Aqui vai uma informação ao meu respeito: adrianoleitedasilva@outlook.com\n",
      "Aqui vai uma informação ao meu respeito: São Paulo\n",
      "Aqui vai uma informação ao meu respeito: SP\n",
      "Aqui vai uma informação ao meu respeito: Abel\n",
      "Aqui vai uma informação ao meu respeito: Maria\n"
     ]
    }
   ],
   "source": [
    "informacoes = ['Adriano', 32, 'adrianoleitedasilva@outlook.com', 'São Paulo', 'SP', 'Abel', 'Maria']\n",
    "\n",
    "for dados in informacoes:\n",
    "    print('Aqui vai uma informação ao meu respeito:', dados)"
   ]
  },
  {
   "cell_type": "markdown",
   "id": "588f234b",
   "metadata": {},
   "source": [
    "# Laço While(Enquanto)"
   ]
  },
  {
   "cell_type": "code",
   "execution_count": 59,
   "id": "875f8a0a",
   "metadata": {},
   "outputs": [
    {
     "name": "stdout",
     "output_type": "stream",
     "text": [
      "O resultado da soma é:  55\n"
     ]
    }
   ],
   "source": [
    "# Programa para adicionar números inteiros\n",
    "# Soma = 1 + 2 + 3 + ... n\n",
    "n = 10 # Definindo o tamanho da minha var\n",
    "\n",
    "# Inicializando as minhas vars\n",
    "soma = 0\n",
    "x = 0\n",
    "\n",
    "# Enquanto o valor de x for menor ou igual a n ele executa o bloco abaixo\n",
    "while x <= n:\n",
    "    soma = soma + x\n",
    "    x = x + 1 # 1 2 3 4 5 6 7 8 9 10\n",
    "    \n",
    "print('O resultado da soma é: ', soma)"
   ]
  },
  {
   "cell_type": "code",
   "execution_count": 60,
   "id": "726c554a",
   "metadata": {},
   "outputs": [
    {
     "name": "stdout",
     "output_type": "stream",
     "text": [
      "O resultado da soma é:  30\n"
     ]
    }
   ],
   "source": [
    "# Pegando apenas valores pares e somando eles\n",
    "n = 10\n",
    "soma = 0\n",
    "x = 0\n",
    "\n",
    "while x <= n:\n",
    "    soma = soma + x\n",
    "    x = x + 2 # 0 2 4 6 8 10\n",
    "    \n",
    "print('O resultado da soma é: ', soma)"
   ]
  },
  {
   "cell_type": "code",
   "execution_count": 61,
   "id": "4115b961",
   "metadata": {},
   "outputs": [
    {
     "name": "stdout",
     "output_type": "stream",
     "text": [
      "O resultado da soma é:  25\n"
     ]
    }
   ],
   "source": [
    "# Pegando apenas valores pares e somando eles\n",
    "n = 10\n",
    "soma = 0\n",
    "x = 1\n",
    "\n",
    "while x <= n:\n",
    "    soma = soma + x\n",
    "    x = x + 2 # 1 3 5 7 9\n",
    "    \n",
    "print('O resultado da soma é: ', soma)"
   ]
  },
  {
   "cell_type": "markdown",
   "id": "ca75ad02",
   "metadata": {},
   "source": [
    "### While com Else"
   ]
  },
  {
   "cell_type": "code",
   "execution_count": 62,
   "id": "d6f039ae",
   "metadata": {},
   "outputs": [
    {
     "name": "stdout",
     "output_type": "stream",
     "text": [
      "Dentro do WHILE\n",
      "Dentro do WHILE\n",
      "Dentro do WHILE\n",
      "Dentro do WHILE\n",
      "Dentro do WHILE\n",
      "Dentro do ELSE\n"
     ]
    }
   ],
   "source": [
    "contador = 0\n",
    "\n",
    "while contador < 5:\n",
    "    print('Dentro do WHILE')\n",
    "    contador = contador + 1\n",
    "else:\n",
    "    print('Dentro do ELSE')"
   ]
  },
  {
   "cell_type": "code",
   "execution_count": 67,
   "id": "b7c88d8e",
   "metadata": {},
   "outputs": [
    {
     "name": "stdout",
     "output_type": "stream",
     "text": [
      "1\n",
      "2\n",
      "3\n",
      "4\n",
      "5\n",
      "6\n",
      "7\n",
      "8\n",
      "9\n",
      "10\n",
      "11\n"
     ]
    }
   ],
   "source": [
    "conta = 0\n",
    "\n",
    "while(conta <= 10):\n",
    "    conta += 1 # conta = conta + 1\n",
    "    print(conta)"
   ]
  },
  {
   "cell_type": "code",
   "execution_count": 70,
   "id": "3fca690a",
   "metadata": {},
   "outputs": [
    {
     "name": "stdout",
     "output_type": "stream",
     "text": [
      "1\n",
      "2\n",
      "3\n",
      "4\n",
      "5\n",
      "6\n",
      "7\n",
      "8\n",
      "9\n",
      "10\n",
      "11\n",
      "Paramos com o valor da variável em: 11\n"
     ]
    }
   ],
   "source": [
    "conta = 0\n",
    "\n",
    "while(conta <= 10):\n",
    "    conta += 1 # conta = conta + 1\n",
    "    print(conta)\n",
    "else:\n",
    "    print(\"Paramos com o valor da variável em:\", conta)"
   ]
  },
  {
   "cell_type": "code",
   "execution_count": 72,
   "id": "19a84752",
   "metadata": {},
   "outputs": [
    {
     "name": "stdout",
     "output_type": "stream",
     "text": [
      "While\n",
      "0\n",
      "1\n",
      "2\n",
      "3\n",
      "4\n",
      "5\n",
      "6\n",
      "7\n",
      "8\n",
      "9\n",
      "Else\n",
      "Fim\n"
     ]
    }
   ],
   "source": [
    "x = 0\n",
    "\n",
    "print(\"While\") # Exemplo de texto\n",
    "while(x < 10): # Laço While\n",
    "    print(x)\n",
    "    x += 1\n",
    "else: # Else do While\n",
    "    print('Else')\n",
    "    \n",
    "print('Fim') # Exemplo de texto"
   ]
  },
  {
   "cell_type": "code",
   "execution_count": null,
   "id": "3843893f",
   "metadata": {},
   "outputs": [],
   "source": []
  }
 ],
 "metadata": {
  "kernelspec": {
   "display_name": "Python 3",
   "language": "python",
   "name": "python3"
  },
  "language_info": {
   "codemirror_mode": {
    "name": "ipython",
    "version": 3
   },
   "file_extension": ".py",
   "mimetype": "text/x-python",
   "name": "python",
   "nbconvert_exporter": "python",
   "pygments_lexer": "ipython3",
   "version": "3.8.8"
  }
 },
 "nbformat": 4,
 "nbformat_minor": 5
}

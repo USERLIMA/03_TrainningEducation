{
 "cells": [
  {
   "cell_type": "markdown",
   "id": "84a1a01a",
   "metadata": {},
   "source": [
    "# Date e Time\n",
    "\n",
    "Um programa Python pode lidar com data e hora de várias maneiras. Converter entre formatos de data é uma tarefa comum para computadores. Os módulos de hora e calendário do Python ajudam a rastrear datas e horas.\n",
    "\n",
    "### Tick\n",
    "\n",
    "Intervalos de tempo são números de ponto flutuante(floats) em unidades de segundos. Instantes específicos no tempo são expressos em segundos desde as 00:00 de 1º de janeiro de 1970(época).\n",
    "\n",
    "Existe um módulo time popular disponível no Python, que fornece funções para trabalhar com horários e para converte-los entre representações. A função time.time() retorna a hora atual do sistema em ticks desde as 00:00 de 1º de janeiro de 1970(época) até este momento."
   ]
  },
  {
   "cell_type": "code",
   "execution_count": 6,
   "id": "11f73f91",
   "metadata": {},
   "outputs": [
    {
     "name": "stdout",
     "output_type": "stream",
     "text": [
      "Nº de ticks desde 1º de Janeiro de 1970:  1628644520.117001\n"
     ]
    }
   ],
   "source": [
    "import time # Importando uma biblioteca chamada time, do Python\n",
    "\n",
    "ticks = time.time()\n",
    "\n",
    "print(\"Nº de ticks desde 1º de Janeiro de 1970: \", ticks)\n",
    "\n",
    "# Tick = Mudança do ponteiro de segundos do relógio"
   ]
  },
  {
   "cell_type": "code",
   "execution_count": 10,
   "id": "e07c064d",
   "metadata": {},
   "outputs": [
    {
     "name": "stdout",
     "output_type": "stream",
     "text": [
      "Hora atual:  time.struct_time(tm_year=2021, tm_mon=8, tm_mday=10, tm_hour=22, tm_min=17, tm_sec=55, tm_wday=1, tm_yday=222, tm_isdst=0)\n"
     ]
    }
   ],
   "source": [
    "# Hora atual\n",
    "dados = time.localtime(time.time())\n",
    "\n",
    "# ou dados = time.localtime(time.time())\n",
    "print(\"Hora atual: \", dados)"
   ]
  },
  {
   "cell_type": "code",
   "execution_count": 15,
   "id": "4ff3114e",
   "metadata": {},
   "outputs": [
    {
     "name": "stdout",
     "output_type": "stream",
     "text": [
      "Hora atual:  time.struct_time(tm_year=2021, tm_mon=8, tm_mday=10, tm_hour=22, tm_min=18, tm_sec=43, tm_wday=1, tm_yday=222, tm_isdst=0)\n"
     ]
    }
   ],
   "source": [
    "# Hora atual\n",
    "localtime = time.localtime(time.time())\n",
    "\n",
    "print(\"Hora atual: \", localtime)"
   ]
  },
  {
   "cell_type": "code",
   "execution_count": 21,
   "id": "79533011",
   "metadata": {},
   "outputs": [
    {
     "name": "stdout",
     "output_type": "stream",
     "text": [
      "Data/Hora atual:  Tue Aug 10 22:22:23 2021\n"
     ]
    }
   ],
   "source": [
    "# Mostrando a hora atualizada e em um formato com melhor visualização\n",
    "dataHora = time.asctime(time.localtime())\n",
    "\n",
    "print(\"Data/Hora atual: \", dataHora)"
   ]
  },
  {
   "cell_type": "code",
   "execution_count": 27,
   "id": "21707680",
   "metadata": {},
   "outputs": [
    {
     "name": "stdout",
     "output_type": "stream",
     "text": [
      "    August 2021\n",
      "Mo Tu We Th Fr Sa Su\n",
      "                   1\n",
      " 2  3  4  5  6  7  8\n",
      " 9 10 11 12 13 14 15\n",
      "16 17 18 19 20 21 22\n",
      "23 24 25 26 27 28 29\n",
      "30 31\n",
      "\n",
      "    January 2021\n",
      "Mo Tu We Th Fr Sa Su\n",
      "             1  2  3\n",
      " 4  5  6  7  8  9 10\n",
      "11 12 13 14 15 16 17\n",
      "18 19 20 21 22 23 24\n",
      "25 26 27 28 29 30 31\n",
      "\n"
     ]
    }
   ],
   "source": [
    "import calendar\n",
    "\n",
    "# calendar.month chamando a lib calendar e o atributo month para o mês\n",
    "calendario_mes_atual = calendar.month(2021, 8) # Ano e o Mês\n",
    "print(calendario_mes_atual)\n",
    "\n",
    "calendario_jan_21 = calendar.month(2021, 1)\n",
    "print(calendario_jan_21)"
   ]
  },
  {
   "cell_type": "code",
   "execution_count": 30,
   "id": "38dbac8d",
   "metadata": {},
   "outputs": [
    {
     "name": "stdout",
     "output_type": "stream",
     "text": [
      "                                  2021\n",
      "\n",
      "      January                   February                   March\n",
      "Mo Tu We Th Fr Sa Su      Mo Tu We Th Fr Sa Su      Mo Tu We Th Fr Sa Su\n",
      "             1  2  3       1  2  3  4  5  6  7       1  2  3  4  5  6  7\n",
      " 4  5  6  7  8  9 10       8  9 10 11 12 13 14       8  9 10 11 12 13 14\n",
      "11 12 13 14 15 16 17      15 16 17 18 19 20 21      15 16 17 18 19 20 21\n",
      "18 19 20 21 22 23 24      22 23 24 25 26 27 28      22 23 24 25 26 27 28\n",
      "25 26 27 28 29 30 31                                29 30 31\n",
      "\n",
      "       April                      May                       June\n",
      "Mo Tu We Th Fr Sa Su      Mo Tu We Th Fr Sa Su      Mo Tu We Th Fr Sa Su\n",
      "          1  2  3  4                      1  2          1  2  3  4  5  6\n",
      " 5  6  7  8  9 10 11       3  4  5  6  7  8  9       7  8  9 10 11 12 13\n",
      "12 13 14 15 16 17 18      10 11 12 13 14 15 16      14 15 16 17 18 19 20\n",
      "19 20 21 22 23 24 25      17 18 19 20 21 22 23      21 22 23 24 25 26 27\n",
      "26 27 28 29 30            24 25 26 27 28 29 30      28 29 30\n",
      "                          31\n",
      "\n",
      "        July                     August                  September\n",
      "Mo Tu We Th Fr Sa Su      Mo Tu We Th Fr Sa Su      Mo Tu We Th Fr Sa Su\n",
      "          1  2  3  4                         1             1  2  3  4  5\n",
      " 5  6  7  8  9 10 11       2  3  4  5  6  7  8       6  7  8  9 10 11 12\n",
      "12 13 14 15 16 17 18       9 10 11 12 13 14 15      13 14 15 16 17 18 19\n",
      "19 20 21 22 23 24 25      16 17 18 19 20 21 22      20 21 22 23 24 25 26\n",
      "26 27 28 29 30 31         23 24 25 26 27 28 29      27 28 29 30\n",
      "                          30 31\n",
      "\n",
      "      October                   November                  December\n",
      "Mo Tu We Th Fr Sa Su      Mo Tu We Th Fr Sa Su      Mo Tu We Th Fr Sa Su\n",
      "             1  2  3       1  2  3  4  5  6  7             1  2  3  4  5\n",
      " 4  5  6  7  8  9 10       8  9 10 11 12 13 14       6  7  8  9 10 11 12\n",
      "11 12 13 14 15 16 17      15 16 17 18 19 20 21      13 14 15 16 17 18 19\n",
      "18 19 20 21 22 23 24      22 23 24 25 26 27 28      20 21 22 23 24 25 26\n",
      "25 26 27 28 29 30 31      29 30                     27 28 29 30 31\n",
      "\n"
     ]
    }
   ],
   "source": [
    "# calendar.calendar = lib calendar e o atributo calendar(ano)\n",
    "calendario_ano = calendar.calendar(2021)\n",
    "print(calendario_ano)"
   ]
  },
  {
   "cell_type": "markdown",
   "id": "e0f5e02c",
   "metadata": {},
   "source": [
    "# Calendário\n",
    "\n",
    "- Faça a criação do Calendário para o mês de Janeiro de 2012\n",
    "- Faça a criação do Calendário para o mês de Abril de 2015\n",
    "- Faça a criação do Calendário para o mês de Dezembro de 2018\n",
    "- Faça a criação do Calendário para o mês de Março de 1975\n",
    "- Faça a criação do Calendário para o mês de Setembro de 2001\n",
    "- Faça a criação do Calendário para o mês de Julho de 1999"
   ]
  },
  {
   "cell_type": "code",
   "execution_count": null,
   "id": "3d394b34",
   "metadata": {},
   "outputs": [],
   "source": []
  }
 ],
 "metadata": {
  "kernelspec": {
   "display_name": "Python 3",
   "language": "python",
   "name": "python3"
  },
  "language_info": {
   "codemirror_mode": {
    "name": "ipython",
    "version": 3
   },
   "file_extension": ".py",
   "mimetype": "text/x-python",
   "name": "python",
   "nbconvert_exporter": "python",
   "pygments_lexer": "ipython3",
   "version": "3.8.8"
  }
 },
 "nbformat": 4,
 "nbformat_minor": 5
}

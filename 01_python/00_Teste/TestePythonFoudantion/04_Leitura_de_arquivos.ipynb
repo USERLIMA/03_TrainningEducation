{
 "cells": [
  {
   "cell_type": "markdown",
   "id": "be0782ce",
   "metadata": {},
   "source": [
    "# Fazendo a Leitura de Arquivos no Python\n",
    "\n",
    "Nota: essa leitura é apenas para que o Python reconheça os dados contidos no arquivo indicado. "
   ]
  },
  {
   "cell_type": "markdown",
   "id": "1c15a50d",
   "metadata": {},
   "source": [
    "### Três principais forma de fazer a leitura dos arquivos em Python"
   ]
  },
  {
   "cell_type": "code",
   "execution_count": 2,
   "id": "2d6f31ed",
   "metadata": {},
   "outputs": [],
   "source": [
    "# Importando as minhas Libs\n",
    "import csv # CSV é uma lib padrão do Python\n",
    "import os # OS é uma lib para reconhecimento de infos do S.O.\n",
    "import numpy as np # Numpy uma das principais Libs Python"
   ]
  },
  {
   "cell_type": "code",
   "execution_count": 4,
   "id": "b30acef3",
   "metadata": {},
   "outputs": [
    {
     "data": {
      "text/plain": [
       "'C:\\\\Users\\\\trainning\\\\Desktop\\\\Python'"
      ]
     },
     "execution_count": 4,
     "metadata": {},
     "output_type": "execute_result"
    }
   ],
   "source": [
    "# Para saber o caminho do arquivo atual\n",
    "# Vou usar a lib OS\n",
    "# Com esse comando vamos recuperar o caminho do nosso arquivo\n",
    "os.getcwd()"
   ]
  },
  {
   "cell_type": "code",
   "execution_count": 5,
   "id": "057c3fe3",
   "metadata": {},
   "outputs": [],
   "source": [
    "# Caminho do meu arquivo\n",
    "# Ou simplesmente indicar qual o arquivo que iremos ler\n",
    "# Var que vai armazenar o caminho/nome do arquivo\n",
    "arquivo = r'iris.csv'\n",
    "\n",
    "# OUTRA POSSIBILIDADE\n",
    "# Caso eu deseje utilizar um arquivo que esteja em outra pasta\n",
    "# caminho = r'/Users/nomeDoUsuario/nomeDaPasta/NomeDaSubPasta/NomeDoArquivo'"
   ]
  },
  {
   "cell_type": "code",
   "execution_count": 6,
   "id": "4360cc69",
   "metadata": {},
   "outputs": [],
   "source": [
    "# Efetuando a abertura e leitura do Arquivo\n",
    "with open(arquivo,'r') as f:\n",
    "    reader = csv.reader(f,delimiter=',')\n",
    "    headers = next(reader) # Headers(Cabeçalho da minha \"tabela/Conjunto Dados)\n",
    "    data = list(reader)\n",
    "    data = np.array(data)\n",
    "    \n",
    "# Basicamente ele cria uma boneca Russa, que armazena das informações dentro\n",
    "# de caixas menores.\n",
    "# Não vejo o menor sentido em usar esse método\n",
    "# Se vc não sabe o que é uma Boneca Russa olhe o link a seguir\n",
    "# https://www.google.com/imgres?imgurl=https%3A%2F%2Fwww.significados.com.br%2Ffoto%2Fmatryoska-significados-brasil.jpg&imgrefurl=https%3A%2F%2Fwww.significados.com.br%2Fmatrioska%2F&tbnid=ZQUlHSB5tZrU-M&vet=12ahUKEwj79Iz_i6ryAhVxOLkGHVeqBSYQMygOegUIARCoAg..i&docid=t19L-XFiHlySmM&w=1063&h=797&q=boneca%20russa&ved=2ahUKEwj79Iz_i6ryAhVxOLkGHVeqBSYQMygOegUIARCoAg  "
   ]
  },
  {
   "cell_type": "code",
   "execution_count": 8,
   "id": "19867ad7",
   "metadata": {},
   "outputs": [
    {
     "name": "stdout",
     "output_type": "stream",
     "text": [
      "['sepal.length', 'sepal.width', 'petal.length', 'petal.width', 'variety']\n"
     ]
    }
   ],
   "source": [
    "# Imprimindo os meus cabeçalhos\n",
    "print(headers)"
   ]
  },
  {
   "cell_type": "code",
   "execution_count": 9,
   "id": "680cf615",
   "metadata": {},
   "outputs": [
    {
     "name": "stdout",
     "output_type": "stream",
     "text": [
      "(150, 5)\n"
     ]
    }
   ],
   "source": [
    "# Impressão da \"forma\" do meu conjunto de dados\n",
    "print(data.shape)"
   ]
  },
  {
   "cell_type": "code",
   "execution_count": 12,
   "id": "52fa21c4",
   "metadata": {},
   "outputs": [
    {
     "name": "stdout",
     "output_type": "stream",
     "text": [
      "[['5.1' '3.5' '1.4' '.2' 'Setosa']\n",
      " ['4.9' '3' '1.4' '.2' 'Setosa']\n",
      " ['4.7' '3.2' '1.3' '.2' 'Setosa']]\n"
     ]
    }
   ],
   "source": [
    "# Impressão das minhas três primeiras linhas do conjunto de dados\n",
    "print(data[:3])"
   ]
  },
  {
   "cell_type": "markdown",
   "id": "822a2354",
   "metadata": {},
   "source": [
    "# Fazendo a Leitura com o Numpy e loadtxt"
   ]
  },
  {
   "cell_type": "code",
   "execution_count": 13,
   "id": "47f15073",
   "metadata": {},
   "outputs": [],
   "source": [
    "# Importando as Libs\n",
    "from numpy import loadtxt"
   ]
  },
  {
   "cell_type": "code",
   "execution_count": 20,
   "id": "cc37e844",
   "metadata": {},
   "outputs": [],
   "source": [
    "# Indicando ao Python o caminho/arquivo que vamos usar\n",
    "arquivoNovo = r'pima-indians-diabetes.csv'"
   ]
  },
  {
   "cell_type": "code",
   "execution_count": 21,
   "id": "c45a2da2",
   "metadata": {},
   "outputs": [],
   "source": [
    "# Fazendo a leitura dos dados do arquivo e separando pela \",\"\n",
    "datapath = open(arquivoNovo, 'r')\n",
    "dados = loadtxt(datapath, delimiter=',')"
   ]
  },
  {
   "cell_type": "code",
   "execution_count": 23,
   "id": "6b86a1a3",
   "metadata": {},
   "outputs": [
    {
     "name": "stdout",
     "output_type": "stream",
     "text": [
      "(768, 9)\n"
     ]
    }
   ],
   "source": [
    "print(dados.shape)"
   ]
  },
  {
   "cell_type": "markdown",
   "id": "7cd0a493",
   "metadata": {},
   "source": [
    "# Fazendo a leitura com o Pandas"
   ]
  },
  {
   "cell_type": "code",
   "execution_count": 31,
   "id": "7de57237",
   "metadata": {},
   "outputs": [],
   "source": [
    "# Importando a Lib\n",
    "from pandas import read_csv"
   ]
  },
  {
   "cell_type": "code",
   "execution_count": 32,
   "id": "e1eede2f",
   "metadata": {},
   "outputs": [],
   "source": [
    "# Indicando o arquivo/caminho\n",
    "meuArquivo = r'iris.csv'\n",
    "\n",
    "# Fazendo a leitura do arquivo\n",
    "meusDados = read_csv(meuArquivo)"
   ]
  },
  {
   "cell_type": "code",
   "execution_count": 33,
   "id": "f539bfba",
   "metadata": {},
   "outputs": [
    {
     "name": "stdout",
     "output_type": "stream",
     "text": [
      "(150, 5)\n"
     ]
    }
   ],
   "source": [
    "# Mostrando a forma(shape) dos meus dados\n",
    "print(meusDados.shape)"
   ]
  },
  {
   "cell_type": "code",
   "execution_count": null,
   "id": "50e64287",
   "metadata": {},
   "outputs": [],
   "source": []
  }
 ],
 "metadata": {
  "kernelspec": {
   "display_name": "Python 3",
   "language": "python",
   "name": "python3"
  },
  "language_info": {
   "codemirror_mode": {
    "name": "ipython",
    "version": 3
   },
   "file_extension": ".py",
   "mimetype": "text/x-python",
   "name": "python",
   "nbconvert_exporter": "python",
   "pygments_lexer": "ipython3",
   "version": "3.8.8"
  }
 },
 "nbformat": 4,
 "nbformat_minor": 5
}

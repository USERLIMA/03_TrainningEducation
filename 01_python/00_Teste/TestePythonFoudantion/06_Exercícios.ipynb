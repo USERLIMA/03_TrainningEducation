{
 "cells": [
  {
   "cell_type": "markdown",
   "id": "9861bada",
   "metadata": {},
   "source": [
    "# Exercícios\n",
    "\n",
    "- **Primeiro** - Faça um algoritmo que compare se um valor de uma variável A é igual da variável B. Caso igual, apresentar a mensagem: Valores iguais. Caso diferente, apresentar valores diferentes.\n",
    "- **Segundo** - Faça um algoritmo que verifique se o conteúdo da variável A(100) é diferente da variável B(50). Caso seja diferente, informar: \"Valores diferentes!\"\n",
    "- **Terceiro** - Escreva um algoritmo que tenha 3 variáveis, cada variável receberá um valor e o algoritmo deve fazer as operações básicas com os 3 valores. Operações - Soma, subtração e multiplicação."
   ]
  },
  {
   "cell_type": "code",
   "execution_count": null,
   "id": "62920e35",
   "metadata": {},
   "outputs": [],
   "source": [
    "# Primeiro - Faça um algoritmo que compare se um valor de uma variável A \n",
    "# é igual da variável B. Caso igual, apresentar a mensagem: \n",
    "# Valores iguais. Caso diferente, apresentar valores diferentes.\n",
    "\n",
    "a = 10\n",
    "b = 11\n",
    "\n",
    "if a == b:\n",
    "    print(\"Valores iguais!\")\n",
    "else:\n",
    "    print(\"Valores diferentes!\")"
   ]
  },
  {
   "cell_type": "code",
   "execution_count": null,
   "id": "47fc0419",
   "metadata": {},
   "outputs": [],
   "source": [
    "# Segundo - Faça um algoritmo que verifique se o conteúdo da variável \n",
    "# A(100) é diferente da variável B(50). \n",
    "# Caso seja diferente, informar: \"Valores diferentes!\"\n",
    "a = 100\n",
    "b = 50\n",
    "\n",
    "if a != b:\n",
    "    print(\"Valores diferentes!\")\n",
    "\n",
    "print(\"Fim da execução deste script!\")"
   ]
  },
  {
   "cell_type": "code",
   "execution_count": null,
   "id": "ce16b924",
   "metadata": {},
   "outputs": [],
   "source": [
    "# Terceiro - Escreva um algoritmo que tenha 3 variáveis, cada variável \n",
    "# receberá um valor e o algoritmo deve fazer as operações básicas com os \n",
    "# 3 valores. \n",
    "# Operações - Soma, subtração e multiplicação.\n",
    "\n",
    "a = 15\n",
    "b = 3\n",
    "c = 4\n",
    "\n",
    "print(\"A soma dos 3 valores é de: \", a + b + c)\n",
    "print(\"A subtração dos 3 valores é de: \", a - b - c)\n",
    "print(\"A multiplicação dos 3 valores é de: \", a * b * c)"
   ]
  },
  {
   "cell_type": "code",
   "execution_count": null,
   "id": "c167d815",
   "metadata": {},
   "outputs": [],
   "source": [
    "# Exemplo desenvolvido pelo PIVA\n",
    "\n",
    "A = int(input(\"Digite a Variável A:\"))\n",
    "B = int(input(\"Digite a Variável B:\"))\n",
    "C = int(input(\"Digite a Variável C:\"))\n",
    "\n",
    "if A == B:\n",
    "    print(\"A é igual a B!\")\n",
    "elif A > B:\n",
    "    print(\"A é maior que B!\")\n",
    "else:\n",
    "    print(\"A é menor que B!\")\n",
    "\n",
    "Soma = A + B + C\n",
    "Subtracao = A - B - C\n",
    "Multiplicacao = A * B * C\n",
    "\n",
    "print(\"\\n\",\"A:\", A,\" B:\", B,\" C:\", C)\n",
    "print(\"A + B + C:\", Soma)\n",
    "print(\"A - B - C:\", Subtracao)\n",
    "print(\"A * B * C:\", Multiplicacao)"
   ]
  },
  {
   "cell_type": "markdown",
   "id": "590ac0cb",
   "metadata": {},
   "source": [
    "# Continuação\n",
    "\n",
    "- **Quarto** - Faça um programa que solicite o nome do usuário e imprima-o na vertical.\n",
    "- **Quinto** - Faça um programa que receba 2 valores e verifique qual valor é maior. **DICA**: use a função SE para esse caso."
   ]
  },
  {
   "cell_type": "code",
   "execution_count": 1,
   "id": "db775762",
   "metadata": {},
   "outputs": [
    {
     "name": "stdout",
     "output_type": "stream",
     "text": [
      "A\n",
      "d\n",
      "r\n",
      "i\n",
      "a\n",
      "n\n",
      "o\n"
     ]
    }
   ],
   "source": [
    "# Quarto - Faça um programa que solicite o nome do usuário \n",
    "# e imprima-o na vertical.\n",
    "\n",
    "nome = \"Adriano\"\n",
    "\n",
    "for letras in nome:\n",
    "    print(letras)"
   ]
  },
  {
   "cell_type": "code",
   "execution_count": 2,
   "id": "0d5d88e2",
   "metadata": {},
   "outputs": [
    {
     "name": "stdout",
     "output_type": "stream",
     "text": [
      "Digite seu nome:Aqui vai meu nome super legal\n",
      "A\n",
      "q\n",
      "u\n",
      "i\n",
      " \n",
      "v\n",
      "a\n",
      "i\n",
      " \n",
      "m\n",
      "e\n",
      "u\n",
      " \n",
      "n\n",
      "o\n",
      "m\n",
      "e\n",
      " \n",
      "s\n",
      "u\n",
      "p\n",
      "e\n",
      "r\n",
      " \n",
      "l\n",
      "e\n",
      "g\n",
      "a\n",
      "l\n"
     ]
    }
   ],
   "source": [
    "# Outra possibilidade - Exemplo do Vitor Piva\n",
    "nome = input(\"Digite seu nome:\") \n",
    "\n",
    "for i in range(0,len(nome)):\n",
    "    print(nome[i])"
   ]
  },
  {
   "cell_type": "code",
   "execution_count": 3,
   "id": "db44524d",
   "metadata": {},
   "outputs": [
    {
     "name": "stdout",
     "output_type": "stream",
     "text": [
      "Digite seu nome: Sinfrogildo\n",
      "S\n",
      "i\n",
      "n\n",
      "f\n",
      "r\n",
      "o\n",
      "g\n",
      "i\n",
      "l\n",
      "d\n",
      "o\n"
     ]
    }
   ],
   "source": [
    "nomeDois = input(\"Digite seu nome: \") \n",
    "\n",
    "for letras in nomeDois:\n",
    "    print(letras)"
   ]
  },
  {
   "cell_type": "code",
   "execution_count": 11,
   "id": "9277f927",
   "metadata": {},
   "outputs": [
    {
     "name": "stdout",
     "output_type": "stream",
     "text": [
      "Digite o primeiro valor: 10\n",
      "Digite o segundo valor: 10\n",
      "Segundo valor é MAIOR que o primeiro!\n"
     ]
    }
   ],
   "source": [
    "# Quinto - Faça um programa que receba 2 valores e verifique \n",
    "# qual valor é maior. DICA: use a função SE para esse caso.\n",
    "\n",
    "# Versão A\n",
    "valorUm = int(input(\"Digite o primeiro valor: \"))\n",
    "valorDois = int(input(\"Digite o segundo valor: \"))\n",
    "\n",
    "# Verificação simples\n",
    "if valorUm > valorDois:\n",
    "    print(\"Primeiro valor é MAIOR que o segundo!\")\n",
    "else:\n",
    "    print(\"Segundo valor é MAIOR que o primeiro!\")"
   ]
  },
  {
   "cell_type": "code",
   "execution_count": 8,
   "id": "0e0a656f",
   "metadata": {},
   "outputs": [
    {
     "name": "stdout",
     "output_type": "stream",
     "text": [
      "Primeiro valor é MAIOR que o segundo!\n"
     ]
    }
   ],
   "source": [
    "# Versão B\n",
    "valorUm = 13\n",
    "valorDois = 3\n",
    "\n",
    "# Verificação simples\n",
    "if valorUm > valorDois:\n",
    "    print(\"Primeiro valor é MAIOR que o segundo!\")\n",
    "else:\n",
    "    print(\"Segundo valor é MAIOR que o primeiro!\")"
   ]
  },
  {
   "cell_type": "code",
   "execution_count": 15,
   "id": "a9eec133",
   "metadata": {},
   "outputs": [
    {
     "name": "stdout",
     "output_type": "stream",
     "text": [
      "Digite o primeiro valor: 2\n",
      "Digite o segundo valor: 1\n",
      "Digite o terceiro valor: 1\n",
      "Primeiro valor é MAIOR que os demais!\n"
     ]
    }
   ],
   "source": [
    "# Versão INCREMENTADA\n",
    "valorUm = int(input(\"Digite o primeiro valor: \"))\n",
    "valorDois = int(input(\"Digite o segundo valor: \"))\n",
    "\n",
    "# Verificação Composta\n",
    "if valorUm > valorDois:\n",
    "    print(\"Primeiro valor é MAIOR que o segundo!\")\n",
    "elif valorDois > valorUm:\n",
    "    print(\"Segundo valor é MAIOR que o primeiro!\")\n",
    "else:\n",
    "    print(\"Todos os valores informados são IGUAIS!\")"
   ]
  },
  {
   "cell_type": "markdown",
   "id": "4528fb22",
   "metadata": {},
   "source": [
    "# Para arrebentar\n",
    "\n",
    "- **Sexto** - Faça um algoritmo que receba 3 valores e verifique qual o maior de todos.\n",
    "\n",
    "15 minutos para fazer."
   ]
  },
  {
   "cell_type": "code",
   "execution_count": null,
   "id": "13310a3f",
   "metadata": {},
   "outputs": [],
   "source": [
    "# Versão INCREMENTADA\n",
    "valorUm = int(input(\"Digite o primeiro valor: \"))\n",
    "valorDois = int(input(\"Digite o segundo valor: \"))\n",
    "valorTres = int(input(\"Digite o terceiro valor: \"))\n",
    "\n",
    "# Verificação Composta\n",
    "if valorUm > valorDois and valorUm > valorTres:\n",
    "    print(\"Primeiro valor é MAIOR que os demais!\")\n",
    "elif valorDois > valorUm and valorDois > valorTres:\n",
    "    print(\"Segundo valor é MAIOR que os demais!\")\n",
    "elif valorTres > valorUm and valorTres > valorDois:\n",
    "    print(\"Terceiro valor é MAIOR que os demais!\")\n",
    "else:\n",
    "    print(\"Todos os valores informados são IGUAIS!\")"
   ]
  },
  {
   "cell_type": "code",
   "execution_count": 19,
   "id": "8bdddd7a",
   "metadata": {},
   "outputs": [
    {
     "name": "stdout",
     "output_type": "stream",
     "text": [
      "Segundo (1) e Terceiro (1) são iguais e maiores que primeiro (0)\n"
     ]
    }
   ],
   "source": [
    "# receber 3 numeros e verificar qual o maior\n",
    "\n",
    "n1 = 0\n",
    "n2 = 1\n",
    "n3 = 1\n",
    "\n",
    "if n1 > n2 and n1 > n3:\n",
    "    print (f\"Primeiro numero ({n1}) é maior\")\n",
    "elif n2 > n1 and n2 > n3:\n",
    "    print(f\"Segundo numero ({n2}) é maior\")\n",
    "elif n3 > n1 and n3 > n2:\n",
    "    print (f\"Terceiro numero ({n3}) é o maior\")\n",
    "elif n1 == n2 and n1 > n3:\n",
    "    print(f\"Primeiro ({n1}) e Segundo ({n2}) são iguais e maiores que o terceiro ({n3})\")\n",
    "elif n2 == n3 and n2 > n1:\n",
    "    print (f\"Segundo ({n2}) e Terceiro ({n3}) são iguais e maiores que primeiro ({n1})\")\n",
    "elif n1 == n3 and n1 > n2:\n",
    "    print(f\"Primeiro ({n1}) e Terceiro ({n3}) são iguais e maior que o segundo ({n2})\")\n",
    "else:\n",
    "    print(f\"Todos são iguais ({n1}) ({n2}) ({n3})\")"
   ]
  },
  {
   "cell_type": "markdown",
   "id": "76fcb3be",
   "metadata": {},
   "source": [
    "# Para arrebentar a boca do balão\n",
    "\n",
    "- **Sétimo** - Faça um algoritmo que receba 5 valores e verifique qual o maior de todos."
   ]
  },
  {
   "cell_type": "code",
   "execution_count": 21,
   "id": "7ff10eb1",
   "metadata": {},
   "outputs": [
    {
     "name": "stdout",
     "output_type": "stream",
     "text": [
      "Digite o primeiro valor: 1\n",
      "Digite o segundo valor: 2\n",
      "Digite o terceiro valor: 1\n",
      "Digite o quarto valor: 1\n",
      "Digite o quinto valor: 1\n",
      "Segundo valor é MAIOR que os demais!\n"
     ]
    }
   ],
   "source": [
    "# Versão INCREMENTADA\n",
    "valorUm = int(input(\"Digite o primeiro valor: \"))\n",
    "valorDois = int(input(\"Digite o segundo valor: \"))\n",
    "valorTres = int(input(\"Digite o terceiro valor: \"))\n",
    "valorQuatro = int(input(\"Digite o quarto valor: \"))\n",
    "valorCinco = int(input(\"Digite o quinto valor: \"))\n",
    "\n",
    "# Verificação Composta\n",
    "if valorUm > valorDois and valorUm > valorTres and valorUm > valorQuatro and valorUm > valorCinco:\n",
    "    print(\"Primeiro valor é MAIOR que os demais!\")\n",
    "elif valorDois > valorUm and valorDois > valorTres and valorDois > valorQuatro and valorDois > valorCinco:\n",
    "    print(\"Segundo valor é MAIOR que os demais!\")\n",
    "elif valorTres > valorUm and valorTres > valorDois and valorTres > valorQuatro and valorTres > valorCinco:\n",
    "    print(\"Terceiro valor é MAIOR que os demais!\")\n",
    "elif valorQuatro > valorUm and valorQuatro > valorDois and valorQuatro > valorTres and valorQuatro > valorCinco:\n",
    "    print(\"Quarto valor é MAIOR que os demais!\")\n",
    "elif valorCinco > valorUm and valorCinco > valorDois and valorCinco > valorTres and valorCinco > valorQuatro:\n",
    "    print(\"Quinto valor é MAIOR que os demais!\")\n",
    "else:\n",
    "    print(\"Todos os valores informados são IGUAIS!\")"
   ]
  },
  {
   "cell_type": "code",
   "execution_count": 28,
   "id": "7833d43e",
   "metadata": {},
   "outputs": [
    {
     "name": "stdout",
     "output_type": "stream",
     "text": [
      "Quantos números deseja comparar? 3\n",
      "1º valor:1\n",
      "2º valor:2\n",
      "3º valor:3\n",
      "O maior número é: 3\n"
     ]
    }
   ],
   "source": [
    "# Piva\n",
    "Quantidade = int(input(\"Quantos números deseja comparar? \"))\n",
    "Lista = []\n",
    "\n",
    "for i in range(0,Quantidade):\n",
    "    Numero = int(input(f\"{i+1}º valor:\"))\n",
    "    Lista.append(Numero)\n",
    "\n",
    "Valor = 0\n",
    "\n",
    "for i in Lista:\n",
    "    if i > Valor:\n",
    "        Valor = i\n",
    "\n",
    "print(\"O maior número é:\", Valor)"
   ]
  },
  {
   "cell_type": "code",
   "execution_count": 30,
   "id": "cd952af4",
   "metadata": {},
   "outputs": [
    {
     "name": "stdout",
     "output_type": "stream",
     "text": [
      "O maior numero de toda a lista é 9 que aparece na lista por 1 vez(es)\n"
     ]
    }
   ],
   "source": [
    "# receber 5 numeros e verificar qual o maior\n",
    "lista_numeros = [2, 0, 3, 4, 9]\n",
    "maior = 0\n",
    "\n",
    "for numero in lista_numeros:\n",
    "    if numero > maior:\n",
    "        maior = numero\n",
    "print (f\"O maior numero de toda a lista é {maior} que aparece na lista por {lista_numeros.count(maior)} vez(es)\")"
   ]
  },
  {
   "cell_type": "code",
   "execution_count": null,
   "id": "33645d51",
   "metadata": {},
   "outputs": [],
   "source": []
  },
  {
   "cell_type": "code",
   "execution_count": null,
   "id": "635571ce",
   "metadata": {},
   "outputs": [],
   "source": []
  }
 ],
 "metadata": {
  "kernelspec": {
   "display_name": "Python 3",
   "language": "python",
   "name": "python3"
  },
  "language_info": {
   "codemirror_mode": {
    "name": "ipython",
    "version": 3
   },
   "file_extension": ".py",
   "mimetype": "text/x-python",
   "name": "python",
   "nbconvert_exporter": "python",
   "pygments_lexer": "ipython3",
   "version": "3.8.8"
  }
 },
 "nbformat": 4,
 "nbformat_minor": 5
}

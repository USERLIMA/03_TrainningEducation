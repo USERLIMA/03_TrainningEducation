{
 "cells": [
  {
   "cell_type": "markdown",
   "id": "3b69e936",
   "metadata": {},
   "source": [
    "### Listas\n",
    "\n",
    "As listas são os tipos de dados compostos mais versáteis do Python. Uma lista contém itens separados por vírgulas e entre colchetes []. Até certo ponto, as listas são semelhantes às matrizes em C. Uma das diferenças entre elas é que todos os itens pertencentes a uma lista podem ser de tipos de dados diferentes.\n"
   ]
  },
  {
   "cell_type": "code",
   "execution_count": 3,
   "id": "58d2ef9e",
   "metadata": {
    "scrolled": true
   },
   "outputs": [
    {
     "name": "stdout",
     "output_type": "stream",
     "text": [
      "Minha lista: \n",
      "['xyz', 123, 456, 'Mickey', 92.5]\n",
      "xyz\n",
      "Mickey\n",
      "[123, 456]\n",
      "--------------------\n",
      "Listinha: \n",
      "[567, 'Pateta']\n",
      "567\n",
      "Pateta\n"
     ]
    }
   ],
   "source": [
    "minhaLista = ['xyz', 123, 456, 'Mickey', 92.5]\n",
    "listinha = [567, 'Pateta']\n",
    "\n",
    "print(\"Minha lista: \")\n",
    "print(minhaLista) # Imprime a minhaLista inteira\n",
    "print(minhaLista[0]) # Imprime o primeiro item da minhaLista\n",
    "print(minhaLista[3]) # Imprime o elemento de posição 3\n",
    "print(minhaLista[1:3]) # Imprime o 2º e 3º elemento da lista\n",
    "print(\"--------------------\")\n",
    "print(\"Listinha: \")\n",
    "print(listinha) # Imprime a listinha inteira\n",
    "print(listinha[0]) # Imprime o 1º elemento da listinha\n",
    "print(listinha[1]) # Imprime o elemento de pos 1"
   ]
  },
  {
   "cell_type": "code",
   "execution_count": 4,
   "id": "6b012230",
   "metadata": {},
   "outputs": [
    {
     "name": "stdout",
     "output_type": "stream",
     "text": [
      "[789, 'Training', 'Python']\n",
      "[123, 456, 789, 'Training', 'Python', 123, 456, 789, 'Training', 'Python']\n",
      "[123, 456, 789, 'Training', 'Python', 123, 456, 789, 'Training', 'Python', 123, 456, 789, 'Training', 'Python']\n",
      "---------------------------\n",
      "Desafio Lista\n",
      "['xyz', 123, 456, 'Mickey', 92.5, 567, 'Pateta', 123, 456, 789, 'Training', 'Python']\n",
      "['xyz', 123, 456, 'Mickey', 92.5] [567, 'Pateta'] [123, 456, 789, 'Training', 'Python']\n"
     ]
    }
   ],
   "source": [
    "minhaSegundaLista = [123, 456, 789, 'Training', 'Python']\n",
    "\n",
    "print(minhaSegundaLista[2:]) # Imprimindo a partir do segundo elemento\n",
    "print(minhaSegundaLista * 2) # Imprime duas vezes a lista\n",
    "print(minhaSegundaLista * 3) # Imprime três vezes a lista\n",
    "\n",
    "print('---------------------------')\n",
    "print('Desafio Lista')\n",
    "# Desafio Rápido\n",
    "# Eu quero imprimir as duas listas juntas, no mesmo comando\n",
    "# Como fazer?\n",
    "print(minhaLista + listinha + minhaSegundaLista)\n",
    "print(minhaLista, listinha, minhaSegundaLista)"
   ]
  },
  {
   "cell_type": "code",
   "execution_count": 5,
   "id": "4b573dcb",
   "metadata": {},
   "outputs": [
    {
     "name": "stdout",
     "output_type": "stream",
     "text": [
      "['xyz', 123, 456, 'Mickey', 92.5]\n",
      "[567, 'Pateta']\n",
      "[123, 456, 789, 'Training', 'Python']\n"
     ]
    }
   ],
   "source": [
    "print(minhaLista)\n",
    "print(listinha)\n",
    "print(minhaSegundaLista)"
   ]
  },
  {
   "cell_type": "markdown",
   "id": "d6f48bbd",
   "metadata": {},
   "source": [
    "### Atualizando listas\n"
   ]
  },
  {
   "cell_type": "code",
   "execution_count": 6,
   "id": "22fa389b",
   "metadata": {},
   "outputs": [
    {
     "name": "stdout",
     "output_type": "stream",
     "text": [
      "Valor encontrado no índice 2 é:  1992\n",
      "Novo Valor encontrado no índice 2 é:  2001\n"
     ]
    }
   ],
   "source": [
    "listaUm = ['Matemática', 'Português', 1992, 1995, 1998]\n",
    "print('Valor encontrado no índice 2 é: ', listaUm[2])\n",
    "\n",
    "# Para atualizar o índice desejado, devemos informar a lista e a sua posição\n",
    "# depois colocar o = e o novo valor desejado\n",
    "listaUm[2] = 2001\n",
    "print('Novo Valor encontrado no índice 2 é: ', listaUm[2])"
   ]
  },
  {
   "cell_type": "markdown",
   "id": "2bdba143",
   "metadata": {},
   "source": [
    "### Deleter itens da Lista"
   ]
  },
  {
   "cell_type": "code",
   "execution_count": 7,
   "id": "7a1028d0",
   "metadata": {},
   "outputs": [
    {
     "name": "stdout",
     "output_type": "stream",
     "text": [
      "['Matemática', 'Português', 1992, 1995, 1998, 'Geografia', 'História']\n",
      "Removendo um item da lista: ['Matemática', 'Português', 1995, 1998, 'Geografia', 'História']\n"
     ]
    }
   ],
   "source": [
    "listaUm = ['Matemática', 'Português', 1992, 1995, 1998, 'Geografia', 'História']\n",
    "print(listaUm)\n",
    "\n",
    "# Deletando um item da Lista\n",
    "del listaUm[2]\n",
    "print('Removendo um item da lista:', listaUm)"
   ]
  },
  {
   "cell_type": "code",
   "execution_count": 8,
   "id": "b4b01622",
   "metadata": {},
   "outputs": [
    {
     "name": "stdout",
     "output_type": "stream",
     "text": [
      "1995\n"
     ]
    }
   ],
   "source": [
    "print(listaUm[2])"
   ]
  },
  {
   "cell_type": "markdown",
   "id": "b2d33776",
   "metadata": {},
   "source": [
    "## Tuplas\n",
    "\n",
    "Uma tupla é outro tipo de dados de sequência semelhante à lista. Uma tupla consiste em vários valores separados por vírgulas. Diferentemente das listas, no entanto, as tuplas são colocadas entre parênteses.\n",
    "\n",
    "A principal diferença entre listas e tuplas é - As listas estão entre colchetes ([]) e seus elementos e tamanho podem ser alterados, enquanto as tuplas estão entre parênteses (()) e não podem ser atualizadas. As tuplas podem ser consideradas como listas somente leitura."
   ]
  },
  {
   "cell_type": "code",
   "execution_count": 9,
   "id": "4e0798a7",
   "metadata": {},
   "outputs": [
    {
     "name": "stdout",
     "output_type": "stream",
     "text": [
      "('xyz', 123, 456, 789, 'abc')\n",
      "(456, 'def')\n",
      "xyz\n",
      "(123, 456)\n",
      "(456, 789, 'abc')\n",
      "('xyz', 123, 456, 789, 'abc', 'xyz', 123, 456, 789, 'abc')\n"
     ]
    }
   ],
   "source": [
    "tuplaUm = ('xyz', 123, 456, 789, 'abc')\n",
    "tuplinha = (456, 'def')\n",
    "\n",
    "## Imprimindo os valores das Tuplas\n",
    "print(tuplaUm)\n",
    "print(tuplinha)\n",
    "print(tuplaUm[0])\n",
    "print(tuplaUm[1:3])\n",
    "print(tuplaUm[2:])\n",
    "print(tuplaUm * 2)"
   ]
  },
  {
   "cell_type": "markdown",
   "id": "44bc0817",
   "metadata": {},
   "source": [
    "### Atualizando Tuplas\n",
    "\n",
    "As tuplas são imutáveis, o que significa que você não pode atualizar ou alterar os valores dos elementos das tuplas. Você pode usar partes das tuplas existentes para criar novas, como o exemplo a seguir demonstra:\n"
   ]
  },
  {
   "cell_type": "code",
   "execution_count": 10,
   "id": "f109aaf5",
   "metadata": {},
   "outputs": [
    {
     "name": "stdout",
     "output_type": "stream",
     "text": [
      "(32, 2021, 'Python', 'Training')\n",
      "(32, 2021)\n",
      "('Python', 'Training')\n",
      "(32, 2021, 'Python', 'Training')\n"
     ]
    }
   ],
   "source": [
    "tuplaNova = (32, 2021)\n",
    "tuplaTres = ('Python', \"Training\")\n",
    "\n",
    "tuplaResultado = tuplaNova + tuplaTres\n",
    "print(tuplaResultado)\n",
    "print(tuplaNova)\n",
    "print(tuplaTres)\n",
    "print(tuplaNova + tuplaTres)"
   ]
  },
  {
   "cell_type": "code",
   "execution_count": 11,
   "id": "127d35ba",
   "metadata": {},
   "outputs": [
    {
     "name": "stdout",
     "output_type": "stream",
     "text": [
      "('Filosofia', 'Sociologia', 'Artes')\n"
     ]
    },
    {
     "ename": "NameError",
     "evalue": "name 'tuplaEscola' is not defined",
     "output_type": "error",
     "traceback": [
      "\u001b[1;31m---------------------------------------------------------------------------\u001b[0m",
      "\u001b[1;31mNameError\u001b[0m                                 Traceback (most recent call last)",
      "\u001b[1;32m<ipython-input-11-8a2a1d8880c2>\u001b[0m in \u001b[0;36m<module>\u001b[1;34m\u001b[0m\n\u001b[0;32m      4\u001b[0m \u001b[1;33m\u001b[0m\u001b[0m\n\u001b[0;32m      5\u001b[0m \u001b[1;32mdel\u001b[0m \u001b[0mtuplaEscola\u001b[0m\u001b[1;33m\u001b[0m\u001b[1;33m\u001b[0m\u001b[0m\n\u001b[1;32m----> 6\u001b[1;33m \u001b[0mprint\u001b[0m\u001b[1;33m(\u001b[0m\u001b[0mtuplaEscola\u001b[0m\u001b[1;33m)\u001b[0m\u001b[1;33m\u001b[0m\u001b[1;33m\u001b[0m\u001b[0m\n\u001b[0m",
      "\u001b[1;31mNameError\u001b[0m: name 'tuplaEscola' is not defined"
     ]
    }
   ],
   "source": [
    "## Excluindo um elemento da TUPLA\n",
    "tuplaEscola = ('Filosofia', 'Sociologia', 'Artes')\n",
    "print(tuplaEscola)\n",
    "\n",
    "del tuplaEscola\n",
    "print(tuplaEscola)"
   ]
  },
  {
   "cell_type": "markdown",
   "id": "12701239",
   "metadata": {},
   "source": [
    "# Tomada de Decisão com if... else...\n",
    "\n",
    "A tomada de decisão é necessária quando queremos executar um código apenas se uma determinada condição for atendida.\n",
    "\n",
    "\n",
    "if (condição):\n",
    "    Conjunto de Instruções\n",
    " "
   ]
  },
  {
   "cell_type": "code",
   "execution_count": 12,
   "id": "751c7b51",
   "metadata": {},
   "outputs": [
    {
     "name": "stdout",
     "output_type": "stream",
     "text": [
      "Esse texto será sempre executado!\n"
     ]
    }
   ],
   "source": [
    "# Versão mais simples da Função SE\n",
    "# Verificando se um número é positivo ou não\n",
    "numero = -128\n",
    "\n",
    "if numero > 0:\n",
    "    print(numero, 'é um número positivo!')\n",
    "print(\"Esse texto será sempre executado!\")\n",
    "    # Caso a variavel numero tenha valor menor que 0, \n",
    "    # iremos ignorar e não mostraremos nada"
   ]
  },
  {
   "cell_type": "code",
   "execution_count": 13,
   "id": "2c8ee7c8",
   "metadata": {},
   "outputs": [
    {
     "name": "stdout",
     "output_type": "stream",
     "text": [
      "-128 é um número negativo!\n"
     ]
    }
   ],
   "source": [
    "# Trabalhando com o Else\n",
    "# Verificando se um número é positivo ou não\n",
    "numero = -128\n",
    "\n",
    "if numero > 0:\n",
    "    print(numero, 'é um número positivo!')\n",
    "else:\n",
    "    print(numero, 'é um número negativo!')\n",
    "# Caso a variavel numero tenha valor menor que 0, \n",
    "    # iremos ignorar e não mostraremos nada\n",
    "    \n",
    "# Exemplo deste função no Excel, respondendo o aluno Willian \n",
    "# Comparando o Se em Python com o Se do Excel\n",
    "# =se(célula > 7; \"Aprovado\", \"Reprovado\")"
   ]
  },
  {
   "cell_type": "code",
   "execution_count": 14,
   "id": "24655f3d",
   "metadata": {},
   "outputs": [
    {
     "name": "stdout",
     "output_type": "stream",
     "text": [
      "Numero Negativo!\n"
     ]
    }
   ],
   "source": [
    "# Verificando se o valor informado é Positivo, Negativo ou Zero\n",
    "numero = -1\n",
    "\n",
    "if numero > 0:\n",
    "    print(\"Numero positivo!\")\n",
    "elif numero == 0:\n",
    "    print(\"Zero!\")\n",
    "else: \n",
    "    print(\"Numero Negativo!\")"
   ]
  },
  {
   "cell_type": "markdown",
   "id": "47108a9f",
   "metadata": {},
   "source": [
    "# Exercício\n",
    "\n",
    "Faça um algoritmo que leia a temperatura de uma pessoa.\n",
    "- Abaixo de 37 graus, sem febre.\n",
    "- Acima de 37 graus, com febre"
   ]
  },
  {
   "cell_type": "code",
   "execution_count": 15,
   "id": "e4f12857",
   "metadata": {},
   "outputs": [
    {
     "name": "stdout",
     "output_type": "stream",
     "text": [
      "A pessoa está sem febre!\n"
     ]
    }
   ],
   "source": [
    "temperatura = 36\n",
    "\n",
    "if temperatura > 37:\n",
    "    print(\"A pessoa está com febre!\")\n",
    "else: \n",
    "    print(\"A pessoa está sem febre!\")"
   ]
  },
  {
   "cell_type": "code",
   "execution_count": 16,
   "id": "203c2d6c",
   "metadata": {},
   "outputs": [
    {
     "name": "stdout",
     "output_type": "stream",
     "text": [
      "A pessoa deve ser monitorada!\n"
     ]
    }
   ],
   "source": [
    "temperatura = 37\n",
    "\n",
    "if temperatura > 37:\n",
    "    print(\"A pessoa está com febre\")\n",
    "elif temperatura == 37:\n",
    "    print(\"A pessoa deve ser monitorada!\")\n",
    "else: \n",
    "    print(\"A pessoa está sem febre!\")"
   ]
  },
  {
   "cell_type": "markdown",
   "id": "8f8c0da2",
   "metadata": {},
   "source": [
    "## Exercício 02\n",
    "\n",
    "Uma escola nos contratou para desenvolver um sistema que receba a média do aluno e faça a apresentação do Resultado:\n",
    "\n",
    "- Nota maior ou igual a 7 - Aluno Aprovado\n",
    "- Nota maior ou igual a 5 - Aluno de Recuperação\n",
    "- Nota menor que 5  - Aluno Reprovado\n",
    "\n",
    "## Exercício 03\n",
    "\n",
    "Faça um algoritmo que receba a idade de uma pessoa, baseado na resposta o sistema deve retornar se a pessoa é adulto, idoso ou criança.\n",
    "\n",
    "- Maior que 18 Adulto\n",
    "- Maior que 60 Idoso\n",
    "- Menor que 12 Criança\n",
    "\n",
    "## Exercício 04\n",
    "\n",
    "Faça um algoritmo que receba o Sexo da Pessoa(M/F) e retorne o sexo escrito normalmente(Masculino/Feminino)."
   ]
  },
  {
   "cell_type": "code",
   "execution_count": 17,
   "id": "6e8ce65a",
   "metadata": {},
   "outputs": [
    {
     "name": "stdout",
     "output_type": "stream",
     "text": [
      "Aluno REPROVADO! =( \n"
     ]
    }
   ],
   "source": [
    "# Notas\n",
    "\n",
    "nota = 3\n",
    "\n",
    "if nota >= 7:\n",
    "    print(\"Aluno APROVADO!\")\n",
    "elif nota >= 5:\n",
    "    print(\"Aluno de RECUPERAÇÃO!\")\n",
    "else:\n",
    "    print(\"Aluno REPROVADO! =( \")"
   ]
  },
  {
   "cell_type": "code",
   "execution_count": 18,
   "id": "e3460236",
   "metadata": {},
   "outputs": [
    {
     "name": "stdout",
     "output_type": "stream",
     "text": [
      "Idoso\n"
     ]
    }
   ],
   "source": [
    "# Idade\n",
    "idade = 61\n",
    "\n",
    "if idade >= 18 and idade < 60:\n",
    "    print(\"Adulto!\")\n",
    "elif idade >= 12 and idade < 18:\n",
    "    print(\"Adolescente!\")\n",
    "elif idade < 12:\n",
    "    print(\"Criança!\")\n",
    "else: \n",
    "    print(\"Idoso\")"
   ]
  },
  {
   "cell_type": "code",
   "execution_count": 24,
   "id": "9db3ec5c",
   "metadata": {},
   "outputs": [
    {
     "name": "stdout",
     "output_type": "stream",
     "text": [
      "Sexo informado foi o FEMININO!\n"
     ]
    }
   ],
   "source": [
    "# Sexo\n",
    "sexo = \"F\"\n",
    "\n",
    "if sexo == \"F\":\n",
    "    print(\"Sexo informado foi o FEMININO!\")\n",
    "elif sexo == \"M\":\n",
    "    print(\"Sexo informado foi o MASCULINO!\")\n",
    "else:\n",
    "    print(\"Informação não identificada!\")"
   ]
  },
  {
   "cell_type": "code",
   "execution_count": null,
   "id": "f24b9e34",
   "metadata": {},
   "outputs": [],
   "source": []
  },
  {
   "cell_type": "code",
   "execution_count": null,
   "id": "92778302",
   "metadata": {},
   "outputs": [],
   "source": []
  }
 ],
 "metadata": {
  "kernelspec": {
   "display_name": "Python 3",
   "language": "python",
   "name": "python3"
  },
  "language_info": {
   "codemirror_mode": {
    "name": "ipython",
    "version": 3
   },
   "file_extension": ".py",
   "mimetype": "text/x-python",
   "name": "python",
   "nbconvert_exporter": "python",
   "pygments_lexer": "ipython3",
   "version": "3.8.8"
  }
 },
 "nbformat": 4,
 "nbformat_minor": 5
}

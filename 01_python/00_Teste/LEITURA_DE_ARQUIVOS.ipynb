{
 "cells": [
  {
   "cell_type": "markdown",
   "id": "6dc848c4",
   "metadata": {},
   "source": [
    "## Fazendo leitura de arquivos no Python \n",
    "\n",
    "NOTA: essa leitura é apenas para que o python reconheça os dados contidos no arquivo indicado"
   ]
  },
  {
   "cell_type": "markdown",
   "id": "7c02837e",
   "metadata": {},
   "source": [
    "## Três principais formas de fazedr a leitura dos arquivos em Python"
   ]
  },
  {
   "cell_type": "code",
   "execution_count": 1,
   "id": "7f31e688",
   "metadata": {},
   "outputs": [],
   "source": [
    "# Numpy\n",
    "\n",
    "# Importando as minhas libs \n",
    "\n",
    "import csv # CSV é uma lib padrão do Python\n",
    "import os # OS é uma lib para reconhecimento de infos do S.O. (sistema de operação)\n",
    "import numpy as np # Numpy uma das principais Libs Python"
   ]
  },
  {
   "cell_type": "code",
   "execution_count": 2,
   "id": "247e3892",
   "metadata": {},
   "outputs": [
    {
     "data": {
      "text/plain": [
       "'C:\\\\Users\\\\caiol\\\\OneDrive\\\\Documentos\\\\PYTHON'"
      ]
     },
     "execution_count": 2,
     "metadata": {},
     "output_type": "execute_result"
    }
   ],
   "source": [
    "# para saber o caminho do arquivo atual, usamos a lib OS\n",
    "\n",
    "os.getcwd()\n",
    "\n",
    "# Com esse comando vamos recuperar o caminho do nosso arquivo "
   ]
  },
  {
   "cell_type": "code",
   "execution_count": 4,
   "id": "ce6fdec1",
   "metadata": {},
   "outputs": [],
   "source": [
    "# caminho do meu arquivo, ou simplesmente indicar qual o arquivo que queremos ler, \n",
    "# criando uma variável que vai armazenar o caminho/nome do arquivo\n",
    "\n",
    "arquivo = r'iris.csv'\n",
    "\n",
    "# Outra possibilidade caso eu queira utilizar um arquivo que esteja em outra pasta\n",
    "# \"caminho = r'/users/nomeDoUsuario/NomeDaPasta/NomeDaSubpasta/NomeDoArquivo\"\n"
   ]
  },
  {
   "cell_type": "code",
   "execution_count": 6,
   "id": "b3aedb6a",
   "metadata": {},
   "outputs": [],
   "source": [
    "# Efetuando a abertura e leitura do arquivo \n",
    "# 'r' significa que o arquivo é para leitura e 'f:' é uma variável de controle \n",
    "# delimiter é um caracter de delimitação, \n",
    "\n",
    "with open(arquivo, 'r') as f:\n",
    "    reader = csv.reader(f, delimiter = ',')\n",
    "    headers = next(reader) # Headers(Cabeçalho da minha \"tabela/Conjunto Dados)\n",
    "    data = list(reader)\n",
    "    data = np.array(data)\n",
    "    \n",
    "# Basicamente ele cria uma boneca Russa, que armazena das informações dentro de caixas menores"
   ]
  },
  {
   "cell_type": "code",
   "execution_count": 8,
   "id": "62bb0365",
   "metadata": {},
   "outputs": [
    {
     "name": "stdout",
     "output_type": "stream",
     "text": [
      "['sepal.length', 'sepal.width', 'petal.length', 'petal.width', 'variety']\n"
     ]
    }
   ],
   "source": [
    "# Imprimindo os meus cabeçalhos\n",
    "\n",
    "print(headers)"
   ]
  },
  {
   "cell_type": "code",
   "execution_count": 9,
   "id": "0591265e",
   "metadata": {},
   "outputs": [
    {
     "name": "stdout",
     "output_type": "stream",
     "text": [
      "(150, 5)\n"
     ]
    }
   ],
   "source": [
    "# Impressão da \"forma\" do meu conjunto de dados\n",
    "\n",
    "print(data.shape)\n",
    "\n",
    "# 150 linhas e 5 colunas"
   ]
  },
  {
   "cell_type": "code",
   "execution_count": 10,
   "id": "8180e610",
   "metadata": {},
   "outputs": [
    {
     "name": "stdout",
     "output_type": "stream",
     "text": [
      "[['5.1' '3.5' '1.4' '.2' 'Setosa']\n",
      " ['4.9' '3' '1.4' '.2' 'Setosa']\n",
      " ['4.7' '3.2' '1.3' '.2' 'Setosa']]\n"
     ]
    }
   ],
   "source": [
    "# Impressão das minhas três primeiras linhas do conjunto de dados\n",
    "\n",
    "print(data[:3])"
   ]
  },
  {
   "cell_type": "markdown",
   "id": "75a13756",
   "metadata": {},
   "source": [
    "##  Fazendo a leitura com o Numpy e loadTXT"
   ]
  },
  {
   "cell_type": "code",
   "execution_count": 11,
   "id": "d9597e6f",
   "metadata": {},
   "outputs": [],
   "source": [
    "# Importando as Libs\n",
    "from numpy import loadtxt"
   ]
  },
  {
   "cell_type": "code",
   "execution_count": 14,
   "id": "49422a0a",
   "metadata": {},
   "outputs": [],
   "source": [
    "# Indicando ao Python o caminho/arquivo que vamos usar\n",
    "arquivoNovo = r'pima-indians-diabetes.csv'"
   ]
  },
  {
   "cell_type": "code",
   "execution_count": 17,
   "id": "cf8b0e28",
   "metadata": {},
   "outputs": [],
   "source": [
    "# Fazendo a leitura dos dados do arquivo e separando pela \",\"\n",
    "datapath = open(arquivoNovo, 'r')\n",
    "dados = loadtxt(datapath, delimiter = ',')"
   ]
  },
  {
   "cell_type": "code",
   "execution_count": 19,
   "id": "6866f4f6",
   "metadata": {},
   "outputs": [
    {
     "name": "stdout",
     "output_type": "stream",
     "text": [
      "(768, 9)\n"
     ]
    }
   ],
   "source": [
    "print(dados.shape)\n",
    "\n",
    "# 168 linhas e 9 colunas"
   ]
  },
  {
   "cell_type": "markdown",
   "id": "daedfafa",
   "metadata": {},
   "source": [
    "## Fazendo a leitura com PANDAS"
   ]
  },
  {
   "cell_type": "code",
   "execution_count": 2,
   "id": "586fa1c2",
   "metadata": {},
   "outputs": [],
   "source": [
    "# Importando a Lib\n",
    "\n",
    "from pandas import read_csv"
   ]
  },
  {
   "cell_type": "code",
   "execution_count": 3,
   "id": "4dbae3ed",
   "metadata": {},
   "outputs": [],
   "source": [
    "# Indicando o arquivo/caminho\n",
    "\n",
    "meuArquivo = r'iris.csv'\n",
    "\n",
    "# Fazendo a leitura do arquivo\n",
    "\n",
    "meusDados = read_csv(meuArquivo)"
   ]
  },
  {
   "cell_type": "code",
   "execution_count": 4,
   "id": "b6d0caba",
   "metadata": {},
   "outputs": [
    {
     "name": "stdout",
     "output_type": "stream",
     "text": [
      "(150, 5)\n"
     ]
    }
   ],
   "source": [
    "# Mostrando a forma(shape) dos meus dados\n",
    "\n",
    "print(meusDados.shape)"
   ]
  },
  {
   "cell_type": "code",
   "execution_count": 7,
   "id": "bcb8c22c",
   "metadata": {},
   "outputs": [
    {
     "name": "stdout",
     "output_type": "stream",
     "text": [
      "    sepal.length  sepal.width  petal.length  petal.width variety\n",
      "0            5.1          3.5           1.4          0.2  Setosa\n",
      "1            4.9          3.0           1.4          0.2  Setosa\n",
      "2            4.7          3.2           1.3          0.2  Setosa\n",
      "3            4.6          3.1           1.5          0.2  Setosa\n",
      "4            5.0          3.6           1.4          0.2  Setosa\n",
      "5            5.4          3.9           1.7          0.4  Setosa\n",
      "6            4.6          3.4           1.4          0.3  Setosa\n",
      "7            5.0          3.4           1.5          0.2  Setosa\n",
      "8            4.4          2.9           1.4          0.2  Setosa\n",
      "9            4.9          3.1           1.5          0.1  Setosa\n",
      "10           5.4          3.7           1.5          0.2  Setosa\n",
      "11           4.8          3.4           1.6          0.2  Setosa\n",
      "12           4.8          3.0           1.4          0.1  Setosa\n",
      "13           4.3          3.0           1.1          0.1  Setosa\n",
      "14           5.8          4.0           1.2          0.2  Setosa\n",
      "15           5.7          4.4           1.5          0.4  Setosa\n",
      "16           5.4          3.9           1.3          0.4  Setosa\n",
      "17           5.1          3.5           1.4          0.3  Setosa\n",
      "18           5.7          3.8           1.7          0.3  Setosa\n",
      "19           5.1          3.8           1.5          0.3  Setosa\n"
     ]
    }
   ],
   "source": [
    "print(meusDados[:20])"
   ]
  },
  {
   "cell_type": "markdown",
   "id": "1245a9fc",
   "metadata": {},
   "source": [
    "## EXERCÍCIO"
   ]
  },
  {
   "cell_type": "code",
   "execution_count": 14,
   "id": "35a182ad",
   "metadata": {},
   "outputs": [
    {
     "name": "stdout",
     "output_type": "stream",
     "text": [
      "(614, 13)\n"
     ]
    }
   ],
   "source": [
    "from pandas import read_csv\n",
    "exemplo1 = r'Arquivo-Treino.csv'\n",
    "data = read_csv(exemplo1)\n",
    "print(data.shape)"
   ]
  },
  {
   "cell_type": "code",
   "execution_count": 18,
   "id": "e602e108",
   "metadata": {},
   "outputs": [
    {
     "name": "stdout",
     "output_type": "stream",
     "text": [
      "     Loan_ID  Gender Married Dependents     Education Self_Employed  \\\n",
      "0   LP001002    Male      No          0      Graduate            No   \n",
      "1   LP001003    Male     Yes          1      Graduate            No   \n",
      "2   LP001005    Male     Yes          0      Graduate           Yes   \n",
      "3   LP001006    Male     Yes          0  Not Graduate            No   \n",
      "4   LP001008    Male      No          0      Graduate            No   \n",
      "5   LP001011    Male     Yes          2      Graduate           Yes   \n",
      "6   LP001013    Male     Yes          0  Not Graduate            No   \n",
      "7   LP001014    Male     Yes         3+      Graduate            No   \n",
      "8   LP001018    Male     Yes          2      Graduate            No   \n",
      "9   LP001020    Male     Yes          1      Graduate            No   \n",
      "10  LP001024    Male     Yes          2      Graduate            No   \n",
      "11  LP001027    Male     Yes          2      Graduate           NaN   \n",
      "12  LP001028    Male     Yes          2      Graduate            No   \n",
      "13  LP001029    Male      No          0      Graduate            No   \n",
      "14  LP001030    Male     Yes          2      Graduate            No   \n",
      "15  LP001032    Male      No          0      Graduate            No   \n",
      "16  LP001034    Male      No          1  Not Graduate            No   \n",
      "17  LP001036  Female      No          0      Graduate            No   \n",
      "18  LP001038    Male     Yes          0  Not Graduate            No   \n",
      "19  LP001041    Male     Yes          0      Graduate           NaN   \n",
      "20  LP001043    Male     Yes          0  Not Graduate            No   \n",
      "21  LP001046    Male     Yes          1      Graduate            No   \n",
      "22  LP001047    Male     Yes          0  Not Graduate            No   \n",
      "23  LP001050     NaN     Yes          2  Not Graduate            No   \n",
      "24  LP001052    Male     Yes          1      Graduate           NaN   \n",
      "25  LP001066    Male     Yes          0      Graduate           Yes   \n",
      "26  LP001068    Male     Yes          0      Graduate            No   \n",
      "27  LP001073    Male     Yes          2  Not Graduate            No   \n",
      "28  LP001086    Male      No          0  Not Graduate            No   \n",
      "29  LP001087  Female      No          2      Graduate           NaN   \n",
      "30  LP001091    Male     Yes          1      Graduate           NaN   \n",
      "31  LP001095    Male      No          0      Graduate            No   \n",
      "32  LP001097    Male      No          1      Graduate           Yes   \n",
      "33  LP001098    Male     Yes          0      Graduate            No   \n",
      "34  LP001100    Male      No         3+      Graduate            No   \n",
      "35  LP001106    Male     Yes          0      Graduate            No   \n",
      "36  LP001109    Male     Yes          0      Graduate            No   \n",
      "37  LP001112  Female     Yes          0      Graduate            No   \n",
      "38  LP001114    Male      No          0      Graduate            No   \n",
      "39  LP001116    Male      No          0  Not Graduate            No   \n",
      "40  LP001119    Male      No          0      Graduate            No   \n",
      "41  LP001120    Male      No          0      Graduate            No   \n",
      "42  LP001123    Male     Yes          0      Graduate            No   \n",
      "43  LP001131    Male     Yes          0      Graduate            No   \n",
      "44  LP001136    Male     Yes          0  Not Graduate           Yes   \n",
      "45  LP001137  Female      No          0      Graduate            No   \n",
      "46  LP001138    Male     Yes          1      Graduate            No   \n",
      "47  LP001144    Male     Yes          0      Graduate            No   \n",
      "48  LP001146  Female     Yes          0      Graduate            No   \n",
      "49  LP001151  Female      No          0      Graduate            No   \n",
      "50  LP001155  Female     Yes          0  Not Graduate            No   \n",
      "51  LP001157  Female      No          0      Graduate            No   \n",
      "52  LP001164  Female      No          0      Graduate            No   \n",
      "53  LP001179    Male     Yes          2      Graduate            No   \n",
      "54  LP001186  Female     Yes          1      Graduate           Yes   \n",
      "55  LP001194    Male     Yes          2      Graduate            No   \n",
      "56  LP001195    Male     Yes          0      Graduate            No   \n",
      "57  LP001197    Male     Yes          0      Graduate            No   \n",
      "58  LP001198    Male     Yes          1      Graduate            No   \n",
      "59  LP001199    Male     Yes          2  Not Graduate            No   \n",
      "\n",
      "    ApplicantIncome  CoapplicantIncome  LoanAmount  Loan_Amount_Term  \\\n",
      "0              5849                0.0         NaN             360.0   \n",
      "1              4583             1508.0       128.0             360.0   \n",
      "2              3000                0.0        66.0             360.0   \n",
      "3              2583             2358.0       120.0             360.0   \n",
      "4              6000                0.0       141.0             360.0   \n",
      "5              5417             4196.0       267.0             360.0   \n",
      "6              2333             1516.0        95.0             360.0   \n",
      "7              3036             2504.0       158.0             360.0   \n",
      "8              4006             1526.0       168.0             360.0   \n",
      "9             12841            10968.0       349.0             360.0   \n",
      "10             3200              700.0        70.0             360.0   \n",
      "11             2500             1840.0       109.0             360.0   \n",
      "12             3073             8106.0       200.0             360.0   \n",
      "13             1853             2840.0       114.0             360.0   \n",
      "14             1299             1086.0        17.0             120.0   \n",
      "15             4950                0.0       125.0             360.0   \n",
      "16             3596                0.0       100.0             240.0   \n",
      "17             3510                0.0        76.0             360.0   \n",
      "18             4887                0.0       133.0             360.0   \n",
      "19             2600             3500.0       115.0               NaN   \n",
      "20             7660                0.0       104.0             360.0   \n",
      "21             5955             5625.0       315.0             360.0   \n",
      "22             2600             1911.0       116.0             360.0   \n",
      "23             3365             1917.0       112.0             360.0   \n",
      "24             3717             2925.0       151.0             360.0   \n",
      "25             9560                0.0       191.0             360.0   \n",
      "26             2799             2253.0       122.0             360.0   \n",
      "27             4226             1040.0       110.0             360.0   \n",
      "28             1442                0.0        35.0             360.0   \n",
      "29             3750             2083.0       120.0             360.0   \n",
      "30             4166             3369.0       201.0             360.0   \n",
      "31             3167                0.0        74.0             360.0   \n",
      "32             4692                0.0       106.0             360.0   \n",
      "33             3500             1667.0       114.0             360.0   \n",
      "34            12500             3000.0       320.0             360.0   \n",
      "35             2275             2067.0         NaN             360.0   \n",
      "36             1828             1330.0       100.0               NaN   \n",
      "37             3667             1459.0       144.0             360.0   \n",
      "38             4166             7210.0       184.0             360.0   \n",
      "39             3748             1668.0       110.0             360.0   \n",
      "40             3600                0.0        80.0             360.0   \n",
      "41             1800             1213.0        47.0             360.0   \n",
      "42             2400                0.0        75.0             360.0   \n",
      "43             3941             2336.0       134.0             360.0   \n",
      "44             4695                0.0        96.0               NaN   \n",
      "45             3410                0.0        88.0               NaN   \n",
      "46             5649                0.0        44.0             360.0   \n",
      "47             5821                0.0       144.0             360.0   \n",
      "48             2645             3440.0       120.0             360.0   \n",
      "49             4000             2275.0       144.0             360.0   \n",
      "50             1928             1644.0       100.0             360.0   \n",
      "51             3086                0.0       120.0             360.0   \n",
      "52             4230                0.0       112.0             360.0   \n",
      "53             4616                0.0       134.0             360.0   \n",
      "54            11500                0.0       286.0             360.0   \n",
      "55             2708             1167.0        97.0             360.0   \n",
      "56             2132             1591.0        96.0             360.0   \n",
      "57             3366             2200.0       135.0             360.0   \n",
      "58             8080             2250.0       180.0             360.0   \n",
      "59             3357             2859.0       144.0             360.0   \n",
      "\n",
      "    Credit_History Property_Area Loan_Status  \n",
      "0              1.0         Urban           Y  \n",
      "1              1.0         Rural           N  \n",
      "2              1.0         Urban           Y  \n",
      "3              1.0         Urban           Y  \n",
      "4              1.0         Urban           Y  \n",
      "5              1.0         Urban           Y  \n",
      "6              1.0         Urban           Y  \n",
      "7              0.0     Semiurban           N  \n",
      "8              1.0         Urban           Y  \n",
      "9              1.0     Semiurban           N  \n",
      "10             1.0         Urban           Y  \n",
      "11             1.0         Urban           Y  \n",
      "12             1.0         Urban           Y  \n",
      "13             1.0         Rural           N  \n",
      "14             1.0         Urban           Y  \n",
      "15             1.0         Urban           Y  \n",
      "16             NaN         Urban           Y  \n",
      "17             0.0         Urban           N  \n",
      "18             1.0         Rural           N  \n",
      "19             1.0         Urban           Y  \n",
      "20             0.0         Urban           N  \n",
      "21             1.0         Urban           Y  \n",
      "22             0.0     Semiurban           N  \n",
      "23             0.0         Rural           N  \n",
      "24             NaN     Semiurban           N  \n",
      "25             1.0     Semiurban           Y  \n",
      "26             1.0     Semiurban           Y  \n",
      "27             1.0         Urban           Y  \n",
      "28             1.0         Urban           N  \n",
      "29             1.0     Semiurban           Y  \n",
      "30             NaN         Urban           N  \n",
      "31             1.0         Urban           N  \n",
      "32             1.0         Rural           N  \n",
      "33             1.0     Semiurban           Y  \n",
      "34             1.0         Rural           N  \n",
      "35             1.0         Urban           Y  \n",
      "36             0.0         Urban           N  \n",
      "37             1.0     Semiurban           Y  \n",
      "38             1.0         Urban           Y  \n",
      "39             1.0     Semiurban           Y  \n",
      "40             1.0         Urban           N  \n",
      "41             1.0         Urban           Y  \n",
      "42             NaN         Urban           Y  \n",
      "43             1.0     Semiurban           Y  \n",
      "44             1.0         Urban           Y  \n",
      "45             1.0         Urban           Y  \n",
      "46             1.0         Urban           Y  \n",
      "47             1.0         Urban           Y  \n",
      "48             0.0         Urban           N  \n",
      "49             1.0     Semiurban           Y  \n",
      "50             1.0     Semiurban           Y  \n",
      "51             1.0     Semiurban           Y  \n",
      "52             1.0     Semiurban           N  \n",
      "53             1.0         Urban           N  \n",
      "54             0.0         Urban           N  \n",
      "55             1.0     Semiurban           Y  \n",
      "56             1.0     Semiurban           Y  \n",
      "57             1.0         Rural           N  \n",
      "58             1.0         Urban           Y  \n",
      "59             1.0         Urban           Y  \n"
     ]
    }
   ],
   "source": [
    "print(data[:60])"
   ]
  },
  {
   "cell_type": "code",
   "execution_count": null,
   "id": "00a242e8",
   "metadata": {},
   "outputs": [],
   "source": []
  }
 ],
 "metadata": {
  "kernelspec": {
   "display_name": "Python 3",
   "language": "python",
   "name": "python3"
  },
  "language_info": {
   "codemirror_mode": {
    "name": "ipython",
    "version": 3
   },
   "file_extension": ".py",
   "mimetype": "text/x-python",
   "name": "python",
   "nbconvert_exporter": "python",
   "pygments_lexer": "ipython3",
   "version": "3.8.8"
  }
 },
 "nbformat": 4,
 "nbformat_minor": 5
}

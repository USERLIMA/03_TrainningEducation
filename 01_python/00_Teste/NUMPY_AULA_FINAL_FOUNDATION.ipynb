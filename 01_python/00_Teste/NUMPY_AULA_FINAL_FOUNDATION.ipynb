{
 "cells": [
  {
   "cell_type": "markdown",
   "id": "500d8905",
   "metadata": {},
   "source": [
    "# Numpy\n",
    "\n",
    "Biblioteca do python para trabalhar com números, principalmente."
   ]
  },
  {
   "cell_type": "code",
   "execution_count": 1,
   "id": "67f0c5b2",
   "metadata": {},
   "outputs": [],
   "source": [
    "# importando a lib\n",
    "\n",
    "import numpy as np"
   ]
  },
  {
   "cell_type": "code",
   "execution_count": 2,
   "id": "3e5ba573",
   "metadata": {},
   "outputs": [
    {
     "name": "stdout",
     "output_type": "stream",
     "text": [
      "[1 2 3 4 5 6 7 8 9]\n"
     ]
    }
   ],
   "source": [
    "# Array é basicamente um vetor, podemos considera-lo uma lista também\n",
    "\n",
    "a = np.array ([1,2,3,4,5,6,7,8,9])\n",
    "print(a)"
   ]
  },
  {
   "cell_type": "code",
   "execution_count": 3,
   "id": "523787d8",
   "metadata": {},
   "outputs": [
    {
     "name": "stdout",
     "output_type": "stream",
     "text": [
      "<class 'numpy.ndarray'>\n"
     ]
    }
   ],
   "source": [
    "# Mostrar qual o tipo(type) dos dados que tenho em 'a'\n",
    "\n",
    "print(type(a))"
   ]
  },
  {
   "cell_type": "markdown",
   "id": "ba556347",
   "metadata": {},
   "source": [
    "# Criando uma MATRIZ\n",
    "\n",
    "Arrays são unidimesionais, ou seja, uma unica linha, já matrizes são bidimensionais, oned temos linhas e colunas. "
   ]
  },
  {
   "cell_type": "code",
   "execution_count": 4,
   "id": "3a0b4842",
   "metadata": {},
   "outputs": [
    {
     "name": "stdout",
     "output_type": "stream",
     "text": [
      "[[1 2 3]\n",
      " [4 5 6]]\n"
     ]
    }
   ],
   "source": [
    "# Vamos criar uma matriz de Nº inteiros \n",
    "\n",
    "b = np.array([[1,2,3],[4,5,6]])\n",
    "print(b)\n"
   ]
  },
  {
   "cell_type": "code",
   "execution_count": 5,
   "id": "5d4aec63",
   "metadata": {},
   "outputs": [
    {
     "name": "stdout",
     "output_type": "stream",
     "text": [
      "[[1 2 3 4 5 6]\n",
      " [7 8 9 4 5 6]\n",
      " [3 2 1 6 5 4]]\n"
     ]
    }
   ],
   "source": [
    "c = np.array([[1,2,3,4,5,6],[7,8,9,4,5,6],[3,2,1,6,5,4]])\n",
    "print(c)"
   ]
  },
  {
   "cell_type": "code",
   "execution_count": 6,
   "id": "2f387810",
   "metadata": {},
   "outputs": [
    {
     "name": "stdout",
     "output_type": "stream",
     "text": [
      "[[1.2 3.  4.  5.  6. ]\n",
      " [7.8 9.  4.  5.  6. ]\n",
      " [3.2 1.  6.  5.  4. ]]\n"
     ]
    }
   ],
   "source": [
    "# Matriz com decimal\n",
    "\n",
    "d = np.array([[1.2,3,4,5,6],[7.8,9,4,5,6],[3.2,1,6,5,4]])\n",
    "print(d)"
   ]
  },
  {
   "cell_type": "code",
   "execution_count": 7,
   "id": "5402af91",
   "metadata": {},
   "outputs": [
    {
     "name": "stdout",
     "output_type": "stream",
     "text": [
      "[list([1.2, 3, 4, 5, 6]) list([7.8, 9, 4.5, 6]) list([3.2, 1, 6, 5, 4])]\n"
     ]
    },
    {
     "name": "stderr",
     "output_type": "stream",
     "text": [
      "C:\\Users\\caiol\\AppData\\Local\\Temp/ipykernel_28448/3561276411.py:3: VisibleDeprecationWarning: Creating an ndarray from ragged nested sequences (which is a list-or-tuple of lists-or-tuples-or ndarrays with different lengths or shapes) is deprecated. If you meant to do this, you must specify 'dtype=object' when creating the ndarray.\n",
      "  d = np.array([[1.2,3,4,5,6],[7.8,9,4.5,6],[3.2,1,6,5,4]])\n"
     ]
    }
   ],
   "source": [
    "# Matriz com decimal\n",
    "\n",
    "d = np.array([[1.2,3,4,5,6],[7.8,9,4.5,6],[3.2,1,6,5,4]])\n",
    "print(d)"
   ]
  },
  {
   "cell_type": "code",
   "execution_count": 8,
   "id": "f5be98a2",
   "metadata": {},
   "outputs": [
    {
     "name": "stdout",
     "output_type": "stream",
     "text": [
      "[[0. 0. 0. 0. 0.]\n",
      " [0. 0. 0. 0. 0.]\n",
      " [0. 0. 0. 0. 0.]]\n"
     ]
    }
   ],
   "source": [
    "# Zeros e um\n",
    "# np.zerros(linhas, colunas)\n",
    "\n",
    "zeros = np.zeros((3,5))\n",
    "\n",
    "print(zeros)\n"
   ]
  },
  {
   "cell_type": "code",
   "execution_count": 9,
   "id": "daabc581",
   "metadata": {},
   "outputs": [
    {
     "name": "stdout",
     "output_type": "stream",
     "text": [
      "[[1. 1. 1. 1. 1.]\n",
      " [1. 1. 1. 1. 1.]\n",
      " [1. 1. 1. 1. 1.]]\n"
     ]
    }
   ],
   "source": [
    "um = np.ones((3,5))\n",
    "\n",
    "print(um)"
   ]
  },
  {
   "cell_type": "markdown",
   "id": "9e702e4c",
   "metadata": {},
   "source": [
    "# Arange, Shape e Reshape"
   ]
  },
  {
   "cell_type": "code",
   "execution_count": 10,
   "id": "bfb096ec",
   "metadata": {},
   "outputs": [
    {
     "name": "stdout",
     "output_type": "stream",
     "text": [
      "Minha Matriz possui:  [ 0  1  2  3  4  5  6  7  8  9 10]\n"
     ]
    }
   ],
   "source": [
    "# Arange , iremos criar em um range definido por nós, uma sequencia de 0 a 10\n",
    "\n",
    "minhaMatriz = np.arange(11)\n",
    "\n",
    "# mostrar o resultado que foi gerado \n",
    "\n",
    "print('Minha Matriz possui: ', minhaMatriz)"
   ]
  },
  {
   "cell_type": "code",
   "execution_count": 11,
   "id": "6e0a6818",
   "metadata": {},
   "outputs": [
    {
     "name": "stdout",
     "output_type": "stream",
     "text": [
      "Minha Matriz possui:  [ 0  1  2  3  4  5  6  7  8  9 10 11]\n",
      "\n",
      "\n",
      "Minha Matriz modificada com o reshape: \n",
      " [[ 0  1  2  3]\n",
      " [ 4  5  6  7]\n",
      " [ 8  9 10 11]]\n"
     ]
    }
   ],
   "source": [
    "minhaMatriz = np.arange(12) # mudando para 12\n",
    "\n",
    "print('Minha Matriz possui: ', minhaMatriz) \n",
    "print('\\n')      \n",
    "minhaMatriz = np.arange(12).reshape(3,4)\n",
    "\n",
    "print('Minha Matriz modificada com o reshape: \\n', minhaMatriz)"
   ]
  },
  {
   "cell_type": "markdown",
   "id": "96bfcc52",
   "metadata": {},
   "source": [
    "# EXERCÍCIO MATRIZ\n",
    "\n",
    "1. Quero uma matriz onde armazene de 0 a 50;\n",
    "2. Crie uma matriz que receba 24 números, utilizando o reshape, faça com que os valores venham aleatoriamente - 6L e 4C;\n",
    "3. crie um array com 4 posições."
   ]
  },
  {
   "cell_type": "code",
   "execution_count": 12,
   "id": "c67c0436",
   "metadata": {},
   "outputs": [
    {
     "name": "stdout",
     "output_type": "stream",
     "text": [
      "Minha Matriz possui:  [ 0  1  2  3  4  5  6  7  8  9 10 11 12 13 14 15 16 17 18 19 20 21 22 23\n",
      " 24 25 26 27 28 29 30 31 32 33 34 35 36 37 38 39 40 41 42 43 44 45 46 47\n",
      " 48 49 50]\n"
     ]
    }
   ],
   "source": [
    "# Arange , iremos criar em um range definido por nós, uma sequencia de 0 a 50\n",
    "\n",
    "minhaMatrizEX = np.arange(51)\n",
    "\n",
    "# mostrar o resultado que foi gerado \n",
    "\n",
    "print('Minha Matriz possui: ', minhaMatrizEX)"
   ]
  },
  {
   "cell_type": "code",
   "execution_count": 13,
   "id": "ea715589",
   "metadata": {},
   "outputs": [
    {
     "name": "stdout",
     "output_type": "stream",
     "text": [
      "Minha Matriz possui:  [ 0  1  2  3  4  5  6  7  8  9 10 11 12 13 14 15 16 17 18 19 20 21 22 23\n",
      " 24]\n",
      "\n",
      "\n",
      "Minha Matriz modificada com o reshape: \n",
      " [[ 0  1  2  3  4]\n",
      " [ 5  6  7  8  9]\n",
      " [10 11 12 13 14]\n",
      " [15 16 17 18 19]\n",
      " [20 21 22 23 24]]\n"
     ]
    }
   ],
   "source": [
    "minhaMatrizEX = np.arange(25) # mudando para 12\n",
    "\n",
    "print('Minha Matriz possui: ', minhaMatrizEX) \n",
    "print('\\n')      \n",
    "minhaMatrizEX = np.arange(25).reshape(5,5)\n",
    "\n",
    "print('Minha Matriz modificada com o reshape: \\n', minhaMatrizEX)"
   ]
  },
  {
   "cell_type": "code",
   "execution_count": 14,
   "id": "6a2b1e73",
   "metadata": {},
   "outputs": [
    {
     "name": "stdout",
     "output_type": "stream",
     "text": [
      "Minha Matriz modificada com o reshape: \n",
      " [[ 0  1  2  3  4]\n",
      " [ 5  6  7  8  9]\n",
      " [10 11 12 13 14]\n",
      " [15 16 17 18 19]\n",
      " [20 21 22 23 24]]\n"
     ]
    }
   ],
   "source": [
    "# Na verdade precisa somente desta etapa:\n",
    "\n",
    "minhaMatrizEX = np.arange(25).reshape(5,5)\n",
    "\n",
    "print('Minha Matriz modificada com o reshape: \\n', minhaMatrizEX)"
   ]
  },
  {
   "cell_type": "code",
   "execution_count": 15,
   "id": "74c299a0",
   "metadata": {},
   "outputs": [
    {
     "name": "stdout",
     "output_type": "stream",
     "text": [
      "[0 1 2 3]\n"
     ]
    }
   ],
   "source": [
    "# array com 4 posições \n",
    "\n",
    "quatro = np.arange(4)\n",
    "\n",
    "print(quatro)"
   ]
  },
  {
   "cell_type": "markdown",
   "id": "2707f1ba",
   "metadata": {},
   "source": [
    "# Slice (Fatiando as minhas matrizes)"
   ]
  },
  {
   "cell_type": "code",
   "execution_count": 16,
   "id": "d8583ac7",
   "metadata": {},
   "outputs": [
    {
     "name": "stdout",
     "output_type": "stream",
     "text": [
      "[ 0  1  2  3  4  5  6  7  8  9 10 11 12 13 14 15]\n"
     ]
    }
   ],
   "source": [
    "numeros  = np.array([0,1,2,3,4,5,6,7,8,9,10,11,12,13,14,15])\n",
    "\n",
    "print(numeros)"
   ]
  },
  {
   "cell_type": "code",
   "execution_count": 17,
   "id": "ad6202b9",
   "metadata": {},
   "outputs": [
    {
     "name": "stdout",
     "output_type": "stream",
     "text": [
      "[2 3 4 5]\n"
     ]
    }
   ],
   "source": [
    "print(numeros[2:6])"
   ]
  },
  {
   "cell_type": "code",
   "execution_count": 18,
   "id": "986b90ff",
   "metadata": {},
   "outputs": [
    {
     "name": "stdout",
     "output_type": "stream",
     "text": [
      "5\n"
     ]
    }
   ],
   "source": [
    "print(numeros[5]) # até o quinto"
   ]
  },
  {
   "cell_type": "code",
   "execution_count": 19,
   "id": "0bafc383",
   "metadata": {},
   "outputs": [
    {
     "name": "stdout",
     "output_type": "stream",
     "text": [
      "[0 1 2 3 4]\n"
     ]
    }
   ],
   "source": [
    "print(numeros[:5])"
   ]
  },
  {
   "cell_type": "code",
   "execution_count": 20,
   "id": "7233f3fd",
   "metadata": {},
   "outputs": [
    {
     "name": "stdout",
     "output_type": "stream",
     "text": [
      "[ 0  1  2  3  4  5  6  7  8  9 10]\n"
     ]
    }
   ],
   "source": [
    "print(numeros[:-5]) # -5 dos últimos"
   ]
  },
  {
   "cell_type": "code",
   "execution_count": 21,
   "id": "ced413e1",
   "metadata": {},
   "outputs": [
    {
     "name": "stdout",
     "output_type": "stream",
     "text": [
      "[ 0  1  2  3  4  5  6  7  8  9 10 11 12]\n"
     ]
    }
   ],
   "source": [
    "print(numeros[:-3]) # -3 dos últimos"
   ]
  },
  {
   "cell_type": "code",
   "execution_count": 22,
   "id": "ea75bed2",
   "metadata": {},
   "outputs": [
    {
     "name": "stdout",
     "output_type": "stream",
     "text": [
      "[ 3  4  5  6  7  8  9 10 11 12]\n"
     ]
    }
   ],
   "source": [
    "print(numeros[3:-3]) # -3 dos últimos e primeiros "
   ]
  },
  {
   "cell_type": "code",
   "execution_count": 23,
   "id": "387dd73d",
   "metadata": {},
   "outputs": [
    {
     "name": "stdout",
     "output_type": "stream",
     "text": [
      "[ 0  1  2  3  4  5  6  7  8  9 10 11 12 13 14 15]\n",
      "[ 0  1  2  3  4  5  6  7  8  9 10 11 12 13 14 15]\n",
      "[ 0  1  2  3  4  5  6  7  8  9 10 11 12 13 14 15]\n"
     ]
    }
   ],
   "source": [
    "# imprimindo todos os valores \n",
    "\n",
    "print(numeros)\n",
    "print(numeros[::])\n",
    "print(numeros[:])"
   ]
  },
  {
   "cell_type": "code",
   "execution_count": 24,
   "id": "3f3238db",
   "metadata": {},
   "outputs": [
    {
     "name": "stdout",
     "output_type": "stream",
     "text": [
      "[15 14 13 12 11 10  9  8  7  6  5  4  3  2  1  0]\n",
      "[15 13 11  9  7  5  3  1]\n",
      "16\n"
     ]
    }
   ],
   "source": [
    "# imprimindo de forma inversa \n",
    "\n",
    "print(numeros[::-1])\n",
    "print(numeros[::-2])\n",
    "\n",
    "print(len(numeros))"
   ]
  },
  {
   "cell_type": "code",
   "execution_count": 25,
   "id": "eb66ac6e",
   "metadata": {},
   "outputs": [
    {
     "name": "stdout",
     "output_type": "stream",
     "text": [
      "[ 0  1  2  3  4  5  6  7  8  9 10 11 12 13 14 15]\n",
      "0\n",
      "1\n",
      "2\n",
      "3\n",
      "4\n",
      "5\n",
      "6\n",
      "7\n",
      "8\n",
      "9\n",
      "10\n",
      "11\n",
      "12\n",
      "13\n",
      "14\n",
      "15\n"
     ]
    }
   ],
   "source": [
    "print(numeros)\n",
    "print(numeros[0])\n",
    "print(numeros[1])\n",
    "print(numeros[2])\n",
    "print(numeros[3])\n",
    "print(numeros[4])\n",
    "print(numeros[5])\n",
    "print(numeros[6])\n",
    "print(numeros[7])\n",
    "print(numeros[8])\n",
    "print(numeros[9])\n",
    "print(numeros[10])\n",
    "print(numeros[11])\n",
    "print(numeros[12])\n",
    "print(numeros[13])\n",
    "print(numeros[14])\n",
    "print(numeros[15])\n",
    "\n",
    "# vai até o 15, somente, se colocar a mais da erro, pois ele conta o \"0\", basta considerar 1 a menos da contagem total de \"Len\",\n",
    "# por isso vamos  até o 15"
   ]
  },
  {
   "cell_type": "code",
   "execution_count": 26,
   "id": "f43fa669",
   "metadata": {},
   "outputs": [
    {
     "name": "stdout",
     "output_type": "stream",
     "text": [
      "[ 0  1  2  3  4  5  6  7  8  9 10 11 12 13 14 15 16 17 18 19 20 21 22 23\n",
      " 24 25 26 27 28 29 30 31 32 33 34 35 36 37 38 39 40 41 42 43 44 45 46 47\n",
      " 48 49 50 51 52 53 54 55 56 57 58 59 60 61 62 63 64 65 66 67 68 69 70 71\n",
      " 72 73 74 75 76 77 78 79 80 81 82 83 84 85 86 87 88 89 90 91 92 93 94 95\n",
      " 96 97 98 99]\n"
     ]
    }
   ],
   "source": [
    "cem = np.arange(100)\n",
    "print(cem)"
   ]
  },
  {
   "cell_type": "code",
   "execution_count": 27,
   "id": "1221160c",
   "metadata": {},
   "outputs": [
    {
     "name": "stdout",
     "output_type": "stream",
     "text": [
      "[ 0  5 10 15 20 25 30 35 40 45 50 55 60 65 70 75 80 85 90 95]\n"
     ]
    }
   ],
   "source": [
    "print(cem[::5])"
   ]
  },
  {
   "cell_type": "markdown",
   "id": "000a3a1f",
   "metadata": {},
   "source": [
    "# EX. 2 \n",
    "\n",
    "- Vetor com 50 Nº; \n",
    "- impressão de 5 em 5 e 2 em 2;\n",
    "- valores inversos"
   ]
  },
  {
   "cell_type": "code",
   "execution_count": 28,
   "id": "80fb1fe6",
   "metadata": {},
   "outputs": [
    {
     "name": "stdout",
     "output_type": "stream",
     "text": [
      "[ 0  1  2  3  4  5  6  7  8  9 10 11 12 13 14 15 16 17 18 19 20 21 22 23\n",
      " 24 25 26 27 28 29 30 31 32 33 34 35 36 37 38 39 40 41 42 43 44 45 46 47\n",
      " 48 49 50]\n"
     ]
    }
   ],
   "source": [
    "cinquenta = np.arange(51)\n",
    "\n",
    "print(cinquenta)"
   ]
  },
  {
   "cell_type": "code",
   "execution_count": 29,
   "id": "a2c52dd0",
   "metadata": {},
   "outputs": [
    {
     "name": "stdout",
     "output_type": "stream",
     "text": [
      "[ 0  5 10 15 20 25 30 35 40 45 50]\n"
     ]
    }
   ],
   "source": [
    "print(cinquenta[::5])"
   ]
  },
  {
   "cell_type": "code",
   "execution_count": 30,
   "id": "083ac0e3",
   "metadata": {},
   "outputs": [
    {
     "name": "stdout",
     "output_type": "stream",
     "text": [
      "[ 0  2  4  6  8 10 12 14 16 18 20 22 24 26 28 30 32 34 36 38 40 42 44 46\n",
      " 48 50]\n"
     ]
    }
   ],
   "source": [
    "print(cinquenta[::2])"
   ]
  },
  {
   "cell_type": "code",
   "execution_count": 31,
   "id": "4d147c45",
   "metadata": {},
   "outputs": [
    {
     "name": "stdout",
     "output_type": "stream",
     "text": [
      "[50 49 48 47 46 45 44 43 42 41 40 39 38 37 36 35 34 33 32 31 30 29 28 27\n",
      " 26 25 24 23 22 21 20 19 18 17 16 15 14 13 12 11 10  9  8  7  6  5  4  3\n",
      "  2  1  0]\n"
     ]
    }
   ],
   "source": [
    "print(cinquenta[::-1])"
   ]
  },
  {
   "cell_type": "code",
   "execution_count": null,
   "id": "254e0a4c",
   "metadata": {},
   "outputs": [],
   "source": []
  }
 ],
 "metadata": {
  "kernelspec": {
   "display_name": "Python 3",
   "language": "python",
   "name": "python3"
  },
  "language_info": {
   "codemirror_mode": {
    "name": "ipython",
    "version": 3
   },
   "file_extension": ".py",
   "mimetype": "text/x-python",
   "name": "python",
   "nbconvert_exporter": "python",
   "pygments_lexer": "ipython3",
   "version": "3.9.9"
  }
 },
 "nbformat": 4,
 "nbformat_minor": 5
}

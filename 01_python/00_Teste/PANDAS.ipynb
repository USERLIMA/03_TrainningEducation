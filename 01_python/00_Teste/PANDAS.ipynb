{
 "cells": [
  {
   "cell_type": "markdown",
   "id": "d0191f7c",
   "metadata": {},
   "source": [
    "# Pandas\n",
    "- Lib muito utilizada para representaçãod e dados, filtragem e estatística.\n",
    "\n",
    "1. Fazendo a leitura de um arquivo"
   ]
  },
  {
   "cell_type": "code",
   "execution_count": 9,
   "id": "29c21f86",
   "metadata": {
    "pycharm": {
     "name": "#%%\n"
    }
   },
   "outputs": [],
   "source": [
    "import pandas as pd"
   ]
  },
  {
   "cell_type": "code",
   "execution_count": 11,
   "id": "1c6f4cdf",
   "metadata": {},
   "outputs": [
    {
     "ename": "SyntaxError",
     "evalue": "(unicode error) 'unicodeescape' codec can't decode bytes in position 2-3: truncated \\UXXXXXXXX escape (Temp/ipykernel_13936/3671829279.py, line 3)",
     "output_type": "error",
     "traceback": [
      "\u001B[1;36m  File \u001B[1;32m\"C:\\Users\\caiol\\AppData\\Local\\Temp/ipykernel_13936/3671829279.py\"\u001B[1;36m, line \u001B[1;32m3\u001B[0m\n\u001B[1;33m    pd.read_excel('C:\\Users\\caiol\\OneDrive\\Documentos\\PYTHON\\Dataset.xlsx', 'Planilha1')\u001B[0m\n\u001B[1;37m                                                                          ^\u001B[0m\n\u001B[1;31mSyntaxError\u001B[0m\u001B[1;31m:\u001B[0m (unicode error) 'unicodeescape' codec can't decode bytes in position 2-3: truncated \\UXXXXXXXX escape\n"
     ]
    }
   ],
   "source": [
    "# Fazendo a leitura do arquivo do Excel\n",
    "\n",
    "pd.read_excel('C:\\Users\\caiol\\OneDrive\\Documentos\\PYTHON\\Dataset.xlsx' , 'Planilha1')"
   ]
  },
  {
   "cell_type": "code",
   "execution_count": null,
   "id": "3ba0dc94",
   "metadata": {},
   "outputs": [],
   "source": [
    "# Fazendo a leitura de um arquivo CSV\n",
    "pd.read_csv('Quadrinhos.csv')"
   ]
  },
  {
   "cell_type": "code",
   "execution_count": null,
   "id": "4faf52b7",
   "metadata": {},
   "outputs": [],
   "source": [
    "# Fazendo a leitura de um arquivo CSV\n",
    "pd.read_csv('Quadrinhos.txt')"
   ]
  },
  {
   "cell_type": "markdown",
   "id": "60718995",
   "metadata": {},
   "source": [
    "# Criando um DataFrame"
   ]
  },
  {
   "cell_type": "code",
   "execution_count": null,
   "id": "6e415d36",
   "metadata": {},
   "outputs": [],
   "source": [
    "# Criando o conjunto de dados do DataFrame\n",
    "dadosFrame = {\n",
    "    'nome': ['Barry', 'Kara', 'Clark'],\n",
    "    'idade': [28, 32, 52],\n",
    "    'função': ['Fotografo', 'Secretaria', 'Reporter']\n",
    "}\n",
    "\n",
    "# Colocando as infos do dadosFrame dentro do df\n",
    "df = pd.DataFrame(dadosFrame)\n",
    "\n",
    "df # Imprimindo meu DataFrame\n",
    "# Outra forma de apresentar na tela seria o print(df)"
   ]
  },
  {
   "cell_type": "code",
   "execution_count": null,
   "id": "ef9c1774",
   "metadata": {},
   "outputs": [],
   "source": [
    "# Pesquisando uma info dentro do df\n",
    "df.loc[df['nome'] == 'Kara']"
   ]
  },
  {
   "cell_type": "code",
   "execution_count": null,
   "id": "d23d185b",
   "metadata": {},
   "outputs": [],
   "source": [
    "# Outra forma de retornar uma informação\n",
    "df.loc[2]"
   ]
  },
  {
   "cell_type": "code",
   "execution_count": null,
   "id": "ff83fa8b",
   "metadata": {},
   "outputs": [],
   "source": [
    "# Terceira forma de fazer pesquisa\n",
    "df[::-1]"
   ]
  },
  {
   "cell_type": "code",
   "execution_count": null,
   "id": "3efd002c",
   "metadata": {},
   "outputs": [],
   "source": [
    "# Criando o conjunto de dados com os números\n",
    "frame_numeros = {\n",
    "    'A':[1,2,3],\n",
    "    'B':[4,5,6],\n",
    "    'C':[7,8,9]\n",
    "}\n",
    "\n",
    "# dfNum = dfNumeros\n",
    "dfNum = pd.DataFrame(frame_numeros)\n",
    "\n",
    "dfNum # Imprimindo meu DataFrame"
   ]
  },
  {
   "cell_type": "code",
   "execution_count": null,
   "id": "93b13cb5",
   "metadata": {},
   "outputs": [],
   "source": [
    "import numpy as np # Importando o Numpy para trabalhar com números/operações\n",
    "\n",
    "# Raiz quadrada de todos os elementos\n",
    "dfNum.apply(np.sqrt)"
   ]
  },
  {
   "cell_type": "code",
   "execution_count": null,
   "id": "302719be",
   "metadata": {},
   "outputs": [],
   "source": [
    "# Somar todos os valores das minhas colunas\n",
    "dfNum.apply(np.sum)"
   ]
  },
  {
   "cell_type": "code",
   "execution_count": null,
   "id": "63ca11a2",
   "metadata": {},
   "outputs": [],
   "source": [
    "# Aplicando a raiz quadrada apenas para a coluna B\n",
    "dfNum['B'].apply(np.sqrt)"
   ]
  },
  {
   "cell_type": "markdown",
   "id": "0f736876",
   "metadata": {},
   "source": [
    "# Reorganizando os valores"
   ]
  },
  {
   "cell_type": "code",
   "execution_count": null,
   "id": "ba792bda",
   "metadata": {},
   "outputs": [],
   "source": [
    "nums = {\n",
    "    'A': [22,11,45],\n",
    "    'B': [18,23,32],\n",
    "    'C': [45,56,70],\n",
    "    'D': [113,14,11]\n",
    "}\n",
    "\n",
    "dfNumDois = pd.DataFrame(nums)\n",
    "\n",
    "dfNumDois"
   ]
  },
  {
   "cell_type": "code",
   "execution_count": null,
   "id": "3ec92357",
   "metadata": {},
   "outputs": [],
   "source": [
    "dfNumDois.sort_values(by=['A'])"
   ]
  },
  {
   "cell_type": "code",
   "execution_count": null,
   "id": "44dee9c7",
   "metadata": {},
   "outputs": [],
   "source": [
    "dfNumDois.sort_values(by=['A'], ascending=False)"
   ]
  },
  {
   "cell_type": "markdown",
   "id": "8bed0f6a",
   "metadata": {},
   "source": [
    "# Removendo itens duplicados"
   ]
  },
  {
   "cell_type": "code",
   "execution_count": null,
   "id": "55d23bc6",
   "metadata": {},
   "outputs": [],
   "source": [
    "dadosFrame = {\n",
    "    'nome': ['Barry', 'Kara', 'Clark', 'Barry'],\n",
    "    'idade': [28, 32, 52, 28],\n",
    "    'função': ['Fotografo', 'Secretaria', 'Reporter', 'Fotografo']\n",
    "}\n",
    "\n",
    "df = pd.DataFrame(dadosFrame)\n",
    "df # Imprimindo meu DataFrame"
   ]
  },
  {
   "cell_type": "code",
   "execution_count": null,
   "id": "96fc1f52",
   "metadata": {},
   "outputs": [],
   "source": [
    "# Serve para mostrar o que está duplicado\n",
    "# Saberemos qual é a duplicata, pelo resultado = True\n",
    "df.duplicated()"
   ]
  },
  {
   "cell_type": "code",
   "execution_count": null,
   "id": "0bb03e0d",
   "metadata": {},
   "outputs": [],
   "source": [
    "# Excluindo o dado duplicado - ela elima somente na visualização \n",
    "df.drop_duplicates()"
   ]
  },
  {
   "cell_type": "code",
   "execution_count": null,
   "id": "794c479e",
   "metadata": {},
   "outputs": [],
   "source": [
    "df"
   ]
  },
  {
   "cell_type": "code",
   "execution_count": null,
   "id": "f5bb77a8",
   "metadata": {},
   "outputs": [],
   "source": [
    "# Consulta e exclusao por meio da coluna 'nome'\n",
    "df.drop_duplicates(['nome'])"
   ]
  },
  {
   "cell_type": "code",
   "execution_count": null,
   "id": "3538c3c2",
   "metadata": {},
   "outputs": [],
   "source": [
    "# Apagando a coluna 'Função'\n",
    "df.drop(['função'], axis=1) # axis = 1(Colunas) axis = 0(Linhas)"
   ]
  },
  {
   "cell_type": "code",
   "execution_count": null,
   "id": "bfbc7ac7",
   "metadata": {},
   "outputs": [],
   "source": [
    "df\n"
   ]
  },
  {
   "cell_type": "code",
   "execution_count": null,
   "id": "479ef33d",
   "metadata": {},
   "outputs": [],
   "source": [
    "dadosFrame2 = {\n",
    "    'nome': ['Barry', 'Kara', 'Clark', 'Barry','Clark', 'Barry'],\n",
    "    'idade': [28, 32, 52, 29, 52, 29],\n",
    "    'função': ['Fotografo', 'Secretaria', 'Reporter', 'Fotografo', 'Reporter', 'Fotografo']\n",
    "}\n",
    "\n",
    "df2 = pd.DataFrame(dadosFrame2)\n",
    "df2 # Imprimindo meu DataFrame"
   ]
  },
  {
   "cell_type": "code",
   "execution_count": null,
   "id": "48f83a0d",
   "metadata": {},
   "outputs": [],
   "source": [
    "df2.duplicated()\n",
    "# Verifica se todos os elementos estão repetidos\n",
    "# Nesse exemplo, ele verifica todos os dados e se há repetição"
   ]
  },
  {
   "cell_type": "code",
   "execution_count": null,
   "id": "ea427785",
   "metadata": {},
   "outputs": [],
   "source": [
    "df2.drop_duplicates(['nome'], keep='first')\n",
    "# Mantém o primeiro elemento que está duplicado"
   ]
  },
  {
   "cell_type": "code",
   "execution_count": null,
   "id": "22baa517",
   "metadata": {},
   "outputs": [],
   "source": [
    "df2.drop_duplicates(['nome'], keep='last')\n",
    "# Mantém o último elemento que está duplicado"
   ]
  },
  {
   "cell_type": "code",
   "execution_count": null,
   "id": "c8db4b80",
   "metadata": {},
   "outputs": [],
   "source": [
    "df2"
   ]
  },
  {
   "cell_type": "code",
   "execution_count": null,
   "id": "a6a754fa",
   "metadata": {},
   "outputs": [],
   "source": [
    "df2.drop_duplicates(['nome'], keep=False)\n",
    "# Mantém o elemento que não está duplicado"
   ]
  },
  {
   "cell_type": "code",
   "execution_count": null,
   "id": "59abb90e",
   "metadata": {},
   "outputs": [],
   "source": [
    "df2.drop_duplicates(['nome'])"
   ]
  },
  {
   "cell_type": "code",
   "execution_count": null,
   "id": "02981dc8",
   "metadata": {},
   "outputs": [],
   "source": [
    "df2.drop([0])"
   ]
  },
  {
   "cell_type": "code",
   "execution_count": null,
   "id": "4c3ac9da",
   "metadata": {},
   "outputs": [],
   "source": [
    "df2.drop([3])"
   ]
  },
  {
   "cell_type": "code",
   "execution_count": null,
   "id": "d0a84ecf",
   "metadata": {},
   "outputs": [],
   "source": [
    "dadosFrame = {\n",
    "    'nome': ['Barry', 'Kara', 'Clark'],\n",
    "    'idade': [28, 32, 52],\n",
    "    'função': ['Fotografo', 'Secretaria', 'Reporter']\n",
    "}\n",
    "\n",
    "df3 = pd.DataFrame(dadosFrame, index = ['Flash', 'SuperGirl', 'SuperMan'])\n",
    "df3 # Imprimindo meu DataFrame"
   ]
  },
  {
   "cell_type": "code",
   "execution_count": null,
   "id": "cd9d2f7d",
   "metadata": {},
   "outputs": [],
   "source": [
    "df3.drop(['Flash'])"
   ]
  },
  {
   "cell_type": "code",
   "execution_count": null,
   "id": "0398b4e4",
   "metadata": {},
   "outputs": [],
   "source": [
    "df3"
   ]
  },
  {
   "cell_type": "code",
   "execution_count": null,
   "id": "3957fb53",
   "metadata": {},
   "outputs": [],
   "source": [
    "df3['nome'].count()"
   ]
  },
  {
   "cell_type": "code",
   "execution_count": null,
   "id": "b06a439f",
   "metadata": {},
   "outputs": [],
   "source": [
    "df3['idade'].count()"
   ]
  },
  {
   "cell_type": "code",
   "execution_count": null,
   "id": "d0f8f132",
   "metadata": {},
   "outputs": [],
   "source": [
    "df3['função'].count()"
   ]
  },
  {
   "cell_type": "code",
   "execution_count": null,
   "id": "7f4422a9",
   "metadata": {},
   "outputs": [],
   "source": [
    "df3.count()"
   ]
  },
  {
   "cell_type": "code",
   "execution_count": null,
   "id": "6e8cfe1e",
   "metadata": {},
   "outputs": [],
   "source": [
    "df3[1:2]"
   ]
  },
  {
   "cell_type": "code",
   "execution_count": null,
   "id": "a73fe7fe",
   "metadata": {},
   "outputs": [],
   "source": [
    "df3[-1:] # Mostrando apenas a última linha"
   ]
  },
  {
   "cell_type": "code",
   "execution_count": null,
   "id": "43a7a008",
   "metadata": {},
   "outputs": [],
   "source": [
    "df3[:-1] # Mostrando o df3 sem a última linha"
   ]
  },
  {
   "cell_type": "code",
   "execution_count": null,
   "id": "fde97230",
   "metadata": {
    "pycharm": {
     "name": "#%%\n"
    }
   },
   "outputs": [],
   "source": []
  }
 ],
 "metadata": {
  "kernelspec": {
   "name": "pycharm-4db2f748",
   "language": "python",
   "display_name": "PyCharm (PYTHON)"
  },
  "language_info": {
   "codemirror_mode": {
    "name": "ipython",
    "version": 3
   },
   "file_extension": ".py",
   "mimetype": "text/x-python",
   "name": "python",
   "nbconvert_exporter": "python",
   "pygments_lexer": "ipython3",
   "version": "3.8.8"
  }
 },
 "nbformat": 4,
 "nbformat_minor": 5
}
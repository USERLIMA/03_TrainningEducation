{
 "cells": [
  {
   "cell_type": "markdown",
   "id": "381e98f0",
   "metadata": {},
   "source": [
    "# NYMPY\n",
    "\n",
    "- É uma das principais libs de computação científica.\n",
    "\n",
    "## Numpy Matriz(array)"
   ]
  },
  {
   "cell_type": "code",
   "execution_count": 2,
   "id": "7a20793c",
   "metadata": {},
   "outputs": [],
   "source": [
    "# Importar a lib Numpy\n",
    "import numpy as np\n"
   ]
  },
  {
   "cell_type": "code",
   "execution_count": 3,
   "id": "fc379715",
   "metadata": {},
   "outputs": [
    {
     "name": "stdout",
     "output_type": "stream",
     "text": [
      "[1 2 3 4 5 6 7 8 9]\n",
      "<class 'numpy.ndarray'>\n"
     ]
    }
   ],
   "source": [
    "meusNumeros = np.array([1,2,3,4,5,6,7,8,9])\n",
    "print(meusNumeros)\n",
    "print(type(meusNumeros))"
   ]
  },
  {
   "cell_type": "code",
   "execution_count": 4,
   "id": "c6214882",
   "metadata": {},
   "outputs": [
    {
     "name": "stdout",
     "output_type": "stream",
     "text": [
      "[[1.2 2.  3.6]\n",
      " [5.1 3.  1. ]]\n"
     ]
    }
   ],
   "source": [
    "# Criando uma matriz com números inteiros e flutuantes(Com casas decimais)\n",
    "meusNumerosDois = np.array([\n",
    "    [1.2, 2, 3.6],\n",
    "    [5.1, 3, 1]\n",
    "])\n",
    "\n",
    "print(meusNumerosDois)"
   ]
  },
  {
   "cell_type": "code",
   "execution_count": 5,
   "id": "d2fa4157",
   "metadata": {},
   "outputs": [
    {
     "name": "stdout",
     "output_type": "stream",
     "text": [
      "[[0. 0. 0. 0. 0.]\n",
      " [0. 0. 0. 0. 0.]\n",
      " [0. 0. 0. 0. 0.]\n",
      " [0. 0. 0. 0. 0.]\n",
      " [0. 0. 0. 0. 0.]]\n"
     ]
    }
   ],
   "source": [
    "# Criando Matrizes com 0s e 1s\n",
    "\n",
    "zeros = np.zeros((5, 5))\n",
    "print(zeros)"
   ]
  },
  {
   "cell_type": "code",
   "execution_count": 6,
   "id": "50cfaae4",
   "metadata": {},
   "outputs": [
    {
     "name": "stdout",
     "output_type": "stream",
     "text": [
      "[[1. 1. 1. 1. 1.]\n",
      " [1. 1. 1. 1. 1.]\n",
      " [1. 1. 1. 1. 1.]\n",
      " [1. 1. 1. 1. 1.]\n",
      " [1. 1. 1. 1. 1.]]\n"
     ]
    }
   ],
   "source": [
    "ones = np.ones((5,5))\n",
    "print(ones)"
   ]
  },
  {
   "cell_type": "markdown",
   "id": "6f164a9c",
   "metadata": {},
   "source": [
    "*texto em itálico*### Arange e Shape"
   ]
  },
  {
   "cell_type": "code",
   "execution_count": 7,
   "id": "c35d82d8",
   "metadata": {},
   "outputs": [
    {
     "name": "stdout",
     "output_type": "stream",
     "text": [
      "[0 1 2 3 4 5 6 7 8]\n"
     ]
    }
   ],
   "source": [
    "# Arange vai criar uma listagem no intervalo indicado\n",
    "# Nesse caso, do 0 até o 8\n",
    "meusDados = np.arange(9)\n",
    "print(meusDados)"
   ]
  },
  {
   "cell_type": "code",
   "execution_count": 8,
   "id": "74820ec0",
   "metadata": {},
   "outputs": [
    {
     "name": "stdout",
     "output_type": "stream",
     "text": [
      "[[0 1 2]\n",
      " [3 4 5]\n",
      " [6 7 8]]\n"
     ]
    }
   ],
   "source": [
    "# Reshape vai mudar o formato da minha matriz.\n",
    "# Nesse exemplo, mudados para uma Matriz bidimensional de 3 linhas x 3 colunas\n",
    "meusDados = np.arange(9).reshape(3,3)\n",
    "print(meusDados)"
   ]
  },
  {
   "cell_type": "markdown",
   "id": "72012f75",
   "metadata": {},
   "source": [
    "# Fatiando(Slicing) de uma Matriz"
   ]
  },
  {
   "cell_type": "code",
   "execution_count": 9,
   "id": "27fb4480",
   "metadata": {},
   "outputs": [
    {
     "name": "stdout",
     "output_type": "stream",
     "text": [
      "[1 2 3 4 5 6 7 8 9]\n"
     ]
    }
   ],
   "source": [
    "numbers = np.array([1,2,3,4,5,6,7,8,9])\n",
    "print(numbers)"
   ]
  },
  {
   "cell_type": "code",
   "execution_count": 10,
   "id": "8a64012c",
   "metadata": {},
   "outputs": [
    {
     "name": "stdout",
     "output_type": "stream",
     "text": [
      "[3 4 5]\n"
     ]
    }
   ],
   "source": [
    "print(numbers[2:5])"
   ]
  },
  {
   "cell_type": "code",
   "execution_count": 11,
   "id": "67c548ff",
   "metadata": {},
   "outputs": [
    {
     "name": "stdout",
     "output_type": "stream",
     "text": [
      "[1 2 3 4]\n"
     ]
    }
   ],
   "source": [
    "print(numbers[:-5])"
   ]
  },
  {
   "cell_type": "code",
   "execution_count": 12,
   "id": "c1e1a7ad",
   "metadata": {},
   "outputs": [
    {
     "name": "stdout",
     "output_type": "stream",
     "text": [
      "[6 7 8 9]\n"
     ]
    }
   ],
   "source": [
    "print(numbers[5:])"
   ]
  },
  {
   "cell_type": "code",
   "execution_count": 13,
   "id": "8abccf19",
   "metadata": {},
   "outputs": [
    {
     "name": "stdout",
     "output_type": "stream",
     "text": [
      "[9 8 7 6 5 4 3 2 1]\n"
     ]
    }
   ],
   "source": [
    "print(numbers[::-1])"
   ]
  },
  {
   "cell_type": "code",
   "execution_count": 14,
   "id": "188a16ca",
   "metadata": {},
   "outputs": [
    {
     "name": "stdout",
     "output_type": "stream",
     "text": [
      "[9 7 5 3 1]\n"
     ]
    }
   ],
   "source": [
    "print(numbers[::-2])"
   ]
  },
  {
   "cell_type": "code",
   "execution_count": 15,
   "id": "7e5262c1",
   "metadata": {
    "pycharm": {
     "name": "#%%\n"
    }
   },
   "outputs": [
    {
     "name": "stdout",
     "output_type": "stream",
     "text": [
      "[9 6 3]\n"
     ]
    }
   ],
   "source": [
    "print(numbers[::-3])\n"
   ]
  },
  {
   "cell_type": "code",
   "execution_count": null,
   "id": "bc88092d",
   "metadata": {},
   "outputs": [],
   "source": []
  },
  {
   "cell_type": "code",
   "execution_count": null,
   "id": "fd31fbcc",
   "metadata": {},
   "outputs": [],
   "source": []
  }
 ],
 "metadata": {
  "interpreter": {
   "hash": "bb166f3cd29b3f23c37b3699564da4619ac849262f53374cae94813f16c2d22a"
  },
  "kernelspec": {
   "display_name": "PyCharm (PYTHON)",
   "language": "python",
   "name": "python3"
  },
  "language_info": {
   "codemirror_mode": {
    "name": "ipython",
    "version": 3
   },
   "file_extension": ".py",
   "mimetype": "text/x-python",
   "name": "python",
   "nbconvert_exporter": "python",
   "pygments_lexer": "ipython3",
   "version": "3.9.9"
  }
 },
 "nbformat": 4,
 "nbformat_minor": 5
}

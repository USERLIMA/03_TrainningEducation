{
 "cells": [
  {
   "cell_type": "markdown",
   "source": [
    "## Matriz de Correlação\r\n",
    "\r\n",
    "Uma matriz de correlação é um dado tabular que representa as \"correlações\" entre pares de variáveis de um dado.\r\n",
    "\r\n",
    "Cada linha e coluna representa uma variável e cada valor nesta matriz é o coeficiente de correlação entre as varáveis apresentadas.\r\n",
    "\r\n",
    "É uma importante métrica de análise de dados que é calculada para resumoir os dados para entender a relação entre várias variáveis e assim tomar as devidas decisões.\r\n",
    "\r\n",
    "É também uma etapa de pré-processamento importante em pipelines de aprendizado de máquina, para calcular e analisar a matriz de correlação onde a redução da dimensionalidade é desejada em dados de alta dimensão."
   ],
   "metadata": {}
  },
  {
   "cell_type": "code",
   "execution_count": 1,
   "source": [
    "import numpy as np"
   ],
   "outputs": [],
   "metadata": {}
  },
  {
   "cell_type": "code",
   "execution_count": 4,
   "source": [
    "np.random.seed(10)"
   ],
   "outputs": [],
   "metadata": {}
  },
  {
   "cell_type": "code",
   "execution_count": 5,
   "source": [
    "# Criando as variáveis e armazenando os dados\r\n",
    "x = np.random.randn(10)\r\n",
    "y = np.random.randn(10)"
   ],
   "outputs": [],
   "metadata": {}
  },
  {
   "cell_type": "code",
   "execution_count": 6,
   "source": [
    "print(x)"
   ],
   "outputs": [
    {
     "output_type": "stream",
     "name": "stdout",
     "text": [
      "[ 1.3315865   0.71527897 -1.54540029 -0.00838385  0.62133597 -0.72008556\n",
      "  0.26551159  0.10854853  0.00429143 -0.17460021]\n"
     ]
    }
   ],
   "metadata": {}
  },
  {
   "cell_type": "code",
   "execution_count": 7,
   "source": [
    "print(y)"
   ],
   "outputs": [
    {
     "output_type": "stream",
     "name": "stdout",
     "text": [
      "[ 0.43302619  1.20303737 -0.96506567  1.02827408  0.22863013  0.44513761\n",
      " -1.13660221  0.13513688  1.484537   -1.07980489]\n"
     ]
    }
   ],
   "metadata": {}
  },
  {
   "cell_type": "code",
   "execution_count": 8,
   "source": [
    "c = np.corrcoef(x, y)"
   ],
   "outputs": [],
   "metadata": {}
  },
  {
   "cell_type": "code",
   "execution_count": 9,
   "source": [
    "print(c)"
   ],
   "outputs": [
    {
     "output_type": "stream",
     "name": "stdout",
     "text": [
      "[[1.         0.37258014]\n",
      " [0.37258014 1.        ]]\n"
     ]
    }
   ],
   "metadata": {}
  },
  {
   "cell_type": "markdown",
   "source": [
    "O método corrcoef tem uma certa limitação para se criar uma correlação confiável.\r\n",
    "\r\n",
    "O melhor é utilizarmos o Pandas para trabalhar de uma forma mais completa.\r\n",
    "\r\n",
    "# Efetuando a correlação com o Pandas"
   ],
   "metadata": {}
  },
  {
   "cell_type": "code",
   "execution_count": 10,
   "source": [
    "# Import libs\r\n",
    "# SKLearn = Lib Scikitlearn utilizada para Machine Learning\r\n",
    "# Dataset é uma sublib da Scikitlearn\r\n",
    "# load_breast_cancer = conjunto de dados sobre câncer de mama\r\n",
    "from sklearn.datasets import load_breast_cancer\r\n",
    "import pandas as pd\r\n",
    "import seaborn as sns\r\n",
    "import matplotlib.pyplot as plt"
   ],
   "outputs": [],
   "metadata": {}
  },
  {
   "cell_type": "code",
   "execution_count": 11,
   "source": [
    "# Carregando o conjunto de dados\r\n",
    "breast_cancer = load_breast_cancer() "
   ],
   "outputs": [],
   "metadata": {}
  },
  {
   "cell_type": "code",
   "execution_count": 12,
   "source": [
    "# Acessa as informações no breast_cancer e copia os dados\r\n",
    "data = breast_cancer.data\r\n",
    "# data = dados"
   ],
   "outputs": [],
   "metadata": {}
  },
  {
   "cell_type": "code",
   "execution_count": 13,
   "source": [
    "# Acessando o conjunto de infos e pegando os nomes das colunas\r\n",
    "features = breast_cancer.feature_names"
   ],
   "outputs": [],
   "metadata": {}
  },
  {
   "cell_type": "code",
   "execution_count": 14,
   "source": [
    "# Convertendo para Pandas DataFrame\r\n",
    "# pd.DataFrame(conjunto de dados, colunas)\r\n",
    "df = pd.DataFrame(data, columns = features)"
   ],
   "outputs": [],
   "metadata": {}
  },
  {
   "cell_type": "code",
   "execution_count": 15,
   "source": [
    "print(df.shape)"
   ],
   "outputs": [
    {
     "output_type": "stream",
     "name": "stdout",
     "text": [
      "(569, 30)\n"
     ]
    }
   ],
   "metadata": {}
  },
  {
   "cell_type": "code",
   "execution_count": 16,
   "source": [
    "print(features)"
   ],
   "outputs": [
    {
     "output_type": "stream",
     "name": "stdout",
     "text": [
      "['mean radius' 'mean texture' 'mean perimeter' 'mean area'\n",
      " 'mean smoothness' 'mean compactness' 'mean concavity'\n",
      " 'mean concave points' 'mean symmetry' 'mean fractal dimension'\n",
      " 'radius error' 'texture error' 'perimeter error' 'area error'\n",
      " 'smoothness error' 'compactness error' 'concavity error'\n",
      " 'concave points error' 'symmetry error' 'fractal dimension error'\n",
      " 'worst radius' 'worst texture' 'worst perimeter' 'worst area'\n",
      " 'worst smoothness' 'worst compactness' 'worst concavity'\n",
      " 'worst concave points' 'worst symmetry' 'worst fractal dimension']\n"
     ]
    }
   ],
   "metadata": {}
  },
  {
   "cell_type": "code",
   "execution_count": 17,
   "source": [
    "df"
   ],
   "outputs": [
    {
     "output_type": "execute_result",
     "data": {
      "text/html": [
       "<div>\n",
       "<style scoped>\n",
       "    .dataframe tbody tr th:only-of-type {\n",
       "        vertical-align: middle;\n",
       "    }\n",
       "\n",
       "    .dataframe tbody tr th {\n",
       "        vertical-align: top;\n",
       "    }\n",
       "\n",
       "    .dataframe thead th {\n",
       "        text-align: right;\n",
       "    }\n",
       "</style>\n",
       "<table border=\"1\" class=\"dataframe\">\n",
       "  <thead>\n",
       "    <tr style=\"text-align: right;\">\n",
       "      <th></th>\n",
       "      <th>mean radius</th>\n",
       "      <th>mean texture</th>\n",
       "      <th>mean perimeter</th>\n",
       "      <th>mean area</th>\n",
       "      <th>mean smoothness</th>\n",
       "      <th>mean compactness</th>\n",
       "      <th>mean concavity</th>\n",
       "      <th>mean concave points</th>\n",
       "      <th>mean symmetry</th>\n",
       "      <th>mean fractal dimension</th>\n",
       "      <th>...</th>\n",
       "      <th>worst radius</th>\n",
       "      <th>worst texture</th>\n",
       "      <th>worst perimeter</th>\n",
       "      <th>worst area</th>\n",
       "      <th>worst smoothness</th>\n",
       "      <th>worst compactness</th>\n",
       "      <th>worst concavity</th>\n",
       "      <th>worst concave points</th>\n",
       "      <th>worst symmetry</th>\n",
       "      <th>worst fractal dimension</th>\n",
       "    </tr>\n",
       "  </thead>\n",
       "  <tbody>\n",
       "    <tr>\n",
       "      <th>0</th>\n",
       "      <td>17.99</td>\n",
       "      <td>10.38</td>\n",
       "      <td>122.80</td>\n",
       "      <td>1001.0</td>\n",
       "      <td>0.11840</td>\n",
       "      <td>0.27760</td>\n",
       "      <td>0.30010</td>\n",
       "      <td>0.14710</td>\n",
       "      <td>0.2419</td>\n",
       "      <td>0.07871</td>\n",
       "      <td>...</td>\n",
       "      <td>25.380</td>\n",
       "      <td>17.33</td>\n",
       "      <td>184.60</td>\n",
       "      <td>2019.0</td>\n",
       "      <td>0.16220</td>\n",
       "      <td>0.66560</td>\n",
       "      <td>0.7119</td>\n",
       "      <td>0.2654</td>\n",
       "      <td>0.4601</td>\n",
       "      <td>0.11890</td>\n",
       "    </tr>\n",
       "    <tr>\n",
       "      <th>1</th>\n",
       "      <td>20.57</td>\n",
       "      <td>17.77</td>\n",
       "      <td>132.90</td>\n",
       "      <td>1326.0</td>\n",
       "      <td>0.08474</td>\n",
       "      <td>0.07864</td>\n",
       "      <td>0.08690</td>\n",
       "      <td>0.07017</td>\n",
       "      <td>0.1812</td>\n",
       "      <td>0.05667</td>\n",
       "      <td>...</td>\n",
       "      <td>24.990</td>\n",
       "      <td>23.41</td>\n",
       "      <td>158.80</td>\n",
       "      <td>1956.0</td>\n",
       "      <td>0.12380</td>\n",
       "      <td>0.18660</td>\n",
       "      <td>0.2416</td>\n",
       "      <td>0.1860</td>\n",
       "      <td>0.2750</td>\n",
       "      <td>0.08902</td>\n",
       "    </tr>\n",
       "    <tr>\n",
       "      <th>2</th>\n",
       "      <td>19.69</td>\n",
       "      <td>21.25</td>\n",
       "      <td>130.00</td>\n",
       "      <td>1203.0</td>\n",
       "      <td>0.10960</td>\n",
       "      <td>0.15990</td>\n",
       "      <td>0.19740</td>\n",
       "      <td>0.12790</td>\n",
       "      <td>0.2069</td>\n",
       "      <td>0.05999</td>\n",
       "      <td>...</td>\n",
       "      <td>23.570</td>\n",
       "      <td>25.53</td>\n",
       "      <td>152.50</td>\n",
       "      <td>1709.0</td>\n",
       "      <td>0.14440</td>\n",
       "      <td>0.42450</td>\n",
       "      <td>0.4504</td>\n",
       "      <td>0.2430</td>\n",
       "      <td>0.3613</td>\n",
       "      <td>0.08758</td>\n",
       "    </tr>\n",
       "    <tr>\n",
       "      <th>3</th>\n",
       "      <td>11.42</td>\n",
       "      <td>20.38</td>\n",
       "      <td>77.58</td>\n",
       "      <td>386.1</td>\n",
       "      <td>0.14250</td>\n",
       "      <td>0.28390</td>\n",
       "      <td>0.24140</td>\n",
       "      <td>0.10520</td>\n",
       "      <td>0.2597</td>\n",
       "      <td>0.09744</td>\n",
       "      <td>...</td>\n",
       "      <td>14.910</td>\n",
       "      <td>26.50</td>\n",
       "      <td>98.87</td>\n",
       "      <td>567.7</td>\n",
       "      <td>0.20980</td>\n",
       "      <td>0.86630</td>\n",
       "      <td>0.6869</td>\n",
       "      <td>0.2575</td>\n",
       "      <td>0.6638</td>\n",
       "      <td>0.17300</td>\n",
       "    </tr>\n",
       "    <tr>\n",
       "      <th>4</th>\n",
       "      <td>20.29</td>\n",
       "      <td>14.34</td>\n",
       "      <td>135.10</td>\n",
       "      <td>1297.0</td>\n",
       "      <td>0.10030</td>\n",
       "      <td>0.13280</td>\n",
       "      <td>0.19800</td>\n",
       "      <td>0.10430</td>\n",
       "      <td>0.1809</td>\n",
       "      <td>0.05883</td>\n",
       "      <td>...</td>\n",
       "      <td>22.540</td>\n",
       "      <td>16.67</td>\n",
       "      <td>152.20</td>\n",
       "      <td>1575.0</td>\n",
       "      <td>0.13740</td>\n",
       "      <td>0.20500</td>\n",
       "      <td>0.4000</td>\n",
       "      <td>0.1625</td>\n",
       "      <td>0.2364</td>\n",
       "      <td>0.07678</td>\n",
       "    </tr>\n",
       "    <tr>\n",
       "      <th>...</th>\n",
       "      <td>...</td>\n",
       "      <td>...</td>\n",
       "      <td>...</td>\n",
       "      <td>...</td>\n",
       "      <td>...</td>\n",
       "      <td>...</td>\n",
       "      <td>...</td>\n",
       "      <td>...</td>\n",
       "      <td>...</td>\n",
       "      <td>...</td>\n",
       "      <td>...</td>\n",
       "      <td>...</td>\n",
       "      <td>...</td>\n",
       "      <td>...</td>\n",
       "      <td>...</td>\n",
       "      <td>...</td>\n",
       "      <td>...</td>\n",
       "      <td>...</td>\n",
       "      <td>...</td>\n",
       "      <td>...</td>\n",
       "      <td>...</td>\n",
       "    </tr>\n",
       "    <tr>\n",
       "      <th>564</th>\n",
       "      <td>21.56</td>\n",
       "      <td>22.39</td>\n",
       "      <td>142.00</td>\n",
       "      <td>1479.0</td>\n",
       "      <td>0.11100</td>\n",
       "      <td>0.11590</td>\n",
       "      <td>0.24390</td>\n",
       "      <td>0.13890</td>\n",
       "      <td>0.1726</td>\n",
       "      <td>0.05623</td>\n",
       "      <td>...</td>\n",
       "      <td>25.450</td>\n",
       "      <td>26.40</td>\n",
       "      <td>166.10</td>\n",
       "      <td>2027.0</td>\n",
       "      <td>0.14100</td>\n",
       "      <td>0.21130</td>\n",
       "      <td>0.4107</td>\n",
       "      <td>0.2216</td>\n",
       "      <td>0.2060</td>\n",
       "      <td>0.07115</td>\n",
       "    </tr>\n",
       "    <tr>\n",
       "      <th>565</th>\n",
       "      <td>20.13</td>\n",
       "      <td>28.25</td>\n",
       "      <td>131.20</td>\n",
       "      <td>1261.0</td>\n",
       "      <td>0.09780</td>\n",
       "      <td>0.10340</td>\n",
       "      <td>0.14400</td>\n",
       "      <td>0.09791</td>\n",
       "      <td>0.1752</td>\n",
       "      <td>0.05533</td>\n",
       "      <td>...</td>\n",
       "      <td>23.690</td>\n",
       "      <td>38.25</td>\n",
       "      <td>155.00</td>\n",
       "      <td>1731.0</td>\n",
       "      <td>0.11660</td>\n",
       "      <td>0.19220</td>\n",
       "      <td>0.3215</td>\n",
       "      <td>0.1628</td>\n",
       "      <td>0.2572</td>\n",
       "      <td>0.06637</td>\n",
       "    </tr>\n",
       "    <tr>\n",
       "      <th>566</th>\n",
       "      <td>16.60</td>\n",
       "      <td>28.08</td>\n",
       "      <td>108.30</td>\n",
       "      <td>858.1</td>\n",
       "      <td>0.08455</td>\n",
       "      <td>0.10230</td>\n",
       "      <td>0.09251</td>\n",
       "      <td>0.05302</td>\n",
       "      <td>0.1590</td>\n",
       "      <td>0.05648</td>\n",
       "      <td>...</td>\n",
       "      <td>18.980</td>\n",
       "      <td>34.12</td>\n",
       "      <td>126.70</td>\n",
       "      <td>1124.0</td>\n",
       "      <td>0.11390</td>\n",
       "      <td>0.30940</td>\n",
       "      <td>0.3403</td>\n",
       "      <td>0.1418</td>\n",
       "      <td>0.2218</td>\n",
       "      <td>0.07820</td>\n",
       "    </tr>\n",
       "    <tr>\n",
       "      <th>567</th>\n",
       "      <td>20.60</td>\n",
       "      <td>29.33</td>\n",
       "      <td>140.10</td>\n",
       "      <td>1265.0</td>\n",
       "      <td>0.11780</td>\n",
       "      <td>0.27700</td>\n",
       "      <td>0.35140</td>\n",
       "      <td>0.15200</td>\n",
       "      <td>0.2397</td>\n",
       "      <td>0.07016</td>\n",
       "      <td>...</td>\n",
       "      <td>25.740</td>\n",
       "      <td>39.42</td>\n",
       "      <td>184.60</td>\n",
       "      <td>1821.0</td>\n",
       "      <td>0.16500</td>\n",
       "      <td>0.86810</td>\n",
       "      <td>0.9387</td>\n",
       "      <td>0.2650</td>\n",
       "      <td>0.4087</td>\n",
       "      <td>0.12400</td>\n",
       "    </tr>\n",
       "    <tr>\n",
       "      <th>568</th>\n",
       "      <td>7.76</td>\n",
       "      <td>24.54</td>\n",
       "      <td>47.92</td>\n",
       "      <td>181.0</td>\n",
       "      <td>0.05263</td>\n",
       "      <td>0.04362</td>\n",
       "      <td>0.00000</td>\n",
       "      <td>0.00000</td>\n",
       "      <td>0.1587</td>\n",
       "      <td>0.05884</td>\n",
       "      <td>...</td>\n",
       "      <td>9.456</td>\n",
       "      <td>30.37</td>\n",
       "      <td>59.16</td>\n",
       "      <td>268.6</td>\n",
       "      <td>0.08996</td>\n",
       "      <td>0.06444</td>\n",
       "      <td>0.0000</td>\n",
       "      <td>0.0000</td>\n",
       "      <td>0.2871</td>\n",
       "      <td>0.07039</td>\n",
       "    </tr>\n",
       "  </tbody>\n",
       "</table>\n",
       "<p>569 rows × 30 columns</p>\n",
       "</div>"
      ],
      "text/plain": [
       "     mean radius  mean texture  mean perimeter  mean area  mean smoothness  \\\n",
       "0          17.99         10.38          122.80     1001.0          0.11840   \n",
       "1          20.57         17.77          132.90     1326.0          0.08474   \n",
       "2          19.69         21.25          130.00     1203.0          0.10960   \n",
       "3          11.42         20.38           77.58      386.1          0.14250   \n",
       "4          20.29         14.34          135.10     1297.0          0.10030   \n",
       "..           ...           ...             ...        ...              ...   \n",
       "564        21.56         22.39          142.00     1479.0          0.11100   \n",
       "565        20.13         28.25          131.20     1261.0          0.09780   \n",
       "566        16.60         28.08          108.30      858.1          0.08455   \n",
       "567        20.60         29.33          140.10     1265.0          0.11780   \n",
       "568         7.76         24.54           47.92      181.0          0.05263   \n",
       "\n",
       "     mean compactness  mean concavity  mean concave points  mean symmetry  \\\n",
       "0             0.27760         0.30010              0.14710         0.2419   \n",
       "1             0.07864         0.08690              0.07017         0.1812   \n",
       "2             0.15990         0.19740              0.12790         0.2069   \n",
       "3             0.28390         0.24140              0.10520         0.2597   \n",
       "4             0.13280         0.19800              0.10430         0.1809   \n",
       "..                ...             ...                  ...            ...   \n",
       "564           0.11590         0.24390              0.13890         0.1726   \n",
       "565           0.10340         0.14400              0.09791         0.1752   \n",
       "566           0.10230         0.09251              0.05302         0.1590   \n",
       "567           0.27700         0.35140              0.15200         0.2397   \n",
       "568           0.04362         0.00000              0.00000         0.1587   \n",
       "\n",
       "     mean fractal dimension  ...  worst radius  worst texture  \\\n",
       "0                   0.07871  ...        25.380          17.33   \n",
       "1                   0.05667  ...        24.990          23.41   \n",
       "2                   0.05999  ...        23.570          25.53   \n",
       "3                   0.09744  ...        14.910          26.50   \n",
       "4                   0.05883  ...        22.540          16.67   \n",
       "..                      ...  ...           ...            ...   \n",
       "564                 0.05623  ...        25.450          26.40   \n",
       "565                 0.05533  ...        23.690          38.25   \n",
       "566                 0.05648  ...        18.980          34.12   \n",
       "567                 0.07016  ...        25.740          39.42   \n",
       "568                 0.05884  ...         9.456          30.37   \n",
       "\n",
       "     worst perimeter  worst area  worst smoothness  worst compactness  \\\n",
       "0             184.60      2019.0           0.16220            0.66560   \n",
       "1             158.80      1956.0           0.12380            0.18660   \n",
       "2             152.50      1709.0           0.14440            0.42450   \n",
       "3              98.87       567.7           0.20980            0.86630   \n",
       "4             152.20      1575.0           0.13740            0.20500   \n",
       "..               ...         ...               ...                ...   \n",
       "564           166.10      2027.0           0.14100            0.21130   \n",
       "565           155.00      1731.0           0.11660            0.19220   \n",
       "566           126.70      1124.0           0.11390            0.30940   \n",
       "567           184.60      1821.0           0.16500            0.86810   \n",
       "568            59.16       268.6           0.08996            0.06444   \n",
       "\n",
       "     worst concavity  worst concave points  worst symmetry  \\\n",
       "0             0.7119                0.2654          0.4601   \n",
       "1             0.2416                0.1860          0.2750   \n",
       "2             0.4504                0.2430          0.3613   \n",
       "3             0.6869                0.2575          0.6638   \n",
       "4             0.4000                0.1625          0.2364   \n",
       "..               ...                   ...             ...   \n",
       "564           0.4107                0.2216          0.2060   \n",
       "565           0.3215                0.1628          0.2572   \n",
       "566           0.3403                0.1418          0.2218   \n",
       "567           0.9387                0.2650          0.4087   \n",
       "568           0.0000                0.0000          0.2871   \n",
       "\n",
       "     worst fractal dimension  \n",
       "0                    0.11890  \n",
       "1                    0.08902  \n",
       "2                    0.08758  \n",
       "3                    0.17300  \n",
       "4                    0.07678  \n",
       "..                       ...  \n",
       "564                  0.07115  \n",
       "565                  0.06637  \n",
       "566                  0.07820  \n",
       "567                  0.12400  \n",
       "568                  0.07039  \n",
       "\n",
       "[569 rows x 30 columns]"
      ]
     },
     "metadata": {},
     "execution_count": 17
    }
   ],
   "metadata": {}
  },
  {
   "cell_type": "code",
   "execution_count": 19,
   "source": [
    "# Criando um DataFrame menor(small) e armazenando todas as linhas e apenas\r\n",
    "# as 6 primeiras colunas\r\n",
    "df_small = df.iloc[:,:6]"
   ],
   "outputs": [],
   "metadata": {}
  },
  {
   "cell_type": "code",
   "execution_count": 20,
   "source": [
    "# Criar os dados para Correlação\r\n",
    "correlation_mat = df_small.corr()"
   ],
   "outputs": [],
   "metadata": {}
  },
  {
   "cell_type": "code",
   "execution_count": 23,
   "source": [
    "# Criar nosso HeatMap(Mapa de Calor)\r\n",
    "sns.heatmap(correlation_mat, annot = True)"
   ],
   "outputs": [
    {
     "output_type": "execute_result",
     "data": {
      "text/plain": [
       "<AxesSubplot:>"
      ]
     },
     "metadata": {},
     "execution_count": 23
    },
    {
     "output_type": "display_data",
     "data": {
      "image/png": "[encoded data removed]",
      "text/plain": [
       "<Figure size 432x288 with 2 Axes>"
      ]
     },
     "metadata": {
      "needs_background": "light"
     }
    }
   ],
   "metadata": {}
  },
  {
   "cell_type": "code",
   "execution_count": 32,
   "source": [
    "# Classificação da Matriz\r\n",
    "\r\n",
    "correlation_mat = df_small.corr()\r\n",
    "corr_pairs = correlation_mat.unstack()\r\n",
    "print(corr_pairs)\r\n",
    "\r\n",
    "# O método unstack do pandas DF retorna uma série com multindex, ou seja, cada valor da série é apresentado por mais de um índice\r\n",
    "# Neste caso são os índices de linha e coluna que são nomes dos recursos."
   ],
   "outputs": [
    {
     "output_type": "stream",
     "name": "stdout",
     "text": [
      "mean radius       mean radius         1.000000\n",
      "                  mean texture        0.323782\n",
      "                  mean perimeter      0.997855\n",
      "                  mean area           0.987357\n",
      "                  mean smoothness     0.170581\n",
      "                  mean compactness    0.506124\n",
      "mean texture      mean radius         0.323782\n",
      "                  mean texture        1.000000\n",
      "                  mean perimeter      0.329533\n",
      "                  mean area           0.321086\n",
      "                  mean smoothness    -0.023389\n",
      "                  mean compactness    0.236702\n",
      "mean perimeter    mean radius         0.997855\n",
      "                  mean texture        0.329533\n",
      "                  mean perimeter      1.000000\n",
      "                  mean area           0.986507\n",
      "                  mean smoothness     0.207278\n",
      "                  mean compactness    0.556936\n",
      "mean area         mean radius         0.987357\n",
      "                  mean texture        0.321086\n",
      "                  mean perimeter      0.986507\n",
      "                  mean area           1.000000\n",
      "                  mean smoothness     0.177028\n",
      "                  mean compactness    0.498502\n",
      "mean smoothness   mean radius         0.170581\n",
      "                  mean texture       -0.023389\n",
      "                  mean perimeter      0.207278\n",
      "                  mean area           0.177028\n",
      "                  mean smoothness     1.000000\n",
      "                  mean compactness    0.659123\n",
      "mean compactness  mean radius         0.506124\n",
      "                  mean texture        0.236702\n",
      "                  mean perimeter      0.556936\n",
      "                  mean area           0.498502\n",
      "                  mean smoothness     0.659123\n",
      "                  mean compactness    1.000000\n",
      "dtype: float64\n"
     ]
    }
   ],
   "metadata": {}
  },
  {
   "cell_type": "code",
   "execution_count": 24,
   "source": [
    "# Adicionando Título\r\n",
    "sns.heatmap(correlation_mat, annot = True)\r\n",
    "\r\n",
    "plt.title(\"Matriz de Correlação de Câncer de Mama\")\r\n",
    "plt.xlabel(\"Características do Núcleo da Célula\")\r\n",
    "plt.ylabel(\"Características do Núcleo da Célula\")\r\n",
    "plt.show()"
   ],
   "outputs": [
    {
     "output_type": "display_data",
     "data": {
      "image/png": "[encoded data removed]",
      "text/plain": [
       "<Figure size 432x288 with 2 Axes>"
      ]
     },
     "metadata": {
      "needs_background": "light"
     }
    }
   ],
   "metadata": {}
  },
  {
   "cell_type": "code",
   "execution_count": 25,
   "source": [
    "# Classificação da Matriz\r\n",
    "correlation_mat = df_small.corr()\r\n",
    "corr_pairs = correlation_mat.unstack()\r\n",
    "print(corr_pairs)\r\n",
    "\r\n",
    "# O método unstack do Pandas DF retorna uma série com Multindex\r\n",
    "# ou seja, cada valor na série é apresentado por amis de um índice\r\n",
    "# que neste caso são os índices de linha e coluna que são os nomes dos recursos."
   ],
   "outputs": [
    {
     "output_type": "stream",
     "name": "stdout",
     "text": [
      "mean radius       mean radius         1.000000\n",
      "                  mean texture        0.323782\n",
      "                  mean perimeter      0.997855\n",
      "                  mean area           0.987357\n",
      "                  mean smoothness     0.170581\n",
      "                  mean compactness    0.506124\n",
      "mean texture      mean radius         0.323782\n",
      "                  mean texture        1.000000\n",
      "                  mean perimeter      0.329533\n",
      "                  mean area           0.321086\n",
      "                  mean smoothness    -0.023389\n",
      "                  mean compactness    0.236702\n",
      "mean perimeter    mean radius         0.997855\n",
      "                  mean texture        0.329533\n",
      "                  mean perimeter      1.000000\n",
      "                  mean area           0.986507\n",
      "                  mean smoothness     0.207278\n",
      "                  mean compactness    0.556936\n",
      "mean area         mean radius         0.987357\n",
      "                  mean texture        0.321086\n",
      "                  mean perimeter      0.986507\n",
      "                  mean area           1.000000\n",
      "                  mean smoothness     0.177028\n",
      "                  mean compactness    0.498502\n",
      "mean smoothness   mean radius         0.170581\n",
      "                  mean texture       -0.023389\n",
      "                  mean perimeter      0.207278\n",
      "                  mean area           0.177028\n",
      "                  mean smoothness     1.000000\n",
      "                  mean compactness    0.659123\n",
      "mean compactness  mean radius         0.506124\n",
      "                  mean texture        0.236702\n",
      "                  mean perimeter      0.556936\n",
      "                  mean area           0.498502\n",
      "                  mean smoothness     0.659123\n",
      "                  mean compactness    1.000000\n",
      "dtype: float64\n"
     ]
    }
   ],
   "metadata": {}
  },
  {
   "cell_type": "code",
   "execution_count": 26,
   "source": [
    "sorted_pairs = corr_pairs.sort_values(kind=\"quicksort\")\r\n",
    "print(sorted_pairs)"
   ],
   "outputs": [
    {
     "output_type": "stream",
     "name": "stdout",
     "text": [
      "mean texture      mean smoothness    -0.023389\n",
      "mean smoothness   mean texture       -0.023389\n",
      "mean radius       mean smoothness     0.170581\n",
      "mean smoothness   mean radius         0.170581\n",
      "mean area         mean smoothness     0.177028\n",
      "mean smoothness   mean area           0.177028\n",
      "                  mean perimeter      0.207278\n",
      "mean perimeter    mean smoothness     0.207278\n",
      "mean texture      mean compactness    0.236702\n",
      "mean compactness  mean texture        0.236702\n",
      "mean area         mean texture        0.321086\n",
      "mean texture      mean area           0.321086\n",
      "                  mean radius         0.323782\n",
      "mean radius       mean texture        0.323782\n",
      "mean texture      mean perimeter      0.329533\n",
      "mean perimeter    mean texture        0.329533\n",
      "mean compactness  mean area           0.498502\n",
      "mean area         mean compactness    0.498502\n",
      "mean compactness  mean radius         0.506124\n",
      "mean radius       mean compactness    0.506124\n",
      "mean perimeter    mean compactness    0.556936\n",
      "mean compactness  mean perimeter      0.556936\n",
      "                  mean smoothness     0.659123\n",
      "mean smoothness   mean compactness    0.659123\n",
      "mean perimeter    mean area           0.986507\n",
      "mean area         mean perimeter      0.986507\n",
      "                  mean radius         0.987357\n",
      "mean radius       mean area           0.987357\n",
      "mean perimeter    mean radius         0.997855\n",
      "mean radius       mean perimeter      0.997855\n",
      "                  mean radius         1.000000\n",
      "mean area         mean area           1.000000\n",
      "mean perimeter    mean perimeter      1.000000\n",
      "mean texture      mean texture        1.000000\n",
      "mean smoothness   mean smoothness     1.000000\n",
      "mean compactness  mean compactness    1.000000\n",
      "dtype: float64\n"
     ]
    }
   ],
   "metadata": {}
  },
  {
   "cell_type": "code",
   "execution_count": 27,
   "source": [
    "# Recuperando apenas as correlações negativas\r\n",
    "negative_pairs = sorted_pairs[sorted_pairs < 0]\r\n",
    "print(negative_pairs)"
   ],
   "outputs": [
    {
     "output_type": "stream",
     "name": "stdout",
     "text": [
      "mean texture     mean smoothness   -0.023389\n",
      "mean smoothness  mean texture      -0.023389\n",
      "dtype: float64\n"
     ]
    }
   ],
   "metadata": {}
  },
  {
   "cell_type": "code",
   "execution_count": 28,
   "source": [
    "correlation_mat = df_small.corr(method='pearson')\r\n",
    "correlation_mat.style.background_gradient(cmap='coolwarm')"
   ],
   "outputs": [
    {
     "output_type": "execute_result",
     "data": {
      "text/html": [
       "<style type=\"text/css\">\n",
       "#T_8b186_row0_col0, #T_8b186_row0_col2, #T_8b186_row1_col1, #T_8b186_row2_col0, #T_8b186_row2_col2, #T_8b186_row3_col3, #T_8b186_row4_col4, #T_8b186_row5_col5 {\n",
       "  background-color: #b40426;\n",
       "  color: #f1f1f1;\n",
       "}\n",
       "#T_8b186_row0_col1, #T_8b186_row3_col1 {\n",
       "  background-color: #abc8fd;\n",
       "  color: #000000;\n",
       "}\n",
       "#T_8b186_row0_col3, #T_8b186_row3_col0 {\n",
       "  background-color: #b8122a;\n",
       "  color: #f1f1f1;\n",
       "}\n",
       "#T_8b186_row0_col4 {\n",
       "  background-color: #779af7;\n",
       "  color: #f1f1f1;\n",
       "}\n",
       "#T_8b186_row0_col5 {\n",
       "  background-color: #b1cbfc;\n",
       "  color: #000000;\n",
       "}\n",
       "#T_8b186_row1_col0 {\n",
       "  background-color: #7699f6;\n",
       "  color: #f1f1f1;\n",
       "}\n",
       "#T_8b186_row1_col2 {\n",
       "  background-color: #6b8df0;\n",
       "  color: #f1f1f1;\n",
       "}\n",
       "#T_8b186_row1_col3 {\n",
       "  background-color: #7295f4;\n",
       "  color: #f1f1f1;\n",
       "}\n",
       "#T_8b186_row1_col4, #T_8b186_row1_col5, #T_8b186_row4_col0, #T_8b186_row4_col1, #T_8b186_row4_col2, #T_8b186_row4_col3 {\n",
       "  background-color: #3b4cc0;\n",
       "  color: #f1f1f1;\n",
       "}\n",
       "#T_8b186_row2_col1 {\n",
       "  background-color: #aec9fc;\n",
       "  color: #000000;\n",
       "}\n",
       "#T_8b186_row2_col3, #T_8b186_row3_col2 {\n",
       "  background-color: #ba162b;\n",
       "  color: #f1f1f1;\n",
       "}\n",
       "#T_8b186_row2_col4 {\n",
       "  background-color: #84a7fc;\n",
       "  color: #f1f1f1;\n",
       "}\n",
       "#T_8b186_row2_col5 {\n",
       "  background-color: #c6d6f1;\n",
       "  color: #000000;\n",
       "}\n",
       "#T_8b186_row3_col4 {\n",
       "  background-color: #7a9df8;\n",
       "  color: #f1f1f1;\n",
       "}\n",
       "#T_8b186_row3_col5 {\n",
       "  background-color: #adc9fd;\n",
       "  color: #000000;\n",
       "}\n",
       "#T_8b186_row4_col5 {\n",
       "  background-color: #ead5c9;\n",
       "  color: #000000;\n",
       "}\n",
       "#T_8b186_row5_col0 {\n",
       "  background-color: #c1d4f4;\n",
       "  color: #000000;\n",
       "}\n",
       "#T_8b186_row5_col1 {\n",
       "  background-color: #8fb1fe;\n",
       "  color: #000000;\n",
       "}\n",
       "#T_8b186_row5_col2 {\n",
       "  background-color: #ccd9ed;\n",
       "  color: #000000;\n",
       "}\n",
       "#T_8b186_row5_col3 {\n",
       "  background-color: #bed2f6;\n",
       "  color: #000000;\n",
       "}\n",
       "#T_8b186_row5_col4 {\n",
       "  background-color: #f7b89c;\n",
       "  color: #000000;\n",
       "}\n",
       "</style>\n",
       "<table id=\"T_8b186_\">\n",
       "  <thead>\n",
       "    <tr>\n",
       "      <th class=\"blank level0\" >&nbsp;</th>\n",
       "      <th class=\"col_heading level0 col0\" >mean radius</th>\n",
       "      <th class=\"col_heading level0 col1\" >mean texture</th>\n",
       "      <th class=\"col_heading level0 col2\" >mean perimeter</th>\n",
       "      <th class=\"col_heading level0 col3\" >mean area</th>\n",
       "      <th class=\"col_heading level0 col4\" >mean smoothness</th>\n",
       "      <th class=\"col_heading level0 col5\" >mean compactness</th>\n",
       "    </tr>\n",
       "  </thead>\n",
       "  <tbody>\n",
       "    <tr>\n",
       "      <th id=\"T_8b186_level0_row0\" class=\"row_heading level0 row0\" >mean radius</th>\n",
       "      <td id=\"T_8b186_row0_col0\" class=\"data row0 col0\" >1.000000</td>\n",
       "      <td id=\"T_8b186_row0_col1\" class=\"data row0 col1\" >0.323782</td>\n",
       "      <td id=\"T_8b186_row0_col2\" class=\"data row0 col2\" >0.997855</td>\n",
       "      <td id=\"T_8b186_row0_col3\" class=\"data row0 col3\" >0.987357</td>\n",
       "      <td id=\"T_8b186_row0_col4\" class=\"data row0 col4\" >0.170581</td>\n",
       "      <td id=\"T_8b186_row0_col5\" class=\"data row0 col5\" >0.506124</td>\n",
       "    </tr>\n",
       "    <tr>\n",
       "      <th id=\"T_8b186_level0_row1\" class=\"row_heading level0 row1\" >mean texture</th>\n",
       "      <td id=\"T_8b186_row1_col0\" class=\"data row1 col0\" >0.323782</td>\n",
       "      <td id=\"T_8b186_row1_col1\" class=\"data row1 col1\" >1.000000</td>\n",
       "      <td id=\"T_8b186_row1_col2\" class=\"data row1 col2\" >0.329533</td>\n",
       "      <td id=\"T_8b186_row1_col3\" class=\"data row1 col3\" >0.321086</td>\n",
       "      <td id=\"T_8b186_row1_col4\" class=\"data row1 col4\" >-0.023389</td>\n",
       "      <td id=\"T_8b186_row1_col5\" class=\"data row1 col5\" >0.236702</td>\n",
       "    </tr>\n",
       "    <tr>\n",
       "      <th id=\"T_8b186_level0_row2\" class=\"row_heading level0 row2\" >mean perimeter</th>\n",
       "      <td id=\"T_8b186_row2_col0\" class=\"data row2 col0\" >0.997855</td>\n",
       "      <td id=\"T_8b186_row2_col1\" class=\"data row2 col1\" >0.329533</td>\n",
       "      <td id=\"T_8b186_row2_col2\" class=\"data row2 col2\" >1.000000</td>\n",
       "      <td id=\"T_8b186_row2_col3\" class=\"data row2 col3\" >0.986507</td>\n",
       "      <td id=\"T_8b186_row2_col4\" class=\"data row2 col4\" >0.207278</td>\n",
       "      <td id=\"T_8b186_row2_col5\" class=\"data row2 col5\" >0.556936</td>\n",
       "    </tr>\n",
       "    <tr>\n",
       "      <th id=\"T_8b186_level0_row3\" class=\"row_heading level0 row3\" >mean area</th>\n",
       "      <td id=\"T_8b186_row3_col0\" class=\"data row3 col0\" >0.987357</td>\n",
       "      <td id=\"T_8b186_row3_col1\" class=\"data row3 col1\" >0.321086</td>\n",
       "      <td id=\"T_8b186_row3_col2\" class=\"data row3 col2\" >0.986507</td>\n",
       "      <td id=\"T_8b186_row3_col3\" class=\"data row3 col3\" >1.000000</td>\n",
       "      <td id=\"T_8b186_row3_col4\" class=\"data row3 col4\" >0.177028</td>\n",
       "      <td id=\"T_8b186_row3_col5\" class=\"data row3 col5\" >0.498502</td>\n",
       "    </tr>\n",
       "    <tr>\n",
       "      <th id=\"T_8b186_level0_row4\" class=\"row_heading level0 row4\" >mean smoothness</th>\n",
       "      <td id=\"T_8b186_row4_col0\" class=\"data row4 col0\" >0.170581</td>\n",
       "      <td id=\"T_8b186_row4_col1\" class=\"data row4 col1\" >-0.023389</td>\n",
       "      <td id=\"T_8b186_row4_col2\" class=\"data row4 col2\" >0.207278</td>\n",
       "      <td id=\"T_8b186_row4_col3\" class=\"data row4 col3\" >0.177028</td>\n",
       "      <td id=\"T_8b186_row4_col4\" class=\"data row4 col4\" >1.000000</td>\n",
       "      <td id=\"T_8b186_row4_col5\" class=\"data row4 col5\" >0.659123</td>\n",
       "    </tr>\n",
       "    <tr>\n",
       "      <th id=\"T_8b186_level0_row5\" class=\"row_heading level0 row5\" >mean compactness</th>\n",
       "      <td id=\"T_8b186_row5_col0\" class=\"data row5 col0\" >0.506124</td>\n",
       "      <td id=\"T_8b186_row5_col1\" class=\"data row5 col1\" >0.236702</td>\n",
       "      <td id=\"T_8b186_row5_col2\" class=\"data row5 col2\" >0.556936</td>\n",
       "      <td id=\"T_8b186_row5_col3\" class=\"data row5 col3\" >0.498502</td>\n",
       "      <td id=\"T_8b186_row5_col4\" class=\"data row5 col4\" >0.659123</td>\n",
       "      <td id=\"T_8b186_row5_col5\" class=\"data row5 col5\" >1.000000</td>\n",
       "    </tr>\n",
       "  </tbody>\n",
       "</table>\n"
      ],
      "text/plain": [
       "<pandas.io.formats.style.Styler at 0x1f9a0f264f0>"
      ]
     },
     "metadata": {},
     "execution_count": 28
    }
   ],
   "metadata": {}
  },
  {
   "cell_type": "markdown",
   "source": [
    "### Seleção dos Pares de Correlação Fortes(Acima de 0.5)"
   ],
   "metadata": {}
  },
  {
   "cell_type": "code",
   "execution_count": 29,
   "source": [
    "strong_pairs = sorted_pairs[sorted_pairs > 0.5]\r\n",
    "print(strong_pairs)"
   ],
   "outputs": [
    {
     "output_type": "stream",
     "name": "stdout",
     "text": [
      "mean compactness  mean radius         0.506124\n",
      "mean radius       mean compactness    0.506124\n",
      "mean perimeter    mean compactness    0.556936\n",
      "mean compactness  mean perimeter      0.556936\n",
      "                  mean smoothness     0.659123\n",
      "mean smoothness   mean compactness    0.659123\n",
      "mean perimeter    mean area           0.986507\n",
      "mean area         mean perimeter      0.986507\n",
      "                  mean radius         0.987357\n",
      "mean radius       mean area           0.987357\n",
      "mean perimeter    mean radius         0.997855\n",
      "mean radius       mean perimeter      0.997855\n",
      "                  mean radius         1.000000\n",
      "mean area         mean area           1.000000\n",
      "mean perimeter    mean perimeter      1.000000\n",
      "mean texture      mean texture        1.000000\n",
      "mean smoothness   mean smoothness     1.000000\n",
      "mean compactness  mean compactness    1.000000\n",
      "dtype: float64\n"
     ]
    }
   ],
   "metadata": {}
  },
  {
   "cell_type": "code",
   "execution_count": 30,
   "source": [
    "strong_pairs2 = corr_pairs[corr_pairs > 0.5]\r\n",
    "print(strong_pairs2)"
   ],
   "outputs": [
    {
     "output_type": "stream",
     "name": "stdout",
     "text": [
      "mean radius       mean radius         1.000000\n",
      "                  mean perimeter      0.997855\n",
      "                  mean area           0.987357\n",
      "                  mean compactness    0.506124\n",
      "mean texture      mean texture        1.000000\n",
      "mean perimeter    mean radius         0.997855\n",
      "                  mean perimeter      1.000000\n",
      "                  mean area           0.986507\n",
      "                  mean compactness    0.556936\n",
      "mean area         mean radius         0.987357\n",
      "                  mean perimeter      0.986507\n",
      "                  mean area           1.000000\n",
      "mean smoothness   mean smoothness     1.000000\n",
      "                  mean compactness    0.659123\n",
      "mean compactness  mean radius         0.506124\n",
      "                  mean perimeter      0.556936\n",
      "                  mean smoothness     0.659123\n",
      "                  mean compactness    1.000000\n",
      "dtype: float64\n"
     ]
    }
   ],
   "metadata": {}
  },
  {
   "cell_type": "code",
   "execution_count": null,
   "source": [],
   "outputs": [],
   "metadata": {}
  }
 ],
 "metadata": {
  "orig_nbformat": 4,
  "language_info": {
   "name": "python",
   "version": "3.9.7",
   "mimetype": "text/x-python",
   "codemirror_mode": {
    "name": "ipython",
    "version": 3
   },
   "pygments_lexer": "ipython3",
   "nbconvert_exporter": "python",
   "file_extension": ".py"
  },
  "kernelspec": {
   "name": "python3",
   "display_name": "Python 3.9.7 64-bit ('venv': venv)"
  },
  "interpreter": {
   "hash": "37ff9d6be2d9a7b6045b0654f2d891c4594e8050d0526a4f674c447fb6050318"
  }
 },
 "nbformat": 4,
 "nbformat_minor": 2
}